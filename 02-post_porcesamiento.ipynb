{
 "cells": [
  {
   "cell_type": "code",
   "execution_count": 23,
   "id": "54f972a6-32d0-49c6-9ff9-f2692742d240",
   "metadata": {},
   "outputs": [],
   "source": [
    "import pandas as pd\n",
    "import geopandas as gpd\n",
    "import numpy as np\n",
    "from geopandas.tools import sjoin\n",
    "import matplotlib.pyplot as plt"
   ]
  },
  {
   "cell_type": "code",
   "execution_count": 4,
   "id": "3e7f68d8-fb98-483e-ab69-038001c39bbe",
   "metadata": {},
   "outputs": [
    {
     "name": "stdout",
     "output_type": "stream",
     "text": [
      "(597, 10)\n"
     ]
    },
    {
     "data": {
      "text/html": [
       "<div>\n",
       "<style scoped>\n",
       "    .dataframe tbody tr th:only-of-type {\n",
       "        vertical-align: middle;\n",
       "    }\n",
       "\n",
       "    .dataframe tbody tr th {\n",
       "        vertical-align: top;\n",
       "    }\n",
       "\n",
       "    .dataframe thead th {\n",
       "        text-align: right;\n",
       "    }\n",
       "</style>\n",
       "<table border=\"1\" class=\"dataframe\">\n",
       "  <thead>\n",
       "    <tr style=\"text-align: right;\">\n",
       "      <th></th>\n",
       "      <th>desc</th>\n",
       "      <th>valor</th>\n",
       "      <th>metraje</th>\n",
       "      <th>url</th>\n",
       "      <th>lat</th>\n",
       "      <th>lng</th>\n",
       "      <th>dormitorios</th>\n",
       "      <th>barrio</th>\n",
       "      <th>barrio_ine</th>\n",
       "      <th>cod_barrio_ine</th>\n",
       "    </tr>\n",
       "  </thead>\n",
       "  <tbody>\n",
       "    <tr>\n",
       "      <th>0</th>\n",
       "      <td>3 Dormitorios en Aires Puros</td>\n",
       "      <td>190000</td>\n",
       "      <td>110.0</td>\n",
       "      <td>https://www.gallito.com.uy/excelente-garaje-2-...</td>\n",
       "      <td>NaN</td>\n",
       "      <td>NaN</td>\n",
       "      <td>3 Dormitorios</td>\n",
       "      <td>Aires Puros</td>\n",
       "      <td>Aires Puros</td>\n",
       "      <td>29.0</td>\n",
       "    </tr>\n",
       "    <tr>\n",
       "      <th>1</th>\n",
       "      <td>2 Dormitorios en Colon</td>\n",
       "      <td>45000</td>\n",
       "      <td>50.0</td>\n",
       "      <td>https://www.gallito.com.uy/oficina-sosa-proxim...</td>\n",
       "      <td>-34.80505</td>\n",
       "      <td>-56.23007</td>\n",
       "      <td>2 Dormitorios</td>\n",
       "      <td>Colon</td>\n",
       "      <td>Colón Sureste, Abayubá</td>\n",
       "      <td>58.0</td>\n",
       "    </tr>\n",
       "    <tr>\n",
       "      <th>2</th>\n",
       "      <td>4 Dormitorios en Cerrito</td>\n",
       "      <td>45000</td>\n",
       "      <td>97.0</td>\n",
       "      <td>https://www.gallito.com.uy/oportunidad-casa-de...</td>\n",
       "      <td>-34.85944</td>\n",
       "      <td>-56.15642</td>\n",
       "      <td>4 Dormitorios</td>\n",
       "      <td>Cerrito</td>\n",
       "      <td>Cerrito</td>\n",
       "      <td>27.0</td>\n",
       "    </tr>\n",
       "    <tr>\n",
       "      <th>3</th>\n",
       "      <td>1 Dormitorio en Villa Española</td>\n",
       "      <td>48000</td>\n",
       "      <td>39.0</td>\n",
       "      <td>https://www.gallito.com.uy/oficina-sosa-apto-1...</td>\n",
       "      <td>-32.87555</td>\n",
       "      <td>-56.02015</td>\n",
       "      <td>1 Dormitorio</td>\n",
       "      <td>Villa Española</td>\n",
       "      <td>Villa Española</td>\n",
       "      <td>24.0</td>\n",
       "    </tr>\n",
       "    <tr>\n",
       "      <th>4</th>\n",
       "      <td>2 Dormitorios en La Teja</td>\n",
       "      <td>48000</td>\n",
       "      <td>50.0</td>\n",
       "      <td>https://www.gallito.com.uy/casa-a-1-cuadra-de-...</td>\n",
       "      <td>-34.86604</td>\n",
       "      <td>-56.23782</td>\n",
       "      <td>2 Dormitorios</td>\n",
       "      <td>La Teja</td>\n",
       "      <td>La Teja</td>\n",
       "      <td>38.0</td>\n",
       "    </tr>\n",
       "  </tbody>\n",
       "</table>\n",
       "</div>"
      ],
      "text/plain": [
       "                             desc   valor  metraje  \\\n",
       "0    3 Dormitorios en Aires Puros  190000    110.0   \n",
       "1          2 Dormitorios en Colon   45000     50.0   \n",
       "2        4 Dormitorios en Cerrito   45000     97.0   \n",
       "3  1 Dormitorio en Villa Española   48000     39.0   \n",
       "4        2 Dormitorios en La Teja   48000     50.0   \n",
       "\n",
       "                                                 url       lat       lng  \\\n",
       "0  https://www.gallito.com.uy/excelente-garaje-2-...       NaN       NaN   \n",
       "1  https://www.gallito.com.uy/oficina-sosa-proxim... -34.80505 -56.23007   \n",
       "2  https://www.gallito.com.uy/oportunidad-casa-de... -34.85944 -56.15642   \n",
       "3  https://www.gallito.com.uy/oficina-sosa-apto-1... -32.87555 -56.02015   \n",
       "4  https://www.gallito.com.uy/casa-a-1-cuadra-de-... -34.86604 -56.23782   \n",
       "\n",
       "     dormitorios          barrio              barrio_ine  cod_barrio_ine  \n",
       "0  3 Dormitorios     Aires Puros             Aires Puros            29.0  \n",
       "1  2 Dormitorios           Colon  Colón Sureste, Abayubá            58.0  \n",
       "2  4 Dormitorios         Cerrito                 Cerrito            27.0  \n",
       "3   1 Dormitorio  Villa Española          Villa Española            24.0  \n",
       "4  2 Dormitorios         La Teja                 La Teja            38.0  "
      ]
     },
     "execution_count": 4,
     "metadata": {},
     "output_type": "execute_result"
    }
   ],
   "source": [
    "data = pd.read_csv('data/ventas_mvdeo_2022-08-03_depurado.csv')\n",
    "print(data.shape)\n",
    "data.head()"
   ]
  },
  {
   "cell_type": "code",
   "execution_count": 5,
   "id": "f057770a-e749-425b-b946-b7413c04f88d",
   "metadata": {},
   "outputs": [
    {
     "name": "stdout",
     "output_type": "stream",
     "text": [
      "Sin coordenadas: 168\n"
     ]
    }
   ],
   "source": [
    "print('Sin coordenadas:', sum(data.lat.isna()))"
   ]
  },
  {
   "cell_type": "code",
   "execution_count": 6,
   "id": "ea3de0fc-f4e6-4028-9b3a-c0a018161f34",
   "metadata": {},
   "outputs": [
    {
     "data": {
      "text/html": [
       "<div>\n",
       "<style scoped>\n",
       "    .dataframe tbody tr th:only-of-type {\n",
       "        vertical-align: middle;\n",
       "    }\n",
       "\n",
       "    .dataframe tbody tr th {\n",
       "        vertical-align: top;\n",
       "    }\n",
       "\n",
       "    .dataframe thead th {\n",
       "        text-align: right;\n",
       "    }\n",
       "</style>\n",
       "<table border=\"1\" class=\"dataframe\">\n",
       "  <thead>\n",
       "    <tr style=\"text-align: right;\">\n",
       "      <th></th>\n",
       "      <th>desc</th>\n",
       "      <th>valor</th>\n",
       "      <th>metraje</th>\n",
       "      <th>url</th>\n",
       "      <th>lat</th>\n",
       "      <th>lng</th>\n",
       "      <th>dormitorios</th>\n",
       "      <th>barrio</th>\n",
       "      <th>barrio_ine</th>\n",
       "      <th>cod_barrio_ine</th>\n",
       "      <th>geometry</th>\n",
       "      <th>valor_metro</th>\n",
       "    </tr>\n",
       "  </thead>\n",
       "  <tbody>\n",
       "    <tr>\n",
       "      <th>0</th>\n",
       "      <td>3 Dormitorios en Aires Puros</td>\n",
       "      <td>190000</td>\n",
       "      <td>110.0</td>\n",
       "      <td>https://www.gallito.com.uy/excelente-garaje-2-...</td>\n",
       "      <td>NaN</td>\n",
       "      <td>NaN</td>\n",
       "      <td>3 Dormitorios</td>\n",
       "      <td>Aires Puros</td>\n",
       "      <td>Aires Puros</td>\n",
       "      <td>29.0</td>\n",
       "      <td>POINT EMPTY</td>\n",
       "      <td>1727.272727</td>\n",
       "    </tr>\n",
       "    <tr>\n",
       "      <th>1</th>\n",
       "      <td>2 Dormitorios en Colon</td>\n",
       "      <td>45000</td>\n",
       "      <td>50.0</td>\n",
       "      <td>https://www.gallito.com.uy/oficina-sosa-proxim...</td>\n",
       "      <td>-34.80505</td>\n",
       "      <td>-56.23007</td>\n",
       "      <td>2 Dormitorios</td>\n",
       "      <td>Colon</td>\n",
       "      <td>Colón Sureste, Abayubá</td>\n",
       "      <td>58.0</td>\n",
       "      <td>POINT (570424.356 6148305.711)</td>\n",
       "      <td>900.000000</td>\n",
       "    </tr>\n",
       "  </tbody>\n",
       "</table>\n",
       "</div>"
      ],
      "text/plain": [
       "                           desc   valor  metraje  \\\n",
       "0  3 Dormitorios en Aires Puros  190000    110.0   \n",
       "1        2 Dormitorios en Colon   45000     50.0   \n",
       "\n",
       "                                                 url       lat       lng  \\\n",
       "0  https://www.gallito.com.uy/excelente-garaje-2-...       NaN       NaN   \n",
       "1  https://www.gallito.com.uy/oficina-sosa-proxim... -34.80505 -56.23007   \n",
       "\n",
       "     dormitorios       barrio              barrio_ine  cod_barrio_ine  \\\n",
       "0  3 Dormitorios  Aires Puros             Aires Puros            29.0   \n",
       "1  2 Dormitorios        Colon  Colón Sureste, Abayubá            58.0   \n",
       "\n",
       "                         geometry  valor_metro  \n",
       "0                     POINT EMPTY  1727.272727  \n",
       "1  POINT (570424.356 6148305.711)   900.000000  "
      ]
     },
     "execution_count": 6,
     "metadata": {},
     "output_type": "execute_result"
    }
   ],
   "source": [
    "geodata = gpd.GeoDataFrame(data, geometry=gpd.points_from_xy(data.lng, data.lat), crs=4326).to_crs(32721)\n",
    "\n",
    "geodata['valor_metro'] = geodata.valor / geodata.metraje\n",
    "\n",
    "geodata.head(2)"
   ]
  },
  {
   "cell_type": "code",
   "execution_count": 24,
   "id": "f7c31aee",
   "metadata": {},
   "outputs": [
    {
     "data": {
      "image/png": "[encoded data removed]",
      "text/plain": [
       "<Figure size 432x288 with 1 Axes>"
      ]
     },
     "metadata": {
      "needs_background": "light"
     },
     "output_type": "display_data"
    }
   ],
   "source": [
    "plt.hist(geodata['valor_metro'], bins='auto')\n",
    "\n",
    "plt.show()"
   ]
  },
  {
   "cell_type": "code",
   "execution_count": 8,
   "id": "7b55fae6",
   "metadata": {},
   "outputs": [
    {
     "data": {
      "text/plain": [
       "count    5.970000e+02\n",
       "mean     3.244379e+05\n",
       "std      3.651381e+05\n",
       "min      4.500000e+04\n",
       "5%       5.000000e+04\n",
       "50%      2.100000e+05\n",
       "95%      1.490000e+06\n",
       "max      1.800000e+06\n",
       "Name: valor, dtype: float64"
      ]
     },
     "execution_count": 8,
     "metadata": {},
     "output_type": "execute_result"
    }
   ],
   "source": [
    "geodata['valor'].describe(percentiles=[.05, .5, .95])"
   ]
  },
  {
   "cell_type": "code",
   "execution_count": 9,
   "id": "464b59ff",
   "metadata": {},
   "outputs": [
    {
     "data": {
      "text/plain": [
       "count     500.000000\n",
       "mean      194.090000\n",
       "std       212.502538\n",
       "min         1.000000\n",
       "5%         45.000000\n",
       "50%       132.500000\n",
       "95%       541.000000\n",
       "max      2662.000000\n",
       "Name: metraje, dtype: float64"
      ]
     },
     "execution_count": 9,
     "metadata": {},
     "output_type": "execute_result"
    }
   ],
   "source": [
    "geodata['metraje'].describe(percentiles=[.05, .5, .95])"
   ]
  },
  {
   "cell_type": "code",
   "execution_count": 10,
   "id": "20c21c13",
   "metadata": {},
   "outputs": [
    {
     "data": {
      "text/plain": [
       "count     500.000000\n",
       "mean      194.090000\n",
       "std       212.502538\n",
       "min         1.000000\n",
       "5%         45.000000\n",
       "50%       132.500000\n",
       "95%       541.000000\n",
       "max      2662.000000\n",
       "Name: metraje, dtype: float64"
      ]
     },
     "execution_count": 10,
     "metadata": {},
     "output_type": "execute_result"
    }
   ],
   "source": [
    "geodata['metraje'].describe(percentiles=[.05, .5, .95])"
   ]
  },
  {
   "cell_type": "code",
   "execution_count": 11,
   "id": "f9879521",
   "metadata": {},
   "outputs": [
    {
     "data": {
      "text/html": [
       "<div>\n",
       "<style scoped>\n",
       "    .dataframe tbody tr th:only-of-type {\n",
       "        vertical-align: middle;\n",
       "    }\n",
       "\n",
       "    .dataframe tbody tr th {\n",
       "        vertical-align: top;\n",
       "    }\n",
       "\n",
       "    .dataframe thead th {\n",
       "        text-align: right;\n",
       "    }\n",
       "</style>\n",
       "<table border=\"1\" class=\"dataframe\">\n",
       "  <thead>\n",
       "    <tr style=\"text-align: right;\">\n",
       "      <th></th>\n",
       "      <th>desc</th>\n",
       "      <th>valor</th>\n",
       "      <th>metraje</th>\n",
       "      <th>url</th>\n",
       "      <th>lat</th>\n",
       "      <th>lng</th>\n",
       "      <th>dormitorios</th>\n",
       "      <th>barrio</th>\n",
       "      <th>barrio_ine</th>\n",
       "      <th>cod_barrio_ine</th>\n",
       "      <th>geometry</th>\n",
       "      <th>valor_metro</th>\n",
       "    </tr>\n",
       "  </thead>\n",
       "  <tbody>\n",
       "  </tbody>\n",
       "</table>\n",
       "</div>"
      ],
      "text/plain": [
       "Empty GeoDataFrame\n",
       "Columns: [desc, valor, metraje, url, lat, lng, dormitorios, barrio, barrio_ine, cod_barrio_ine, geometry, valor_metro]\n",
       "Index: []"
      ]
     },
     "execution_count": 11,
     "metadata": {},
     "output_type": "execute_result"
    }
   ],
   "source": [
    "geodata[geodata['valor_metro'] == 6.000000e+06]"
   ]
  },
  {
   "cell_type": "code",
   "execution_count": 12,
   "id": "c5bcc620",
   "metadata": {},
   "outputs": [
    {
     "data": {
      "text/plain": [
       "2662.0"
      ]
     },
     "execution_count": 12,
     "metadata": {},
     "output_type": "execute_result"
    }
   ],
   "source": [
    "max(geodata.metraje)"
   ]
  },
  {
   "cell_type": "code",
   "execution_count": 13,
   "id": "53cc8a14",
   "metadata": {},
   "outputs": [
    {
     "data": {
      "text/html": [
       "<div>\n",
       "<style scoped>\n",
       "    .dataframe tbody tr th:only-of-type {\n",
       "        vertical-align: middle;\n",
       "    }\n",
       "\n",
       "    .dataframe tbody tr th {\n",
       "        vertical-align: top;\n",
       "    }\n",
       "\n",
       "    .dataframe thead th {\n",
       "        text-align: right;\n",
       "    }\n",
       "</style>\n",
       "<table border=\"1\" class=\"dataframe\">\n",
       "  <thead>\n",
       "    <tr style=\"text-align: right;\">\n",
       "      <th></th>\n",
       "      <th>desc</th>\n",
       "      <th>valor</th>\n",
       "      <th>metraje</th>\n",
       "      <th>url</th>\n",
       "      <th>lat</th>\n",
       "      <th>lng</th>\n",
       "      <th>dormitorios</th>\n",
       "      <th>barrio</th>\n",
       "      <th>barrio_ine</th>\n",
       "      <th>cod_barrio_ine</th>\n",
       "      <th>geometry</th>\n",
       "      <th>valor_metro</th>\n",
       "    </tr>\n",
       "  </thead>\n",
       "  <tbody>\n",
       "  </tbody>\n",
       "</table>\n",
       "</div>"
      ],
      "text/plain": [
       "Empty GeoDataFrame\n",
       "Columns: [desc, valor, metraje, url, lat, lng, dormitorios, barrio, barrio_ine, cod_barrio_ine, geometry, valor_metro]\n",
       "Index: []"
      ]
     },
     "execution_count": 13,
     "metadata": {},
     "output_type": "execute_result"
    }
   ],
   "source": [
    "geodata[geodata['metraje'] > 5000]"
   ]
  },
  {
   "cell_type": "code",
   "execution_count": 25,
   "id": "b315266d",
   "metadata": {},
   "outputs": [
    {
     "data": {
      "image/png": "[encoded data removed]",
      "text/plain": [
       "<Figure size 432x288 with 1 Axes>"
      ]
     },
     "metadata": {
      "needs_background": "light"
     },
     "output_type": "display_data"
    }
   ],
   "source": [
    "# depura outliers\n",
    "geodata = geodata.loc[(geodata.metraje > 10) & (geodata.metraje < 5000)]\n",
    "\n",
    "plt.hist(geodata['valor_metro'], bins='auto')\n",
    "\n",
    "plt.show()"
   ]
  },
  {
   "cell_type": "code",
   "execution_count": 26,
   "id": "ef6f556f-c21c-4f0a-a6cb-74817a2343e6",
   "metadata": {},
   "outputs": [
    {
     "data": {
      "text/html": [
       "<div>\n",
       "<style scoped>\n",
       "    .dataframe tbody tr th:only-of-type {\n",
       "        vertical-align: middle;\n",
       "    }\n",
       "\n",
       "    .dataframe tbody tr th {\n",
       "        vertical-align: top;\n",
       "    }\n",
       "\n",
       "    .dataframe thead th {\n",
       "        text-align: right;\n",
       "    }\n",
       "</style>\n",
       "<table border=\"1\" class=\"dataframe\">\n",
       "  <thead>\n",
       "    <tr style=\"text-align: right;\">\n",
       "      <th></th>\n",
       "      <th>area_km</th>\n",
       "      <th>nombbarr</th>\n",
       "      <th>nrobarrio</th>\n",
       "      <th>geometry</th>\n",
       "    </tr>\n",
       "  </thead>\n",
       "  <tbody>\n",
       "    <tr>\n",
       "      <th>0</th>\n",
       "      <td>2.111</td>\n",
       "      <td>CIUDAD VIEJA</td>\n",
       "      <td>1</td>\n",
       "      <td>POLYGON ((573146.276 6137144.661, 573148.256 6...</td>\n",
       "    </tr>\n",
       "    <tr>\n",
       "      <th>1</th>\n",
       "      <td>31.795</td>\n",
       "      <td>COLON SURESTE - ABAYUBA</td>\n",
       "      <td>58</td>\n",
       "      <td>POLYGON ((571329.308 6147787.334, 571320.034 6...</td>\n",
       "    </tr>\n",
       "  </tbody>\n",
       "</table>\n",
       "</div>"
      ],
      "text/plain": [
       "   area_km                 nombbarr  nrobarrio  \\\n",
       "0    2.111             CIUDAD VIEJA          1   \n",
       "1   31.795  COLON SURESTE - ABAYUBA         58   \n",
       "\n",
       "                                            geometry  \n",
       "0  POLYGON ((573146.276 6137144.661, 573148.256 6...  \n",
       "1  POLYGON ((571329.308 6147787.334, 571320.034 6...  "
      ]
     },
     "execution_count": 26,
     "metadata": {},
     "output_type": "execute_result"
    }
   ],
   "source": [
    "barrios = gpd.read_file('capas/barrios_ine_uy.zip').set_crs(32721)\n",
    "barrios.head(2)"
   ]
  },
  {
   "cell_type": "code",
   "execution_count": 27,
   "id": "8c7b252a-6de0-4f9f-a5b7-d3ad5a663139",
   "metadata": {},
   "outputs": [
    {
     "data": {
      "text/html": [
       "<div>\n",
       "<style scoped>\n",
       "    .dataframe tbody tr th:only-of-type {\n",
       "        vertical-align: middle;\n",
       "    }\n",
       "\n",
       "    .dataframe tbody tr th {\n",
       "        vertical-align: top;\n",
       "    }\n",
       "\n",
       "    .dataframe thead th {\n",
       "        text-align: right;\n",
       "    }\n",
       "</style>\n",
       "<table border=\"1\" class=\"dataframe\">\n",
       "  <thead>\n",
       "    <tr style=\"text-align: right;\">\n",
       "      <th></th>\n",
       "      <th>desc</th>\n",
       "      <th>valor</th>\n",
       "      <th>metraje</th>\n",
       "      <th>url</th>\n",
       "      <th>lat</th>\n",
       "      <th>lng</th>\n",
       "      <th>dormitorios</th>\n",
       "      <th>barrio</th>\n",
       "      <th>barrio_ine</th>\n",
       "      <th>cod_barrio_ine</th>\n",
       "      <th>geometry</th>\n",
       "      <th>valor_metro</th>\n",
       "      <th>index_right</th>\n",
       "      <th>nrobarrio</th>\n",
       "    </tr>\n",
       "  </thead>\n",
       "  <tbody>\n",
       "    <tr>\n",
       "      <th>0</th>\n",
       "      <td>3 Dormitorios en Aires Puros</td>\n",
       "      <td>190000</td>\n",
       "      <td>110.0</td>\n",
       "      <td>https://www.gallito.com.uy/excelente-garaje-2-...</td>\n",
       "      <td>NaN</td>\n",
       "      <td>NaN</td>\n",
       "      <td>3 Dormitorios</td>\n",
       "      <td>Aires Puros</td>\n",
       "      <td>Aires Puros</td>\n",
       "      <td>29.0</td>\n",
       "      <td>POINT EMPTY</td>\n",
       "      <td>1727.272727</td>\n",
       "      <td>NaN</td>\n",
       "      <td>NaN</td>\n",
       "    </tr>\n",
       "    <tr>\n",
       "      <th>1</th>\n",
       "      <td>2 Dormitorios en Colon</td>\n",
       "      <td>45000</td>\n",
       "      <td>50.0</td>\n",
       "      <td>https://www.gallito.com.uy/oficina-sosa-proxim...</td>\n",
       "      <td>-34.80505</td>\n",
       "      <td>-56.23007</td>\n",
       "      <td>2 Dormitorios</td>\n",
       "      <td>Colon</td>\n",
       "      <td>Colón Sureste, Abayubá</td>\n",
       "      <td>58.0</td>\n",
       "      <td>POINT (570424.356 6148305.711)</td>\n",
       "      <td>900.000000</td>\n",
       "      <td>59.0</td>\n",
       "      <td>59.0</td>\n",
       "    </tr>\n",
       "  </tbody>\n",
       "</table>\n",
       "</div>"
      ],
      "text/plain": [
       "                           desc   valor  metraje  \\\n",
       "0  3 Dormitorios en Aires Puros  190000    110.0   \n",
       "1        2 Dormitorios en Colon   45000     50.0   \n",
       "\n",
       "                                                 url       lat       lng  \\\n",
       "0  https://www.gallito.com.uy/excelente-garaje-2-...       NaN       NaN   \n",
       "1  https://www.gallito.com.uy/oficina-sosa-proxim... -34.80505 -56.23007   \n",
       "\n",
       "     dormitorios       barrio              barrio_ine  cod_barrio_ine  \\\n",
       "0  3 Dormitorios  Aires Puros             Aires Puros            29.0   \n",
       "1  2 Dormitorios        Colon  Colón Sureste, Abayubá            58.0   \n",
       "\n",
       "                         geometry  valor_metro  index_right  nrobarrio  \n",
       "0                     POINT EMPTY  1727.272727          NaN        NaN  \n",
       "1  POINT (570424.356 6148305.711)   900.000000         59.0       59.0  "
      ]
     },
     "execution_count": 27,
     "metadata": {},
     "output_type": "execute_result"
    }
   ],
   "source": [
    "pegue = sjoin(geodata, barrios.loc[:,['nrobarrio', 'geometry']], how=\"left\")\n",
    "pegue.head(2)"
   ]
  },
  {
   "cell_type": "code",
   "execution_count": 28,
   "id": "b5658366-5401-4e05-9621-3a252af9a703",
   "metadata": {},
   "outputs": [],
   "source": [
    "pegue.loc[(pegue.barrio != pegue.barrio_ine) & (~pegue.nrobarrio.isna()), 'cod_barrio_ine'] = pegue.nrobarrio"
   ]
  },
  {
   "cell_type": "code",
   "execution_count": 29,
   "id": "3935ed3a-d572-4bba-a2da-e1572e0f0170",
   "metadata": {},
   "outputs": [
    {
     "data": {
      "text/html": [
       "<div>\n",
       "<style scoped>\n",
       "    .dataframe tbody tr th:only-of-type {\n",
       "        vertical-align: middle;\n",
       "    }\n",
       "\n",
       "    .dataframe tbody tr th {\n",
       "        vertical-align: top;\n",
       "    }\n",
       "\n",
       "    .dataframe thead th {\n",
       "        text-align: right;\n",
       "    }\n",
       "</style>\n",
       "<table border=\"1\" class=\"dataframe\">\n",
       "  <thead>\n",
       "    <tr style=\"text-align: right;\">\n",
       "      <th></th>\n",
       "      <th>desc</th>\n",
       "      <th>valor</th>\n",
       "      <th>metraje</th>\n",
       "      <th>url</th>\n",
       "      <th>lat</th>\n",
       "      <th>lng</th>\n",
       "      <th>dormitorios</th>\n",
       "      <th>barrio</th>\n",
       "      <th>barrio_ine</th>\n",
       "      <th>cod_barrio_ine</th>\n",
       "      <th>geometry</th>\n",
       "      <th>valor_metro</th>\n",
       "      <th>index_right</th>\n",
       "      <th>nrobarrio</th>\n",
       "    </tr>\n",
       "  </thead>\n",
       "  <tbody>\n",
       "    <tr>\n",
       "      <th>0</th>\n",
       "      <td>3 Dormitorios en Aires Puros</td>\n",
       "      <td>190000</td>\n",
       "      <td>110.0</td>\n",
       "      <td>https://www.gallito.com.uy/excelente-garaje-2-...</td>\n",
       "      <td>NaN</td>\n",
       "      <td>NaN</td>\n",
       "      <td>3 Dormitorios</td>\n",
       "      <td>Aires Puros</td>\n",
       "      <td>Aires Puros</td>\n",
       "      <td>29.0</td>\n",
       "      <td>POINT EMPTY</td>\n",
       "      <td>1727.272727</td>\n",
       "      <td>NaN</td>\n",
       "      <td>NaN</td>\n",
       "    </tr>\n",
       "    <tr>\n",
       "      <th>1</th>\n",
       "      <td>2 Dormitorios en Colon</td>\n",
       "      <td>45000</td>\n",
       "      <td>50.0</td>\n",
       "      <td>https://www.gallito.com.uy/oficina-sosa-proxim...</td>\n",
       "      <td>-34.80505</td>\n",
       "      <td>-56.23007</td>\n",
       "      <td>2 Dormitorios</td>\n",
       "      <td>Colon</td>\n",
       "      <td>Colón Sureste, Abayubá</td>\n",
       "      <td>59.0</td>\n",
       "      <td>POINT (570424.356 6148305.711)</td>\n",
       "      <td>900.000000</td>\n",
       "      <td>59.0</td>\n",
       "      <td>59.0</td>\n",
       "    </tr>\n",
       "  </tbody>\n",
       "</table>\n",
       "</div>"
      ],
      "text/plain": [
       "                           desc   valor  metraje  \\\n",
       "0  3 Dormitorios en Aires Puros  190000    110.0   \n",
       "1        2 Dormitorios en Colon   45000     50.0   \n",
       "\n",
       "                                                 url       lat       lng  \\\n",
       "0  https://www.gallito.com.uy/excelente-garaje-2-...       NaN       NaN   \n",
       "1  https://www.gallito.com.uy/oficina-sosa-proxim... -34.80505 -56.23007   \n",
       "\n",
       "     dormitorios       barrio              barrio_ine  cod_barrio_ine  \\\n",
       "0  3 Dormitorios  Aires Puros             Aires Puros            29.0   \n",
       "1  2 Dormitorios        Colon  Colón Sureste, Abayubá            59.0   \n",
       "\n",
       "                         geometry  valor_metro  index_right  nrobarrio  \n",
       "0                     POINT EMPTY  1727.272727          NaN        NaN  \n",
       "1  POINT (570424.356 6148305.711)   900.000000         59.0       59.0  "
      ]
     },
     "execution_count": 29,
     "metadata": {},
     "output_type": "execute_result"
    }
   ],
   "source": [
    "pegue.head(2)"
   ]
  },
  {
   "cell_type": "code",
   "execution_count": 30,
   "id": "d30eb200-b10d-4688-93ff-e35833e7877a",
   "metadata": {},
   "outputs": [
    {
     "data": {
      "text/plain": [
       "(81, 14)"
      ]
     },
     "execution_count": 30,
     "metadata": {},
     "output_type": "execute_result"
    }
   ],
   "source": [
    "raros = pegue.loc[(pegue.cod_barrio_ine != pegue.nrobarrio) & (~pegue.nrobarrio.isna())]\n",
    "raros.shape\n"
   ]
  },
  {
   "cell_type": "code",
   "execution_count": 31,
   "id": "7af15142-3bc5-4692-beda-8d37812124e5",
   "metadata": {},
   "outputs": [],
   "source": [
    "pegue.loc[(pegue.barrio != pegue.barrio_ine) & (~pegue.nrobarrio.isna()), 'cod_barrio_ine'] = pegue.nrobarrio"
   ]
  },
  {
   "cell_type": "code",
   "execution_count": 32,
   "id": "abdd9081-d3df-44a6-9c7d-1f5fbc9886ac",
   "metadata": {},
   "outputs": [
    {
     "data": {
      "text/html": [
       "<div>\n",
       "<style scoped>\n",
       "    .dataframe tbody tr th:only-of-type {\n",
       "        vertical-align: middle;\n",
       "    }\n",
       "\n",
       "    .dataframe tbody tr th {\n",
       "        vertical-align: top;\n",
       "    }\n",
       "\n",
       "    .dataframe thead th {\n",
       "        text-align: right;\n",
       "    }\n",
       "</style>\n",
       "<table border=\"1\" class=\"dataframe\">\n",
       "  <thead>\n",
       "    <tr style=\"text-align: right;\">\n",
       "      <th></th>\n",
       "      <th>cod_barrio_ine</th>\n",
       "      <th>valor</th>\n",
       "      <th>metraje</th>\n",
       "      <th>lat</th>\n",
       "      <th>lng</th>\n",
       "      <th>valor_metro</th>\n",
       "      <th>index_right</th>\n",
       "      <th>nrobarrio</th>\n",
       "    </tr>\n",
       "  </thead>\n",
       "  <tbody>\n",
       "    <tr>\n",
       "      <th>0</th>\n",
       "      <td>1</td>\n",
       "      <td>304000.0</td>\n",
       "      <td>205.0</td>\n",
       "      <td>-34.905220</td>\n",
       "      <td>-56.205750</td>\n",
       "      <td>1495.000000</td>\n",
       "      <td>0.0</td>\n",
       "      <td>1.0</td>\n",
       "    </tr>\n",
       "    <tr>\n",
       "      <th>1</th>\n",
       "      <td>2</td>\n",
       "      <td>140000.0</td>\n",
       "      <td>140.0</td>\n",
       "      <td>-34.907210</td>\n",
       "      <td>-56.190270</td>\n",
       "      <td>944.301587</td>\n",
       "      <td>9.0</td>\n",
       "      <td>2.0</td>\n",
       "    </tr>\n",
       "    <tr>\n",
       "      <th>2</th>\n",
       "      <td>3</td>\n",
       "      <td>175000.0</td>\n",
       "      <td>177.0</td>\n",
       "      <td>-34.911430</td>\n",
       "      <td>-56.190400</td>\n",
       "      <td>988.700565</td>\n",
       "      <td>10.0</td>\n",
       "      <td>3.0</td>\n",
       "    </tr>\n",
       "    <tr>\n",
       "      <th>3</th>\n",
       "      <td>4</td>\n",
       "      <td>280000.0</td>\n",
       "      <td>195.0</td>\n",
       "      <td>-34.904465</td>\n",
       "      <td>-56.178105</td>\n",
       "      <td>1415.458937</td>\n",
       "      <td>11.0</td>\n",
       "      <td>4.0</td>\n",
       "    </tr>\n",
       "    <tr>\n",
       "      <th>4</th>\n",
       "      <td>5</td>\n",
       "      <td>225000.0</td>\n",
       "      <td>145.0</td>\n",
       "      <td>-34.909480</td>\n",
       "      <td>-56.180900</td>\n",
       "      <td>1526.355997</td>\n",
       "      <td>11.5</td>\n",
       "      <td>4.5</td>\n",
       "    </tr>\n",
       "  </tbody>\n",
       "</table>\n",
       "</div>"
      ],
      "text/plain": [
       "   cod_barrio_ine     valor  metraje        lat        lng  valor_metro  \\\n",
       "0               1  304000.0    205.0 -34.905220 -56.205750  1495.000000   \n",
       "1               2  140000.0    140.0 -34.907210 -56.190270   944.301587   \n",
       "2               3  175000.0    177.0 -34.911430 -56.190400   988.700565   \n",
       "3               4  280000.0    195.0 -34.904465 -56.178105  1415.458937   \n",
       "4               5  225000.0    145.0 -34.909480 -56.180900  1526.355997   \n",
       "\n",
       "   index_right  nrobarrio  \n",
       "0          0.0        1.0  \n",
       "1          9.0        2.0  \n",
       "2         10.0        3.0  \n",
       "3         11.0        4.0  \n",
       "4         11.5        4.5  "
      ]
     },
     "execution_count": 32,
     "metadata": {},
     "output_type": "execute_result"
    }
   ],
   "source": [
    "agru = pegue.groupby('cod_barrio_ine').median('valor_metro').reset_index()\n",
    "\n",
    "agru['cod_barrio_ine'] = agru['cod_barrio_ine'].astype(int)\n",
    "\n",
    "agru.head()"
   ]
  },
  {
   "cell_type": "code",
   "execution_count": 33,
   "id": "ad51f3b8-3882-42e5-a824-3a2cb4cf3a89",
   "metadata": {},
   "outputs": [
    {
     "data": {
      "text/html": [
       "<div>\n",
       "<style scoped>\n",
       "    .dataframe tbody tr th:only-of-type {\n",
       "        vertical-align: middle;\n",
       "    }\n",
       "\n",
       "    .dataframe tbody tr th {\n",
       "        vertical-align: top;\n",
       "    }\n",
       "\n",
       "    .dataframe thead th {\n",
       "        text-align: right;\n",
       "    }\n",
       "</style>\n",
       "<table border=\"1\" class=\"dataframe\">\n",
       "  <thead>\n",
       "    <tr style=\"text-align: right;\">\n",
       "      <th></th>\n",
       "      <th>area_km</th>\n",
       "      <th>nombbarr</th>\n",
       "      <th>nrobarrio</th>\n",
       "      <th>geometry</th>\n",
       "      <th>cod_barrio_ine</th>\n",
       "      <th>valor_metro</th>\n",
       "    </tr>\n",
       "  </thead>\n",
       "  <tbody>\n",
       "    <tr>\n",
       "      <th>0</th>\n",
       "      <td>2.111</td>\n",
       "      <td>CIUDAD VIEJA</td>\n",
       "      <td>1</td>\n",
       "      <td>POLYGON ((573146.276 6137144.661, 573148.256 6...</td>\n",
       "      <td>1.0</td>\n",
       "      <td>1495.000000</td>\n",
       "    </tr>\n",
       "    <tr>\n",
       "      <th>1</th>\n",
       "      <td>31.795</td>\n",
       "      <td>COLON SURESTE - ABAYUBA</td>\n",
       "      <td>58</td>\n",
       "      <td>POLYGON ((571329.308 6147787.334, 571320.034 6...</td>\n",
       "      <td>58.0</td>\n",
       "      <td>1080.246914</td>\n",
       "    </tr>\n",
       "    <tr>\n",
       "      <th>2</th>\n",
       "      <td>2.783</td>\n",
       "      <td>TRES OMBUES - VICTORIA</td>\n",
       "      <td>56</td>\n",
       "      <td>POLYGON ((569357.162 6141087.122, 569333.377 6...</td>\n",
       "      <td>NaN</td>\n",
       "      <td>NaN</td>\n",
       "    </tr>\n",
       "    <tr>\n",
       "      <th>3</th>\n",
       "      <td>0.784</td>\n",
       "      <td>LA BLANQUEADA</td>\n",
       "      <td>47</td>\n",
       "      <td>POLYGON ((578073.764 6139184.407, 578112.591 6...</td>\n",
       "      <td>47.0</td>\n",
       "      <td>1382.727273</td>\n",
       "    </tr>\n",
       "    <tr>\n",
       "      <th>4</th>\n",
       "      <td>1.873</td>\n",
       "      <td>BRAZO ORIENTAL</td>\n",
       "      <td>51</td>\n",
       "      <td>POLYGON ((574735.970 6140971.174, 574735.915 6...</td>\n",
       "      <td>51.0</td>\n",
       "      <td>1590.909091</td>\n",
       "    </tr>\n",
       "  </tbody>\n",
       "</table>\n",
       "</div>"
      ],
      "text/plain": [
       "   area_km                 nombbarr  nrobarrio  \\\n",
       "0    2.111             CIUDAD VIEJA          1   \n",
       "1   31.795  COLON SURESTE - ABAYUBA         58   \n",
       "2    2.783   TRES OMBUES - VICTORIA         56   \n",
       "3    0.784            LA BLANQUEADA         47   \n",
       "4    1.873           BRAZO ORIENTAL         51   \n",
       "\n",
       "                                            geometry  cod_barrio_ine  \\\n",
       "0  POLYGON ((573146.276 6137144.661, 573148.256 6...             1.0   \n",
       "1  POLYGON ((571329.308 6147787.334, 571320.034 6...            58.0   \n",
       "2  POLYGON ((569357.162 6141087.122, 569333.377 6...             NaN   \n",
       "3  POLYGON ((578073.764 6139184.407, 578112.591 6...            47.0   \n",
       "4  POLYGON ((574735.970 6140971.174, 574735.915 6...            51.0   \n",
       "\n",
       "   valor_metro  \n",
       "0  1495.000000  \n",
       "1  1080.246914  \n",
       "2          NaN  \n",
       "3  1382.727273  \n",
       "4  1590.909091  "
      ]
     },
     "execution_count": 33,
     "metadata": {},
     "output_type": "execute_result"
    }
   ],
   "source": [
    "cols = ['cod_barrio_ine', 'valor_metro']\n",
    "\n",
    "geo = pd.merge(barrios, agru[cols], how='left', left_on='nrobarrio', right_on='cod_barrio_ine')\n",
    "geo.head()"
   ]
  },
  {
   "cell_type": "code",
   "execution_count": 35,
   "id": "35c7707e",
   "metadata": {},
   "outputs": [],
   "source": [
    "geo.to_file('capas/median_2022-08-03.gpkg', driver=\"GPKG\")"
   ]
  },
  {
   "cell_type": "code",
   "execution_count": 36,
   "id": "24757ecc-07d8-4882-895f-311f213e448e",
   "metadata": {},
   "outputs": [
    {
     "data": {
      "text/plain": [
       "1245.2446466007787"
      ]
     },
     "execution_count": 36,
     "metadata": {},
     "output_type": "execute_result"
    }
   ],
   "source": [
    "geo.valor_metro.median()"
   ]
  },
  {
   "cell_type": "markdown",
   "id": "de55c391-81ac-442c-9a42-28d5ae5a9e06",
   "metadata": {},
   "source": [
    "### Hexágonos"
   ]
  },
  {
   "cell_type": "code",
   "execution_count": 37,
   "id": "096ac295-7ae4-4c0a-b9e4-0f024cb5c862",
   "metadata": {},
   "outputs": [
    {
     "data": {
      "text/html": [
       "<div>\n",
       "<style scoped>\n",
       "    .dataframe tbody tr th:only-of-type {\n",
       "        vertical-align: middle;\n",
       "    }\n",
       "\n",
       "    .dataframe tbody tr th {\n",
       "        vertical-align: top;\n",
       "    }\n",
       "\n",
       "    .dataframe thead th {\n",
       "        text-align: right;\n",
       "    }\n",
       "</style>\n",
       "<table border=\"1\" class=\"dataframe\">\n",
       "  <thead>\n",
       "    <tr style=\"text-align: right;\">\n",
       "      <th></th>\n",
       "      <th>id</th>\n",
       "      <th>geometry</th>\n",
       "    </tr>\n",
       "  </thead>\n",
       "  <tbody>\n",
       "    <tr>\n",
       "      <th>0</th>\n",
       "      <td>555</td>\n",
       "      <td>POLYGON ((556312.789 6147560.250, 556457.127 6...</td>\n",
       "    </tr>\n",
       "    <tr>\n",
       "      <th>1</th>\n",
       "      <td>554</td>\n",
       "      <td>POLYGON ((556312.789 6148060.250, 556457.127 6...</td>\n",
       "    </tr>\n",
       "  </tbody>\n",
       "</table>\n",
       "</div>"
      ],
      "text/plain": [
       "    id                                           geometry\n",
       "0  555  POLYGON ((556312.789 6147560.250, 556457.127 6...\n",
       "1  554  POLYGON ((556312.789 6148060.250, 556457.127 6..."
      ]
     },
     "execution_count": 37,
     "metadata": {},
     "output_type": "execute_result"
    }
   ],
   "source": [
    "grid = gpd.read_file('capas/grilla_hex.gpkg').set_crs(32721)\n",
    "grid.head(2)"
   ]
  },
  {
   "cell_type": "code",
   "execution_count": 38,
   "id": "a0037c63-2ee5-4312-8395-970208cb26f8",
   "metadata": {},
   "outputs": [
    {
     "data": {
      "text/html": [
       "<div>\n",
       "<style scoped>\n",
       "    .dataframe tbody tr th:only-of-type {\n",
       "        vertical-align: middle;\n",
       "    }\n",
       "\n",
       "    .dataframe tbody tr th {\n",
       "        vertical-align: top;\n",
       "    }\n",
       "\n",
       "    .dataframe thead th {\n",
       "        text-align: right;\n",
       "    }\n",
       "</style>\n",
       "<table border=\"1\" class=\"dataframe\">\n",
       "  <thead>\n",
       "    <tr style=\"text-align: right;\">\n",
       "      <th></th>\n",
       "      <th>id</th>\n",
       "      <th>geometry</th>\n",
       "      <th>index_right</th>\n",
       "      <th>desc</th>\n",
       "      <th>valor</th>\n",
       "      <th>metraje</th>\n",
       "      <th>url</th>\n",
       "      <th>lat</th>\n",
       "      <th>lng</th>\n",
       "      <th>dormitorios</th>\n",
       "      <th>barrio</th>\n",
       "      <th>barrio_ine</th>\n",
       "      <th>cod_barrio_ine</th>\n",
       "      <th>valor_metro</th>\n",
       "    </tr>\n",
       "  </thead>\n",
       "  <tbody>\n",
       "    <tr>\n",
       "      <th>0</th>\n",
       "      <td>555</td>\n",
       "      <td>POLYGON ((556312.789 6147560.250, 556457.127 6...</td>\n",
       "      <td>NaN</td>\n",
       "      <td>NaN</td>\n",
       "      <td>NaN</td>\n",
       "      <td>NaN</td>\n",
       "      <td>NaN</td>\n",
       "      <td>NaN</td>\n",
       "      <td>NaN</td>\n",
       "      <td>NaN</td>\n",
       "      <td>NaN</td>\n",
       "      <td>NaN</td>\n",
       "      <td>NaN</td>\n",
       "      <td>NaN</td>\n",
       "    </tr>\n",
       "    <tr>\n",
       "      <th>1</th>\n",
       "      <td>554</td>\n",
       "      <td>POLYGON ((556312.789 6148060.250, 556457.127 6...</td>\n",
       "      <td>NaN</td>\n",
       "      <td>NaN</td>\n",
       "      <td>NaN</td>\n",
       "      <td>NaN</td>\n",
       "      <td>NaN</td>\n",
       "      <td>NaN</td>\n",
       "      <td>NaN</td>\n",
       "      <td>NaN</td>\n",
       "      <td>NaN</td>\n",
       "      <td>NaN</td>\n",
       "      <td>NaN</td>\n",
       "      <td>NaN</td>\n",
       "    </tr>\n",
       "    <tr>\n",
       "      <th>2</th>\n",
       "      <td>553</td>\n",
       "      <td>POLYGON ((556312.789 6148560.250, 556457.127 6...</td>\n",
       "      <td>NaN</td>\n",
       "      <td>NaN</td>\n",
       "      <td>NaN</td>\n",
       "      <td>NaN</td>\n",
       "      <td>NaN</td>\n",
       "      <td>NaN</td>\n",
       "      <td>NaN</td>\n",
       "      <td>NaN</td>\n",
       "      <td>NaN</td>\n",
       "      <td>NaN</td>\n",
       "      <td>NaN</td>\n",
       "      <td>NaN</td>\n",
       "    </tr>\n",
       "    <tr>\n",
       "      <th>3</th>\n",
       "      <td>552</td>\n",
       "      <td>POLYGON ((556312.789 6149060.250, 556457.127 6...</td>\n",
       "      <td>NaN</td>\n",
       "      <td>NaN</td>\n",
       "      <td>NaN</td>\n",
       "      <td>NaN</td>\n",
       "      <td>NaN</td>\n",
       "      <td>NaN</td>\n",
       "      <td>NaN</td>\n",
       "      <td>NaN</td>\n",
       "      <td>NaN</td>\n",
       "      <td>NaN</td>\n",
       "      <td>NaN</td>\n",
       "      <td>NaN</td>\n",
       "    </tr>\n",
       "    <tr>\n",
       "      <th>4</th>\n",
       "      <td>559</td>\n",
       "      <td>POLYGON ((556312.789 6145560.250, 556457.127 6...</td>\n",
       "      <td>NaN</td>\n",
       "      <td>NaN</td>\n",
       "      <td>NaN</td>\n",
       "      <td>NaN</td>\n",
       "      <td>NaN</td>\n",
       "      <td>NaN</td>\n",
       "      <td>NaN</td>\n",
       "      <td>NaN</td>\n",
       "      <td>NaN</td>\n",
       "      <td>NaN</td>\n",
       "      <td>NaN</td>\n",
       "      <td>NaN</td>\n",
       "    </tr>\n",
       "  </tbody>\n",
       "</table>\n",
       "</div>"
      ],
      "text/plain": [
       "    id                                           geometry  index_right desc  \\\n",
       "0  555  POLYGON ((556312.789 6147560.250, 556457.127 6...          NaN  NaN   \n",
       "1  554  POLYGON ((556312.789 6148060.250, 556457.127 6...          NaN  NaN   \n",
       "2  553  POLYGON ((556312.789 6148560.250, 556457.127 6...          NaN  NaN   \n",
       "3  552  POLYGON ((556312.789 6149060.250, 556457.127 6...          NaN  NaN   \n",
       "4  559  POLYGON ((556312.789 6145560.250, 556457.127 6...          NaN  NaN   \n",
       "\n",
       "   valor  metraje  url  lat  lng dormitorios barrio barrio_ine  \\\n",
       "0    NaN      NaN  NaN  NaN  NaN         NaN    NaN        NaN   \n",
       "1    NaN      NaN  NaN  NaN  NaN         NaN    NaN        NaN   \n",
       "2    NaN      NaN  NaN  NaN  NaN         NaN    NaN        NaN   \n",
       "3    NaN      NaN  NaN  NaN  NaN         NaN    NaN        NaN   \n",
       "4    NaN      NaN  NaN  NaN  NaN         NaN    NaN        NaN   \n",
       "\n",
       "   cod_barrio_ine  valor_metro  \n",
       "0             NaN          NaN  \n",
       "1             NaN          NaN  \n",
       "2             NaN          NaN  \n",
       "3             NaN          NaN  \n",
       "4             NaN          NaN  "
      ]
     },
     "execution_count": 38,
     "metadata": {},
     "output_type": "execute_result"
    }
   ],
   "source": [
    "pegue = sjoin(grid, geodata, how=\"left\")\n",
    "pegue.head()"
   ]
  },
  {
   "cell_type": "code",
   "execution_count": 39,
   "id": "53b66907-b189-470f-a685-acbec7f4bef3",
   "metadata": {},
   "outputs": [
    {
     "data": {
      "text/plain": [
       "8333.333333333334"
      ]
     },
     "execution_count": 39,
     "metadata": {},
     "output_type": "execute_result"
    }
   ],
   "source": [
    "pegue.valor_metro.max()"
   ]
  },
  {
   "cell_type": "code",
   "execution_count": 40,
   "id": "30f30d33-c8d9-44db-b1d3-d389e8284b2d",
   "metadata": {},
   "outputs": [
    {
     "data": {
      "text/html": [
       "<div>\n",
       "<style scoped>\n",
       "    .dataframe tbody tr th:only-of-type {\n",
       "        vertical-align: middle;\n",
       "    }\n",
       "\n",
       "    .dataframe tbody tr th {\n",
       "        vertical-align: top;\n",
       "    }\n",
       "\n",
       "    .dataframe thead th {\n",
       "        text-align: right;\n",
       "    }\n",
       "</style>\n",
       "<table border=\"1\" class=\"dataframe\">\n",
       "  <thead>\n",
       "    <tr style=\"text-align: right;\">\n",
       "      <th></th>\n",
       "      <th>id</th>\n",
       "      <th>index_right</th>\n",
       "      <th>valor</th>\n",
       "      <th>metraje</th>\n",
       "      <th>lat</th>\n",
       "      <th>lng</th>\n",
       "      <th>cod_barrio_ine</th>\n",
       "      <th>valor_metro</th>\n",
       "    </tr>\n",
       "  </thead>\n",
       "  <tbody>\n",
       "    <tr>\n",
       "      <th>0</th>\n",
       "      <td>28</td>\n",
       "      <td>NaN</td>\n",
       "      <td>NaN</td>\n",
       "      <td>NaN</td>\n",
       "      <td>NaN</td>\n",
       "      <td>NaN</td>\n",
       "      <td>NaN</td>\n",
       "      <td>NaN</td>\n",
       "    </tr>\n",
       "    <tr>\n",
       "      <th>1</th>\n",
       "      <td>29</td>\n",
       "      <td>NaN</td>\n",
       "      <td>NaN</td>\n",
       "      <td>NaN</td>\n",
       "      <td>NaN</td>\n",
       "      <td>NaN</td>\n",
       "      <td>NaN</td>\n",
       "      <td>NaN</td>\n",
       "    </tr>\n",
       "    <tr>\n",
       "      <th>2</th>\n",
       "      <td>30</td>\n",
       "      <td>NaN</td>\n",
       "      <td>NaN</td>\n",
       "      <td>NaN</td>\n",
       "      <td>NaN</td>\n",
       "      <td>NaN</td>\n",
       "      <td>NaN</td>\n",
       "      <td>NaN</td>\n",
       "    </tr>\n",
       "    <tr>\n",
       "      <th>3</th>\n",
       "      <td>80</td>\n",
       "      <td>NaN</td>\n",
       "      <td>NaN</td>\n",
       "      <td>NaN</td>\n",
       "      <td>NaN</td>\n",
       "      <td>NaN</td>\n",
       "      <td>NaN</td>\n",
       "      <td>NaN</td>\n",
       "    </tr>\n",
       "    <tr>\n",
       "      <th>4</th>\n",
       "      <td>81</td>\n",
       "      <td>NaN</td>\n",
       "      <td>NaN</td>\n",
       "      <td>NaN</td>\n",
       "      <td>NaN</td>\n",
       "      <td>NaN</td>\n",
       "      <td>NaN</td>\n",
       "      <td>NaN</td>\n",
       "    </tr>\n",
       "  </tbody>\n",
       "</table>\n",
       "</div>"
      ],
      "text/plain": [
       "   id  index_right  valor  metraje  lat  lng  cod_barrio_ine  valor_metro\n",
       "0  28          NaN    NaN      NaN  NaN  NaN             NaN          NaN\n",
       "1  29          NaN    NaN      NaN  NaN  NaN             NaN          NaN\n",
       "2  30          NaN    NaN      NaN  NaN  NaN             NaN          NaN\n",
       "3  80          NaN    NaN      NaN  NaN  NaN             NaN          NaN\n",
       "4  81          NaN    NaN      NaN  NaN  NaN             NaN          NaN"
      ]
     },
     "execution_count": 40,
     "metadata": {},
     "output_type": "execute_result"
    }
   ],
   "source": [
    "agru = pegue.groupby('id').median('valor_metro').reset_index()\n",
    "\n",
    "agru.head()"
   ]
  },
  {
   "cell_type": "code",
   "execution_count": 41,
   "id": "24b4a30c-62d5-4607-8feb-bdd6a4ef110d",
   "metadata": {},
   "outputs": [],
   "source": [
    "data_grid = grid.merge(agru, on='id', how='left')[['id', 'valor_metro', 'geometry']]"
   ]
  },
  {
   "cell_type": "code",
   "execution_count": 42,
   "id": "da121534-759b-47d0-b73a-36026bb3549a",
   "metadata": {},
   "outputs": [],
   "source": [
    "data_grid.to_file('capas/grid_median_2022-08-03.gpkg', driver=\"GPKG\")"
   ]
  }
 ],
 "metadata": {
  "kernelspec": {
   "display_name": "Python 3.9.9 ('vector')",
   "language": "python",
   "name": "python3"
  },
  "language_info": {
   "codemirror_mode": {
    "name": "ipython",
    "version": 3
   },
   "file_extension": ".py",
   "mimetype": "text/x-python",
   "name": "python",
   "nbconvert_exporter": "python",
   "pygments_lexer": "ipython3",
   "version": "3.9.9"
  },
  "vscode": {
   "interpreter": {
    "hash": "92ccc4e6cafc0c9d66fecef53cdccd2f7555f5f6921d03f3fc65cf7d49eea3ae"
   }
  }
 },
 "nbformat": 4,
 "nbformat_minor": 5
}

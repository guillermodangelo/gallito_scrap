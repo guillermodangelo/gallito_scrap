{
 "cells": [
  {
   "cell_type": "code",
   "execution_count": 2,
   "metadata": {},
   "outputs": [],
   "source": [
    "from selenium import webdriver\n",
    "\n",
    "import pandas as pd\n",
    "import time\n",
    "from numpy import random\n",
    "import pickle\n",
    "\n",
    "from bs4 import BeautifulSoup\n",
    "\n",
    "def flatten(t):\n",
    "    return [item for sublist in t for item in sublist]"
   ]
  },
  {
   "cell_type": "code",
   "execution_count": 2,
   "metadata": {},
   "outputs": [],
   "source": [
    "def chrome(path, headless=True):\n",
    "    \"Chrome driver\"\n",
    "    opt = webdriver.ChromeOptions()\n",
    "    if headless:\n",
    "        opt.add_argument(\"--headless\")\n",
    "    opt.add_argument('--blink-settings=imagesEnabled=false')\n",
    "    browser = webdriver.Chrome(path, options=opt)\n",
    "    browser.implicitly_wait(1)\n",
    "    browser.set_page_load_timeout(3)\n",
    "\n",
    "    return browser"
   ]
  },
  {
   "cell_type": "code",
   "execution_count": 5,
   "metadata": {},
   "outputs": [],
   "source": [
    "driver = chrome('C:/Users/59898/Documents/chromedriver.exe', headless=True)"
   ]
  },
  {
   "cell_type": "code",
   "execution_count": 16,
   "metadata": {},
   "outputs": [],
   "source": [
    "urls= ['https://www.gallito.com.uy/inmuebles/casas/venta/montevideo/ord_asc?pag={}'.format(i) for i in range(1, 3)]"
   ]
  },
  {
   "cell_type": "code",
   "execution_count": 32,
   "metadata": {},
   "outputs": [],
   "source": [
    "data = []\n",
    "metraje = []\n",
    "url_publicacion = []\n",
    "\n",
    "for url in urls:\n",
    "    try:\n",
    "        driver.get(url)\n",
    "    except:\n",
    "        print('Get method failed, check URL.')\n",
    "    pagina = [e.text.splitlines() for e in driver.find_elements_by_css_selector('.contenedor-info')]\n",
    "    data.append(pagina)\n",
    "    html = [e.get_attribute(\"innerHTML\") for e in driver.find_elements_by_css_selector('.contenedor-info .mas-info')]\n",
    "    for i in html:\n",
    "        soup = BeautifulSoup(i, \"html.parser\")\n",
    "        metraje.append(soup.span.text)\n",
    "        url_publicacion.append(soup.find('a')['href'])\n",
    "flat_list = flatten(data)\n",
    "result = pd.DataFrame(flat_list, columns=['desc', 'valor'])\n",
    "result['metraje'] = metraje\n",
    "result['metraje'] = result['metraje'].replace({' m2': ''}, regex=True)\n",
    "result['url'] = url_publicacion"
   ]
  },
  {
   "cell_type": "code",
   "execution_count": 24,
   "metadata": {},
   "outputs": [],
   "source": [
    "# coordenadas = []\n",
    "\n",
    "# for url in urls:\n",
    "#     driver.get(url)\n",
    "\n",
    "#     elem = driver.find_elements_by_css_selector('#ubicacion')\n",
    "\n",
    "#     if elem != []:\n",
    "#         element = driver.find_element_by_xpath(\"/html/body/form/main/div/div[1]/ul/li[4]/a/i\")\n",
    "#         element.click()\n",
    "#         time.sleep(2)\n",
    "#         ubic_html = [e.get_attribute(\"innerHTML\") for e in driver.find_elements_by_css_selector(\"#ubicacion\")]\n",
    "#         soup = BeautifulSoup(ubic_html[0], \"html.parser\")\n",
    "#         src = soup.find('iframe')['src']\n",
    "#         latlng = src.split('q=', 1)[1].split('&zoom=', 1)[0]\n",
    "#         coordenadas.append(latlng)\n",
    "#     else:\n",
    "#         print('Sin ubicación')\n",
    "#         coordenadas.append('')"
   ]
  },
  {
   "cell_type": "code",
   "execution_count": 7,
   "metadata": {},
   "outputs": [],
   "source": [
    "def scrapper(urls):\n",
    "    data = []\n",
    "    metraje = []\n",
    "    url_publicacion=[]\n",
    "\n",
    "    for url in urls:\n",
    "        try:\n",
    "            driver.get(url)\n",
    "            time.sleep(random.uniform(0.9, 2.3))\n",
    "        except:\n",
    "            print('Get method failed, check URL.')\n",
    "        pagina = [e.text.splitlines() for e in driver.find_elements_by_css_selector('.contenedor-info')]\n",
    "        data.append(pagina)\n",
    "        html = [e.get_attribute(\"innerHTML\") for e in driver.find_elements_by_css_selector('.contenedor-info .mas-info')]\n",
    "\n",
    "        for i in html:\n",
    "            soup = BeautifulSoup(i, \"html.parser\")\n",
    "            metraje.append(soup.span.text)\n",
    "            url_publicacion.append(soup.find('a')['href'])\n",
    "\n",
    "    flat_list = flatten(data)\n",
    "    result = pd.DataFrame(flat_list, columns=['desc', 'valor'])\n",
    "    result['metraje'] = metraje\n",
    "    result['metraje'] = result['metraje'].replace({' m2': ''}, regex=True)\n",
    "    result['url'] = url_publicacion\n",
    "\n",
    "    return result"
   ]
  },
  {
   "cell_type": "code",
   "execution_count": 8,
   "metadata": {},
   "outputs": [],
   "source": [
    "urls= [f'https://www.gallito.com.uy/inmuebles/casas/venta/montevideo/ord_asc?pag={i}' for i in range(1, 143)]\n",
    "\n",
    "data = scrapper(urls)\n",
    "\n",
    "driver.quit()"
   ]
  },
  {
   "cell_type": "code",
   "execution_count": 9,
   "metadata": {},
   "outputs": [
    {
     "data": {
      "text/html": [
       "<div>\n",
       "<style scoped>\n",
       "    .dataframe tbody tr th:only-of-type {\n",
       "        vertical-align: middle;\n",
       "    }\n",
       "\n",
       "    .dataframe tbody tr th {\n",
       "        vertical-align: top;\n",
       "    }\n",
       "\n",
       "    .dataframe thead th {\n",
       "        text-align: right;\n",
       "    }\n",
       "</style>\n",
       "<table border=\"1\" class=\"dataframe\">\n",
       "  <thead>\n",
       "    <tr style=\"text-align: right;\">\n",
       "      <th></th>\n",
       "      <th>desc</th>\n",
       "      <th>valor</th>\n",
       "      <th>metraje</th>\n",
       "      <th>url</th>\n",
       "    </tr>\n",
       "  </thead>\n",
       "  <tbody>\n",
       "    <tr>\n",
       "      <th>0</th>\n",
       "      <td>Más de 4 dormitorios en Pocitos</td>\n",
       "      <td>U$S 1</td>\n",
       "      <td></td>\n",
       "      <td>https://www.gallito.com.uy/se-vende-casa-para-...</td>\n",
       "    </tr>\n",
       "    <tr>\n",
       "      <th>1</th>\n",
       "      <td>2 Dormitorios en Belvedere</td>\n",
       "      <td>U$S 30.000</td>\n",
       "      <td>55</td>\n",
       "      <td>https://www.gallito.com.uy/casa-a-reciclar-lug...</td>\n",
       "    </tr>\n",
       "    <tr>\n",
       "      <th>2</th>\n",
       "      <td>2 Dormitorios en La Teja</td>\n",
       "      <td>U$S 35.000</td>\n",
       "      <td>76</td>\n",
       "      <td>https://www.gallito.com.uy/sp-curuzu-la-teja-i...</td>\n",
       "    </tr>\n",
       "    <tr>\n",
       "      <th>3</th>\n",
       "      <td>3 Dormitorios en Paso De La Arena</td>\n",
       "      <td>U$S 39.000</td>\n",
       "      <td>74</td>\n",
       "      <td>https://www.gallito.com.uy/2-casas-en-una-mism...</td>\n",
       "    </tr>\n",
       "    <tr>\n",
       "      <th>4</th>\n",
       "      <td>3 Dormitorios en Cerrito</td>\n",
       "      <td>U$S 40.000</td>\n",
       "      <td>132</td>\n",
       "      <td>https://www.gallito.com.uy/dueño-vende-2-casas...</td>\n",
       "    </tr>\n",
       "  </tbody>\n",
       "</table>\n",
       "</div>"
      ],
      "text/plain": [
       "                                desc       valor metraje  \\\n",
       "0    Más de 4 dormitorios en Pocitos       U$S 1           \n",
       "1         2 Dormitorios en Belvedere  U$S 30.000      55   \n",
       "2           2 Dormitorios en La Teja  U$S 35.000      76   \n",
       "3  3 Dormitorios en Paso De La Arena  U$S 39.000      74   \n",
       "4           3 Dormitorios en Cerrito  U$S 40.000     132   \n",
       "\n",
       "                                                 url  \n",
       "0  https://www.gallito.com.uy/se-vende-casa-para-...  \n",
       "1  https://www.gallito.com.uy/casa-a-reciclar-lug...  \n",
       "2  https://www.gallito.com.uy/sp-curuzu-la-teja-i...  \n",
       "3  https://www.gallito.com.uy/2-casas-en-una-mism...  \n",
       "4  https://www.gallito.com.uy/dueño-vende-2-casas...  "
      ]
     },
     "execution_count": 9,
     "metadata": {},
     "output_type": "execute_result"
    }
   ],
   "source": [
    "data.head()"
   ]
  },
  {
   "cell_type": "code",
   "execution_count": 12,
   "metadata": {},
   "outputs": [],
   "source": [
    "data.to_csv('ventas_mvdeo_20221701.csv', index=False)"
   ]
  },
  {
   "cell_type": "markdown",
   "metadata": {},
   "source": [
    "## Recupera coordenadas"
   ]
  },
  {
   "cell_type": "code",
   "execution_count": 3,
   "metadata": {},
   "outputs": [
    {
     "data": {
      "text/html": [
       "<div>\n",
       "<style scoped>\n",
       "    .dataframe tbody tr th:only-of-type {\n",
       "        vertical-align: middle;\n",
       "    }\n",
       "\n",
       "    .dataframe tbody tr th {\n",
       "        vertical-align: top;\n",
       "    }\n",
       "\n",
       "    .dataframe thead th {\n",
       "        text-align: right;\n",
       "    }\n",
       "</style>\n",
       "<table border=\"1\" class=\"dataframe\">\n",
       "  <thead>\n",
       "    <tr style=\"text-align: right;\">\n",
       "      <th></th>\n",
       "      <th>desc</th>\n",
       "      <th>valor</th>\n",
       "      <th>metraje</th>\n",
       "      <th>url</th>\n",
       "    </tr>\n",
       "  </thead>\n",
       "  <tbody>\n",
       "    <tr>\n",
       "      <th>0</th>\n",
       "      <td>Más de 4 dormitorios en Pocitos</td>\n",
       "      <td>U$S 1</td>\n",
       "      <td>NaN</td>\n",
       "      <td>https://www.gallito.com.uy/se-vende-casa-para-...</td>\n",
       "    </tr>\n",
       "    <tr>\n",
       "      <th>1</th>\n",
       "      <td>2 Dormitorios en Belvedere</td>\n",
       "      <td>U$S 30.000</td>\n",
       "      <td>55.0</td>\n",
       "      <td>https://www.gallito.com.uy/casa-a-reciclar-lug...</td>\n",
       "    </tr>\n",
       "    <tr>\n",
       "      <th>2</th>\n",
       "      <td>2 Dormitorios en La Teja</td>\n",
       "      <td>U$S 35.000</td>\n",
       "      <td>76.0</td>\n",
       "      <td>https://www.gallito.com.uy/sp-curuzu-la-teja-i...</td>\n",
       "    </tr>\n",
       "    <tr>\n",
       "      <th>3</th>\n",
       "      <td>3 Dormitorios en Paso De La Arena</td>\n",
       "      <td>U$S 39.000</td>\n",
       "      <td>74.0</td>\n",
       "      <td>https://www.gallito.com.uy/2-casas-en-una-mism...</td>\n",
       "    </tr>\n",
       "    <tr>\n",
       "      <th>4</th>\n",
       "      <td>3 Dormitorios en Cerrito</td>\n",
       "      <td>U$S 40.000</td>\n",
       "      <td>132.0</td>\n",
       "      <td>https://www.gallito.com.uy/dueño-vende-2-casas...</td>\n",
       "    </tr>\n",
       "  </tbody>\n",
       "</table>\n",
       "</div>"
      ],
      "text/plain": [
       "                                desc       valor  metraje  \\\n",
       "0    Más de 4 dormitorios en Pocitos       U$S 1      NaN   \n",
       "1         2 Dormitorios en Belvedere  U$S 30.000     55.0   \n",
       "2           2 Dormitorios en La Teja  U$S 35.000     76.0   \n",
       "3  3 Dormitorios en Paso De La Arena  U$S 39.000     74.0   \n",
       "4           3 Dormitorios en Cerrito  U$S 40.000    132.0   \n",
       "\n",
       "                                                 url  \n",
       "0  https://www.gallito.com.uy/se-vende-casa-para-...  \n",
       "1  https://www.gallito.com.uy/casa-a-reciclar-lug...  \n",
       "2  https://www.gallito.com.uy/sp-curuzu-la-teja-i...  \n",
       "3  https://www.gallito.com.uy/2-casas-en-una-mism...  \n",
       "4  https://www.gallito.com.uy/dueño-vende-2-casas...  "
      ]
     },
     "execution_count": 3,
     "metadata": {},
     "output_type": "execute_result"
    }
   ],
   "source": [
    "data = pd.read_csv('ventas_mvdeo_20221701.csv')\n",
    "data.head()"
   ]
  },
  {
   "cell_type": "code",
   "execution_count": 4,
   "metadata": {},
   "outputs": [],
   "source": [
    "def scrap_latlng(urls):\n",
    "    coordenadas = []\n",
    "\n",
    "    for url in urls:\n",
    "        try:\n",
    "            driver.get(url)\n",
    "            elem = driver.find_elements_by_css_selector('#ubicacion')\n",
    "        except:\n",
    "            try:\n",
    "                time.sleep(5)\n",
    "                driver.get(url)\n",
    "                elem = driver.find_elements_by_css_selector('#ubicacion')\n",
    "            except:\n",
    "                elem = []\n",
    "    \n",
    "        if elem != []:\n",
    "            element = driver.find_element_by_xpath(\"/html/body/form/main/div/div[1]/ul/li[4]/a/i\")\n",
    "            element.click()\n",
    "            ubic_html = [e.get_attribute(\"innerHTML\") for e in driver.find_elements_by_css_selector(\"#ubicacion\")]\n",
    "            soup = BeautifulSoup(ubic_html[0], \"html.parser\")\n",
    "            src = soup.find('iframe')['src']\n",
    "            latlng = src.split('q=', 1)[1].split('&zoom=', 1)[0]\n",
    "            if latlng == '/,/':\n",
    "                coordenadas.append('Nan,Nan')\n",
    "            else:\n",
    "                coordenadas.append(latlng)\n",
    "        else:\n",
    "            coordenadas.append('Nan,Nan')\n",
    "\n",
    "    return coordenadas"
   ]
  },
  {
   "cell_type": "code",
   "execution_count": 5,
   "metadata": {},
   "outputs": [
    {
     "data": {
      "text/plain": [
       "5680"
      ]
     },
     "execution_count": 5,
     "metadata": {},
     "output_type": "execute_result"
    }
   ],
   "source": [
    "urls = list(data.url.values)\n",
    "len(urls)"
   ]
  },
  {
   "cell_type": "code",
   "execution_count": 30,
   "metadata": {},
   "outputs": [
    {
     "data": {
      "text/plain": [
       "['https://www.gallito.com.uy/se-vende-casa-para-familia-o-empresa-pocitos-inmuebles-21050486',\n",
       " 'https://www.gallito.com.uy/casa-a-reciclar-lugar-para-vehiculo-imperdible-inmuebles-21097237',\n",
       " 'https://www.gallito.com.uy/sp-curuzu-la-teja-inmuebles-19759592',\n",
       " 'https://www.gallito.com.uy/2-casas-en-una-misma-unidad-en-paso-de-la-arena-inmuebles-20925137',\n",
       " 'https://www.gallito.com.uy/dueño-vende-2-casas-en-padron-unico-para-reciclar-inmuebles-20783605']"
      ]
     },
     "execution_count": 30,
     "metadata": {},
     "output_type": "execute_result"
    }
   ],
   "source": [
    "urls[0:5]"
   ]
  },
  {
   "cell_type": "code",
   "execution_count": 7,
   "metadata": {},
   "outputs": [],
   "source": [
    "driver = chrome('C:/Users/59898/Documents/chromedriver.exe', headless=True)\n",
    "\n",
    "# CORRE EL SCRAPPER\n",
    "coords = scrap_latlng(urls)\n",
    "\n",
    "# guarda en in pickle\n",
    "with open('coords.pkl', 'wb') as f:\n",
    "    pickle.dump(coords, f)"
   ]
  },
  {
   "cell_type": "code",
   "execution_count": 8,
   "metadata": {},
   "outputs": [],
   "source": [
    "driver.quit()"
   ]
  },
  {
   "cell_type": "markdown",
   "metadata": {},
   "source": [
    "### Levanta las coodenadas"
   ]
  },
  {
   "cell_type": "code",
   "execution_count": 11,
   "metadata": {},
   "outputs": [
    {
     "data": {
      "text/html": [
       "<div>\n",
       "<style scoped>\n",
       "    .dataframe tbody tr th:only-of-type {\n",
       "        vertical-align: middle;\n",
       "    }\n",
       "\n",
       "    .dataframe tbody tr th {\n",
       "        vertical-align: top;\n",
       "    }\n",
       "\n",
       "    .dataframe thead th {\n",
       "        text-align: right;\n",
       "    }\n",
       "</style>\n",
       "<table border=\"1\" class=\"dataframe\">\n",
       "  <thead>\n",
       "    <tr style=\"text-align: right;\">\n",
       "      <th></th>\n",
       "      <th>desc</th>\n",
       "      <th>valor</th>\n",
       "      <th>metraje</th>\n",
       "      <th>url</th>\n",
       "    </tr>\n",
       "  </thead>\n",
       "  <tbody>\n",
       "    <tr>\n",
       "      <th>0</th>\n",
       "      <td>Más de 4 dormitorios en Pocitos</td>\n",
       "      <td>U$S 1</td>\n",
       "      <td>NaN</td>\n",
       "      <td>https://www.gallito.com.uy/se-vende-casa-para-...</td>\n",
       "    </tr>\n",
       "    <tr>\n",
       "      <th>1</th>\n",
       "      <td>2 Dormitorios en Belvedere</td>\n",
       "      <td>U$S 30.000</td>\n",
       "      <td>55.0</td>\n",
       "      <td>https://www.gallito.com.uy/casa-a-reciclar-lug...</td>\n",
       "    </tr>\n",
       "    <tr>\n",
       "      <th>2</th>\n",
       "      <td>2 Dormitorios en La Teja</td>\n",
       "      <td>U$S 35.000</td>\n",
       "      <td>76.0</td>\n",
       "      <td>https://www.gallito.com.uy/sp-curuzu-la-teja-i...</td>\n",
       "    </tr>\n",
       "    <tr>\n",
       "      <th>3</th>\n",
       "      <td>3 Dormitorios en Paso De La Arena</td>\n",
       "      <td>U$S 39.000</td>\n",
       "      <td>74.0</td>\n",
       "      <td>https://www.gallito.com.uy/2-casas-en-una-mism...</td>\n",
       "    </tr>\n",
       "    <tr>\n",
       "      <th>4</th>\n",
       "      <td>3 Dormitorios en Cerrito</td>\n",
       "      <td>U$S 40.000</td>\n",
       "      <td>132.0</td>\n",
       "      <td>https://www.gallito.com.uy/dueño-vende-2-casas...</td>\n",
       "    </tr>\n",
       "  </tbody>\n",
       "</table>\n",
       "</div>"
      ],
      "text/plain": [
       "                                desc       valor  metraje  \\\n",
       "0    Más de 4 dormitorios en Pocitos       U$S 1      NaN   \n",
       "1         2 Dormitorios en Belvedere  U$S 30.000     55.0   \n",
       "2           2 Dormitorios en La Teja  U$S 35.000     76.0   \n",
       "3  3 Dormitorios en Paso De La Arena  U$S 39.000     74.0   \n",
       "4           3 Dormitorios en Cerrito  U$S 40.000    132.0   \n",
       "\n",
       "                                                 url  \n",
       "0  https://www.gallito.com.uy/se-vende-casa-para-...  \n",
       "1  https://www.gallito.com.uy/casa-a-reciclar-lug...  \n",
       "2  https://www.gallito.com.uy/sp-curuzu-la-teja-i...  \n",
       "3  https://www.gallito.com.uy/2-casas-en-una-mism...  \n",
       "4  https://www.gallito.com.uy/dueño-vende-2-casas...  "
      ]
     },
     "execution_count": 11,
     "metadata": {},
     "output_type": "execute_result"
    }
   ],
   "source": [
    "data = pd.read_csv('ventas_mvdeo_20221701.csv')\n",
    "data.head()"
   ]
  },
  {
   "cell_type": "code",
   "execution_count": 12,
   "metadata": {},
   "outputs": [
    {
     "data": {
      "text/plain": [
       "5680"
      ]
     },
     "execution_count": 12,
     "metadata": {},
     "output_type": "execute_result"
    }
   ],
   "source": [
    "coords = pd.read_pickle('coords.pkl')\n",
    "\n",
    "len(coords)"
   ]
  },
  {
   "cell_type": "code",
   "execution_count": 13,
   "metadata": {},
   "outputs": [
    {
     "data": {
      "text/plain": [
       "1970"
      ]
     },
     "execution_count": 13,
     "metadata": {},
     "output_type": "execute_result"
    }
   ],
   "source": [
    "r = [i=='Nan,Nan' for i in coords]\n",
    "sum(r)"
   ]
  },
  {
   "cell_type": "code",
   "execution_count": 14,
   "metadata": {},
   "outputs": [],
   "source": [
    "data[['lat', 'lng']] = [i.split(',') for i in coords]"
   ]
  },
  {
   "cell_type": "code",
   "execution_count": 15,
   "metadata": {},
   "outputs": [],
   "source": [
    "data['lat'] = data['lat'].astype(float).round(5)\n",
    "data['lng'] = data['lng'].astype(float).round(5)"
   ]
  },
  {
   "cell_type": "code",
   "execution_count": 16,
   "metadata": {},
   "outputs": [
    {
     "data": {
      "text/html": [
       "<div>\n",
       "<style scoped>\n",
       "    .dataframe tbody tr th:only-of-type {\n",
       "        vertical-align: middle;\n",
       "    }\n",
       "\n",
       "    .dataframe tbody tr th {\n",
       "        vertical-align: top;\n",
       "    }\n",
       "\n",
       "    .dataframe thead th {\n",
       "        text-align: right;\n",
       "    }\n",
       "</style>\n",
       "<table border=\"1\" class=\"dataframe\">\n",
       "  <thead>\n",
       "    <tr style=\"text-align: right;\">\n",
       "      <th></th>\n",
       "      <th>desc</th>\n",
       "      <th>valor</th>\n",
       "      <th>metraje</th>\n",
       "      <th>url</th>\n",
       "      <th>lat</th>\n",
       "      <th>lng</th>\n",
       "    </tr>\n",
       "  </thead>\n",
       "  <tbody>\n",
       "    <tr>\n",
       "      <th>0</th>\n",
       "      <td>Más de 4 dormitorios en Pocitos</td>\n",
       "      <td>U$S 1</td>\n",
       "      <td>NaN</td>\n",
       "      <td>https://www.gallito.com.uy/se-vende-casa-para-...</td>\n",
       "      <td>-34.90887</td>\n",
       "      <td>-56.15031</td>\n",
       "    </tr>\n",
       "    <tr>\n",
       "      <th>1</th>\n",
       "      <td>2 Dormitorios en Belvedere</td>\n",
       "      <td>U$S 30.000</td>\n",
       "      <td>55.0</td>\n",
       "      <td>https://www.gallito.com.uy/casa-a-reciclar-lug...</td>\n",
       "      <td>NaN</td>\n",
       "      <td>NaN</td>\n",
       "    </tr>\n",
       "    <tr>\n",
       "      <th>2</th>\n",
       "      <td>2 Dormitorios en La Teja</td>\n",
       "      <td>U$S 35.000</td>\n",
       "      <td>76.0</td>\n",
       "      <td>https://www.gallito.com.uy/sp-curuzu-la-teja-i...</td>\n",
       "      <td>-34.87447</td>\n",
       "      <td>-56.23885</td>\n",
       "    </tr>\n",
       "    <tr>\n",
       "      <th>3</th>\n",
       "      <td>3 Dormitorios en Paso De La Arena</td>\n",
       "      <td>U$S 39.000</td>\n",
       "      <td>74.0</td>\n",
       "      <td>https://www.gallito.com.uy/2-casas-en-una-mism...</td>\n",
       "      <td>-34.90721</td>\n",
       "      <td>-56.19027</td>\n",
       "    </tr>\n",
       "    <tr>\n",
       "      <th>4</th>\n",
       "      <td>3 Dormitorios en Cerrito</td>\n",
       "      <td>U$S 40.000</td>\n",
       "      <td>132.0</td>\n",
       "      <td>https://www.gallito.com.uy/dueño-vende-2-casas...</td>\n",
       "      <td>-34.85083</td>\n",
       "      <td>-56.15761</td>\n",
       "    </tr>\n",
       "    <tr>\n",
       "      <th>5</th>\n",
       "      <td>1 Dormitorio en Malvin Norte</td>\n",
       "      <td>U$S 40.000</td>\n",
       "      <td>65.0</td>\n",
       "      <td>https://www.gallito.com.uy/oportunidad-saldo-c...</td>\n",
       "      <td>-34.90721</td>\n",
       "      <td>-56.19027</td>\n",
       "    </tr>\n",
       "    <tr>\n",
       "      <th>6</th>\n",
       "      <td>4 Dormitorios en Cerrito</td>\n",
       "      <td>U$S 53.000</td>\n",
       "      <td>97.0</td>\n",
       "      <td>https://www.gallito.com.uy/oportunidad-casa-de...</td>\n",
       "      <td>-34.85944</td>\n",
       "      <td>-56.15642</td>\n",
       "    </tr>\n",
       "    <tr>\n",
       "      <th>7</th>\n",
       "      <td>1 Dormitorio en Prado Norte</td>\n",
       "      <td>U$S 59.000</td>\n",
       "      <td>50.0</td>\n",
       "      <td>https://www.gallito.com.uy/impecable-buena-vec...</td>\n",
       "      <td>NaN</td>\n",
       "      <td>NaN</td>\n",
       "    </tr>\n",
       "  </tbody>\n",
       "</table>\n",
       "</div>"
      ],
      "text/plain": [
       "                                desc       valor  metraje  \\\n",
       "0    Más de 4 dormitorios en Pocitos       U$S 1      NaN   \n",
       "1         2 Dormitorios en Belvedere  U$S 30.000     55.0   \n",
       "2           2 Dormitorios en La Teja  U$S 35.000     76.0   \n",
       "3  3 Dormitorios en Paso De La Arena  U$S 39.000     74.0   \n",
       "4           3 Dormitorios en Cerrito  U$S 40.000    132.0   \n",
       "5       1 Dormitorio en Malvin Norte  U$S 40.000     65.0   \n",
       "6           4 Dormitorios en Cerrito  U$S 53.000     97.0   \n",
       "7        1 Dormitorio en Prado Norte  U$S 59.000     50.0   \n",
       "\n",
       "                                                 url       lat       lng  \n",
       "0  https://www.gallito.com.uy/se-vende-casa-para-... -34.90887 -56.15031  \n",
       "1  https://www.gallito.com.uy/casa-a-reciclar-lug...       NaN       NaN  \n",
       "2  https://www.gallito.com.uy/sp-curuzu-la-teja-i... -34.87447 -56.23885  \n",
       "3  https://www.gallito.com.uy/2-casas-en-una-mism... -34.90721 -56.19027  \n",
       "4  https://www.gallito.com.uy/dueño-vende-2-casas... -34.85083 -56.15761  \n",
       "5  https://www.gallito.com.uy/oportunidad-saldo-c... -34.90721 -56.19027  \n",
       "6  https://www.gallito.com.uy/oportunidad-casa-de... -34.85944 -56.15642  \n",
       "7  https://www.gallito.com.uy/impecable-buena-vec...       NaN       NaN  "
      ]
     },
     "execution_count": 16,
     "metadata": {},
     "output_type": "execute_result"
    }
   ],
   "source": [
    "data.head(8)"
   ]
  },
  {
   "cell_type": "code",
   "execution_count": 17,
   "metadata": {},
   "outputs": [],
   "source": [
    "data.to_csv('ventas_mvdeo_20220117_con_coord.csv', index=False)"
   ]
  },
  {
   "cell_type": "code",
   "execution_count": 18,
   "metadata": {},
   "outputs": [],
   "source": [
    "# limpieza\n",
    "data['valor'].str.replace('U', '')\n",
    "\n",
    "for word, rep in {\"U\":\" \", \"S\":\"\", \"$\":\"\", \".\":\"\"}.items():\n",
    "    data['valor'] = data['valor'].str.replace(word, rep, regex=False)"
   ]
  },
  {
   "cell_type": "code",
   "execution_count": 19,
   "metadata": {},
   "outputs": [],
   "source": [
    "data['valor'] = data['valor'].astype(int)"
   ]
  },
  {
   "cell_type": "code",
   "execution_count": 20,
   "metadata": {},
   "outputs": [
    {
     "data": {
      "text/html": [
       "<div>\n",
       "<style scoped>\n",
       "    .dataframe tbody tr th:only-of-type {\n",
       "        vertical-align: middle;\n",
       "    }\n",
       "\n",
       "    .dataframe tbody tr th {\n",
       "        vertical-align: top;\n",
       "    }\n",
       "\n",
       "    .dataframe thead th {\n",
       "        text-align: right;\n",
       "    }\n",
       "</style>\n",
       "<table border=\"1\" class=\"dataframe\">\n",
       "  <thead>\n",
       "    <tr style=\"text-align: right;\">\n",
       "      <th></th>\n",
       "      <th>desc</th>\n",
       "      <th>valor</th>\n",
       "      <th>metraje</th>\n",
       "      <th>url</th>\n",
       "      <th>lat</th>\n",
       "      <th>lng</th>\n",
       "    </tr>\n",
       "  </thead>\n",
       "  <tbody>\n",
       "    <tr>\n",
       "      <th>6</th>\n",
       "      <td>4 Dormitorios en Cerrito</td>\n",
       "      <td>53000</td>\n",
       "      <td>97.0</td>\n",
       "      <td>https://www.gallito.com.uy/oportunidad-casa-de...</td>\n",
       "      <td>-34.85944</td>\n",
       "      <td>-56.15642</td>\n",
       "    </tr>\n",
       "    <tr>\n",
       "      <th>7</th>\n",
       "      <td>1 Dormitorio en Prado Norte</td>\n",
       "      <td>59000</td>\n",
       "      <td>50.0</td>\n",
       "      <td>https://www.gallito.com.uy/impecable-buena-vec...</td>\n",
       "      <td>NaN</td>\n",
       "      <td>NaN</td>\n",
       "    </tr>\n",
       "    <tr>\n",
       "      <th>8</th>\n",
       "      <td>2 Dormitorios en Maroñas</td>\n",
       "      <td>65000</td>\n",
       "      <td>NaN</td>\n",
       "      <td>https://www.gallito.com.uy/muy-linda-casa-y-co...</td>\n",
       "      <td>-34.90721</td>\n",
       "      <td>-56.19027</td>\n",
       "    </tr>\n",
       "    <tr>\n",
       "      <th>9</th>\n",
       "      <td>2 Dormitorios en Union</td>\n",
       "      <td>65000</td>\n",
       "      <td>103.0</td>\n",
       "      <td>https://www.gallito.com.uy/venta-casa-union-2-...</td>\n",
       "      <td>-34.87518</td>\n",
       "      <td>-56.13185</td>\n",
       "    </tr>\n",
       "    <tr>\n",
       "      <th>10</th>\n",
       "      <td>2 Dormitorios en La Teja</td>\n",
       "      <td>67000</td>\n",
       "      <td>NaN</td>\n",
       "      <td>https://www.gallito.com.uy/dueño-vende-casa-en...</td>\n",
       "      <td>-34.87064</td>\n",
       "      <td>-56.23490</td>\n",
       "    </tr>\n",
       "  </tbody>\n",
       "</table>\n",
       "</div>"
      ],
      "text/plain": [
       "                           desc  valor  metraje  \\\n",
       "6      4 Dormitorios en Cerrito  53000     97.0   \n",
       "7   1 Dormitorio en Prado Norte  59000     50.0   \n",
       "8      2 Dormitorios en Maroñas  65000      NaN   \n",
       "9        2 Dormitorios en Union  65000    103.0   \n",
       "10     2 Dormitorios en La Teja  67000      NaN   \n",
       "\n",
       "                                                  url       lat       lng  \n",
       "6   https://www.gallito.com.uy/oportunidad-casa-de... -34.85944 -56.15642  \n",
       "7   https://www.gallito.com.uy/impecable-buena-vec...       NaN       NaN  \n",
       "8   https://www.gallito.com.uy/muy-linda-casa-y-co... -34.90721 -56.19027  \n",
       "9   https://www.gallito.com.uy/venta-casa-union-2-... -34.87518 -56.13185  \n",
       "10  https://www.gallito.com.uy/dueño-vende-casa-en... -34.87064 -56.23490  "
      ]
     },
     "execution_count": 20,
     "metadata": {},
     "output_type": "execute_result"
    }
   ],
   "source": [
    "data = data.loc[~((data.valor == 111111111) | (data.valor < 45000))]\n",
    "data.head()"
   ]
  },
  {
   "cell_type": "code",
   "execution_count": 21,
   "metadata": {},
   "outputs": [],
   "source": [
    "data[['dormitorios', 'barrio']] = data['desc'].str.split(' en ', n = 1, expand = True)"
   ]
  },
  {
   "cell_type": "code",
   "execution_count": 22,
   "metadata": {},
   "outputs": [],
   "source": [
    "data['barrio_ine'] = data['barrio']"
   ]
  },
  {
   "cell_type": "code",
   "execution_count": 23,
   "metadata": {},
   "outputs": [],
   "source": [
    "def format_barrio(df, column):\n",
    "    \"Formatea strings de Barrio Gallito a Barrio INE\"\n",
    "    barrios_dict = {\n",
    "        'Aguada' : 'Aguada',\n",
    "        'Aires Puros' : 'Aires Puros',\n",
    "        'Atahualpa' : 'Atahualpa',\n",
    "        'B. De Carrasco' : 'Bañados de Carrasco',\n",
    "        'Barrio Sur' : 'Barrio Sur',\n",
    "        'Belvedere' : 'Belvedere',\n",
    "        'Brazo Oriental' : 'Brazo Oriental',\n",
    "        'Buceo' : 'Buceo',\n",
    "        'Capurro' : 'Capurro, Bella Vista',\n",
    "        'Carrasco' : 'Carrasco',\n",
    "        'Carrasco Norte' : 'Carrasco Norte',\n",
    "        'Casabo' : 'Casabó, Pajas Blancas',\n",
    "        'Casavalle' : 'Casavalle',\n",
    "        'Centro' : 'Centro',\n",
    "        'Cerrito' : 'Cerrito',\n",
    "        'Cerro' : 'Cerro',\n",
    "        'Ciudad Vieja' : 'Ciudad Vieja',\n",
    "        'Cno. Maldonado' : 'Colón Centro y Noroeste',\n",
    "        'Colon' : 'Colón Sureste, Abayubá',\n",
    "        'Cordon' : 'Cordón',\n",
    "        'Golf' : 'Flor de Maroñas',\n",
    "        'Ituzaingo' : 'Ituzaingó',\n",
    "        'J. Hipodromo' : 'Jardines del Hipódromo',\n",
    "        'Jacinto Vera' : 'Jacinto Vera',\n",
    "        'La Blanqueada' : 'La Blanqueada',\n",
    "        'La Comercial' : 'La Comercial',\n",
    "        'La Figurita' : 'La Figurita',\n",
    "        'La Teja' : 'La Teja',\n",
    "        'Larrañaga' : 'Larrañaga',\n",
    "        'Las Acacias' : 'Las Acacias',\n",
    "        'Lezica' : 'Lezica, Melilla',\n",
    "        'Malvin' : 'Malvín',\n",
    "        'Malvin Norte' : 'Malvín Norte',\n",
    "        'Manga' : 'Manga',\n",
    "        'Maroñas' : 'Maroñas, Parque Guaraní',\n",
    "        'Maroñas Curva' : 'Maroñas, Parque Guaraní',\n",
    "        'Melilla' : 'Lezica, Melilla',\n",
    "        'Nuevo Paris' : 'Mercado Modelo, Bolívar',\n",
    "        'Pajas Blancas' : 'Nuevo París',\n",
    "        'Palermo' : 'Palermo',\n",
    "        'Parque Batlle' : 'Parque Batlle, Villa Dolores',\n",
    "        'Parque Rodo' : 'Parque Rodó',\n",
    "        'Paso De La Arena' : 'Paso de la Arena',\n",
    "        'Peñarol' : 'Peñarol, Lavalleja',\n",
    "        'Perez Castellanos' : 'Castro, P. Castellanos',\n",
    "        'Piedras Blancas' : 'Piedras Blancas',\n",
    "        'Pocitos' : 'Pocitos',\n",
    "        'Pocitos Nuevo' : 'Pocitos',\n",
    "        'Prado' : 'Prado, Nueva Savona',\n",
    "        'Prado Norte' : 'Prado, Nueva Savona',\n",
    "        'Puerto Buceo' : 'Buceo',\n",
    "        'Punta Carretas' : 'Punta Carretas',\n",
    "        'Punta Gorda' : 'Punta Gorda',\n",
    "        'Punta Rieles' : 'Punta Rieles, Bella Italia',\n",
    "        'Reducto' : 'Reducto',\n",
    "        'Sayago' : 'Sayago',\n",
    "        'Tres Cruces' : 'Tres Cruces',\n",
    "        'Union' : 'Unión',\n",
    "        'Villa Dolores' : 'Parque Batlle, Villa Dolores',\n",
    "        'Villa Española' : 'Villa Española',\n",
    "        'Villa Muñoz' : 'Villa Muñoz, Retiro'\n",
    "        }\n",
    "\n",
    "    return df[column].map(barrios_dict)"
   ]
  },
  {
   "cell_type": "code",
   "execution_count": 24,
   "metadata": {},
   "outputs": [],
   "source": [
    "data['barrio_ine'] = format_barrio(data, 'barrio')"
   ]
  },
  {
   "cell_type": "code",
   "execution_count": 26,
   "metadata": {},
   "outputs": [],
   "source": [
    "def encode_barrio(df, column):\n",
    "    \"Codifica barrio INE\"\n",
    "    barrios_dict = {\n",
    "    'Ciudad Vieja':1,\n",
    "    'Centro':2,\n",
    "    'Barrio Sur':3,\n",
    "    'Cordón':4,\n",
    "    'Palermo':5,\n",
    "    'Parque Rodó':6,\n",
    "    'Punta Carretas':7,\n",
    "    'Pocitos':8,\n",
    "    'Buceo':9,\n",
    "    'Parque Batlle, Villa Dolores':10,\n",
    "    'Malvín':11,\n",
    "    'Malvín Norte':12,\n",
    "    'Punta Gorda':13,\n",
    "    'Carrasco':14,\n",
    "    'Carrasco Norte':15,\n",
    "    'Bañados de Carrasco':16,\n",
    "    'Maroñas, Parque Guaraní':17,\n",
    "    'Flor de Maroñas':18,\n",
    "    'Las Canteras':19,\n",
    "    'Punta Rieles, Bella Italia':20,\n",
    "    'Jardines del Hipódromo':21,\n",
    "    'Ituzaingó':22,\n",
    "    'Unión':23,\n",
    "    'Villa Española':24,\n",
    "    'Mercado Modelo, Bolívar':25,\n",
    "    'Castro, P. Castellanos':26,\n",
    "    'Cerrito':27,\n",
    "    'Las Acacias':28,\n",
    "    'Aires Puros':29,\n",
    "    'Casavalle':30,\n",
    "    'Piedras Blancas':31,\n",
    "    'Manga, Toledo Chico':32,\n",
    "    'Paso de las Duranas':33,\n",
    "    'Peñarol, Lavalleja':34,\n",
    "    'Cerro':35,\n",
    "    'Casabó, Pajas Blancas':36,\n",
    "    'La Paloma, Tomkinson':37,\n",
    "    'La Teja':38,\n",
    "    'Prado, Nueva Savona':39,\n",
    "    'Capurro, Bella Vista':40,\n",
    "    'Aguada':41,\n",
    "    'Reducto':42,\n",
    "    'Atahualpa':43,\n",
    "    'Jacinto Vera':44,\n",
    "    'La Figurita':45,\n",
    "    'Larrañaga':46,\n",
    "    'La Blanqueada':47,\n",
    "    'Villa Muñoz, Retiro':48,\n",
    "    'La Comercial':49,\n",
    "    'Tres Cruces':50,\n",
    "    'Brazo Oriental':51,\n",
    "    'Sayago':52,\n",
    "    'Conciliación':53,\n",
    "    'Belvedere':54,\n",
    "    'Nuevo París':55,\n",
    "    'Tres Ombúes, Victoria':56,\n",
    "    'Paso de la Arena':57,\n",
    "    'Colón Sureste, Abayubá':58,\n",
    "    'Colón Centro y Noroeste':59,\n",
    "    'Lezica, Melilla':60,\n",
    "    'Villa García, Manga Rural':61,\n",
    "    'Manga':62\n",
    "        }\n",
    "    return df[column].map(barrios_dict)"
   ]
  },
  {
   "cell_type": "code",
   "execution_count": null,
   "metadata": {},
   "outputs": [],
   "source": [
    "data['cod_barrio_ine'] = encode_barrio(data, 'barrio_ine')"
   ]
  },
  {
   "cell_type": "code",
   "execution_count": 28,
   "metadata": {},
   "outputs": [],
   "source": [
    "data.to_csv('ventas_mvdeo_20220117_depurado.csv', index=False)"
   ]
  },
  {
   "cell_type": "code",
   "execution_count": 29,
   "metadata": {},
   "outputs": [],
   "source": [
    "data = data.loc[(data.metraje > 10) & (data.metraje < 4000) & (~data.metraje.isna())]\n",
    "\n",
    "data['metraje'] = data['metraje'].astype(int)\n",
    "\n",
    "data['valor_metro'] = data['valor'] / data['metraje']\n",
    "\n",
    "agru = data.groupby('cod_barrio_ine').median('valor_metro').reset_index()\n",
    "\n",
    "agru['cod_barrio_ine'] = agru['cod_barrio_ine'].astype(int)\n",
    "                                                       \n",
    "agru.to_csv('datos_agrupados_20220117.csv', index=False)"
   ]
  }
 ],
 "metadata": {
  "interpreter": {
   "hash": "24c9600e5b7339f449bd335ad8180591b83c0fdfdd17b90ba098a9687ce7e6ad"
  },
  "kernelspec": {
   "display_name": "Python 3 (ipykernel)",
   "language": "python",
   "name": "python3"
  },
  "language_info": {
   "codemirror_mode": {
    "name": "ipython",
    "version": 3
   },
   "file_extension": ".py",
   "mimetype": "text/x-python",
   "name": "python",
   "nbconvert_exporter": "python",
   "pygments_lexer": "ipython3",
   "version": "3.7.11"
  }
 },
 "nbformat": 4,
 "nbformat_minor": 4
}

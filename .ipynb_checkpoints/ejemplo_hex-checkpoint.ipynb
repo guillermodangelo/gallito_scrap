{
 "cells": [
  {
   "cell_type": "code",
   "execution_count": 3,
   "id": "b6ef888c-6a4a-495f-8194-5749570694d0",
   "metadata": {},
   "outputs": [],
   "source": [
    "# Load an empty map\n",
    "from keplergl import KeplerGl\n",
    "import pandas as pd\n",
    "import geopandas as gpd"
   ]
  },
  {
   "cell_type": "code",
   "execution_count": 34,
   "id": "e1d6034b-33c4-409f-b9fc-8fa6c7783b2d",
   "metadata": {},
   "outputs": [
    {
     "data": {
      "text/html": [
       "<div>\n",
       "<style scoped>\n",
       "    .dataframe tbody tr th:only-of-type {\n",
       "        vertical-align: middle;\n",
       "    }\n",
       "\n",
       "    .dataframe tbody tr th {\n",
       "        vertical-align: top;\n",
       "    }\n",
       "\n",
       "    .dataframe thead th {\n",
       "        text-align: right;\n",
       "    }\n",
       "</style>\n",
       "<table border=\"1\" class=\"dataframe\">\n",
       "  <thead>\n",
       "    <tr style=\"text-align: right;\">\n",
       "      <th></th>\n",
       "      <th>index</th>\n",
       "      <th>lat</th>\n",
       "      <th>lng</th>\n",
       "      <th>valor_metro</th>\n",
       "    </tr>\n",
       "  </thead>\n",
       "  <tbody>\n",
       "    <tr>\n",
       "      <th>0</th>\n",
       "      <td>0</td>\n",
       "      <td>-34.81525</td>\n",
       "      <td>-56.21593</td>\n",
       "      <td>1300.000000</td>\n",
       "    </tr>\n",
       "    <tr>\n",
       "      <th>1</th>\n",
       "      <td>1</td>\n",
       "      <td>-34.88662</td>\n",
       "      <td>-56.19244</td>\n",
       "      <td>1113.043478</td>\n",
       "    </tr>\n",
       "  </tbody>\n",
       "</table>\n",
       "</div>"
      ],
      "text/plain": [
       "   index       lat       lng  valor_metro\n",
       "0      0 -34.81525 -56.21593  1300.000000\n",
       "1      1 -34.88662 -56.19244  1113.043478"
      ]
     },
     "execution_count": 34,
     "metadata": {},
     "output_type": "execute_result"
    }
   ],
   "source": [
    "df = pd.read_csv('ventas_mvdeo_20210707_depurado.csv', usecols=['valor_metro', 'lat', 'lng'])\n",
    "df = df.loc[~df.lat.isna()].reset_index()\n",
    "df.head(2)"
   ]
  },
  {
   "cell_type": "code",
   "execution_count": 36,
   "id": "2a320cad-55f6-4e40-a027-23e4e195e53e",
   "metadata": {},
   "outputs": [
    {
     "data": {
      "text/plain": [
       "'8075fffffffffff'"
      ]
     },
     "execution_count": 36,
     "metadata": {},
     "output_type": "execute_result"
    }
   ],
   "source": [
    ">>> import h3\n",
    ">>> lat, lng = 0, 0\n",
    ">>> resolution = 0\n",
    ">>> h3.geo_to_h3(lat, lng, resolution)"
   ]
  },
  {
   "cell_type": "code",
   "execution_count": 67,
   "id": "4561640f-43cc-48e7-a77d-bd5c4fb7894c",
   "metadata": {},
   "outputs": [],
   "source": [
    "grid = [h3.geo_to_h3(df.lat[i], df.lng[i], 9) for i in range(df.shape[0])]"
   ]
  },
  {
   "cell_type": "code",
   "execution_count": 68,
   "id": "f1674fd4-9161-4e88-bd74-bd1c2802a16f",
   "metadata": {},
   "outputs": [
    {
     "data": {
      "text/html": [
       "<div>\n",
       "<style scoped>\n",
       "    .dataframe tbody tr th:only-of-type {\n",
       "        vertical-align: middle;\n",
       "    }\n",
       "\n",
       "    .dataframe tbody tr th {\n",
       "        vertical-align: top;\n",
       "    }\n",
       "\n",
       "    .dataframe thead th {\n",
       "        text-align: right;\n",
       "    }\n",
       "</style>\n",
       "<table border=\"1\" class=\"dataframe\">\n",
       "  <thead>\n",
       "    <tr style=\"text-align: right;\">\n",
       "      <th></th>\n",
       "      <th>index</th>\n",
       "      <th>lat</th>\n",
       "      <th>lng</th>\n",
       "      <th>valor_metro</th>\n",
       "      <th>hex_id</th>\n",
       "    </tr>\n",
       "  </thead>\n",
       "  <tbody>\n",
       "    <tr>\n",
       "      <th>0</th>\n",
       "      <td>0</td>\n",
       "      <td>-34.81525</td>\n",
       "      <td>-56.21593</td>\n",
       "      <td>1300.000000</td>\n",
       "      <td>89c2f156bb7ffff</td>\n",
       "    </tr>\n",
       "    <tr>\n",
       "      <th>1</th>\n",
       "      <td>1</td>\n",
       "      <td>-34.88662</td>\n",
       "      <td>-56.19244</td>\n",
       "      <td>1113.043478</td>\n",
       "      <td>89c2f1ccb2fffff</td>\n",
       "    </tr>\n",
       "    <tr>\n",
       "      <th>2</th>\n",
       "      <td>2</td>\n",
       "      <td>-34.85063</td>\n",
       "      <td>-56.21735</td>\n",
       "      <td>1061.643836</td>\n",
       "      <td>89c2f156cb7ffff</td>\n",
       "    </tr>\n",
       "    <tr>\n",
       "      <th>3</th>\n",
       "      <td>3</td>\n",
       "      <td>-34.91640</td>\n",
       "      <td>-56.16131</td>\n",
       "      <td>2444.444444</td>\n",
       "      <td>89c2f1cce6bffff</td>\n",
       "    </tr>\n",
       "    <tr>\n",
       "      <th>4</th>\n",
       "      <td>8</td>\n",
       "      <td>-34.82083</td>\n",
       "      <td>-56.21378</td>\n",
       "      <td>1153.846154</td>\n",
       "      <td>89c2f15695bffff</td>\n",
       "    </tr>\n",
       "  </tbody>\n",
       "</table>\n",
       "</div>"
      ],
      "text/plain": [
       "   index       lat       lng  valor_metro           hex_id\n",
       "0      0 -34.81525 -56.21593  1300.000000  89c2f156bb7ffff\n",
       "1      1 -34.88662 -56.19244  1113.043478  89c2f1ccb2fffff\n",
       "2      2 -34.85063 -56.21735  1061.643836  89c2f156cb7ffff\n",
       "3      3 -34.91640 -56.16131  2444.444444  89c2f1cce6bffff\n",
       "4      8 -34.82083 -56.21378  1153.846154  89c2f15695bffff"
      ]
     },
     "execution_count": 68,
     "metadata": {},
     "output_type": "execute_result"
    }
   ],
   "source": [
    "df['hex_id'] = grid\n",
    "df.head()"
   ]
  },
  {
   "cell_type": "code",
   "execution_count": 69,
   "id": "a4909668-82f9-4e56-b9dc-3c81b261687d",
   "metadata": {},
   "outputs": [
    {
     "data": {
      "text/html": [
       "<div>\n",
       "<style scoped>\n",
       "    .dataframe tbody tr th:only-of-type {\n",
       "        vertical-align: middle;\n",
       "    }\n",
       "\n",
       "    .dataframe tbody tr th {\n",
       "        vertical-align: top;\n",
       "    }\n",
       "\n",
       "    .dataframe thead th {\n",
       "        text-align: right;\n",
       "    }\n",
       "</style>\n",
       "<table border=\"1\" class=\"dataframe\">\n",
       "  <thead>\n",
       "    <tr style=\"text-align: right;\">\n",
       "      <th></th>\n",
       "      <th>hex_id</th>\n",
       "      <th>value</th>\n",
       "      <th>is_true</th>\n",
       "      <th>float_value</th>\n",
       "      <th>empty</th>\n",
       "      <th>time</th>\n",
       "    </tr>\n",
       "  </thead>\n",
       "  <tbody>\n",
       "    <tr>\n",
       "      <th>0</th>\n",
       "      <td>89283082c2fffff</td>\n",
       "      <td>64</td>\n",
       "      <td>True</td>\n",
       "      <td>64.1</td>\n",
       "      <td>NaN</td>\n",
       "      <td>11/1/17 11:00</td>\n",
       "    </tr>\n",
       "    <tr>\n",
       "      <th>1</th>\n",
       "      <td>8928308288fffff</td>\n",
       "      <td>73</td>\n",
       "      <td>True</td>\n",
       "      <td>73.1</td>\n",
       "      <td>NaN</td>\n",
       "      <td>11/1/17 11:00</td>\n",
       "    </tr>\n",
       "    <tr>\n",
       "      <th>2</th>\n",
       "      <td>89283082c07ffff</td>\n",
       "      <td>65</td>\n",
       "      <td>True</td>\n",
       "      <td>65.1</td>\n",
       "      <td>NaN</td>\n",
       "      <td>11/1/17 11:00</td>\n",
       "    </tr>\n",
       "    <tr>\n",
       "      <th>3</th>\n",
       "      <td>89283082817ffff</td>\n",
       "      <td>74</td>\n",
       "      <td>True</td>\n",
       "      <td>74.1</td>\n",
       "      <td>NaN</td>\n",
       "      <td>11/1/17 11:00</td>\n",
       "    </tr>\n",
       "    <tr>\n",
       "      <th>4</th>\n",
       "      <td>89283082c3bffff</td>\n",
       "      <td>66</td>\n",
       "      <td>True</td>\n",
       "      <td>66.1</td>\n",
       "      <td>NaN</td>\n",
       "      <td>11/1/17 11:00</td>\n",
       "    </tr>\n",
       "  </tbody>\n",
       "</table>\n",
       "</div>"
      ],
      "text/plain": [
       "            hex_id  value  is_true  float_value  empty           time\n",
       "0  89283082c2fffff     64     True         64.1    NaN  11/1/17 11:00\n",
       "1  8928308288fffff     73     True         73.1    NaN  11/1/17 11:00\n",
       "2  89283082c07ffff     65     True         65.1    NaN  11/1/17 11:00\n",
       "3  89283082817ffff     74     True         74.1    NaN  11/1/17 11:00\n",
       "4  89283082c3bffff     66     True         66.1    NaN  11/1/17 11:00"
      ]
     },
     "execution_count": 69,
     "metadata": {},
     "output_type": "execute_result"
    }
   ],
   "source": [
    "df2 = pd.read_csv('hex-data.csv')\n",
    "df2.head()"
   ]
  },
  {
   "cell_type": "code",
   "execution_count": 70,
   "id": "794fe075-6e93-42ce-8af3-711368285d22",
   "metadata": {},
   "outputs": [],
   "source": [
    "config = {u'version': u'v1', u'config': {u'visState': {u'layers': [{u'type': u'hexagonId', u'visualChannels': {u'sizeField': {u'type': u'integer', u'name': u'value'}, u'coverageField': None, u'colorScale': u'quantize', u'coverageScale': u'linear', u'colorField': {u'type': u'integer', u'name': u'value'}, u'sizeScale': u'linear'}, u'config': {u'dataId': u'data_1', u'color': [250, 116, 0], u'textLabel': {u'color': [255, 255, 255], u'field': None, u'size': 50, u'anchor': u'middle', u'offset': [0, 0]}, u'label': u'H3 Hexagon', u'isVisible': True, u'visConfig': {u'coverageRange': [0, 1], u'opacity': 0.8, u'elevationScale': 5, u'hi-precision': False, u'coverage': 1, u'enable3d': True, u'sizeRange': [0, 500], u'colorRange': {u'category': u'Uber', u'type': u'sequential', u'colors': [u'#194266', u'#355C7D', u'#63617F', u'#916681', u'#C06C84', u'#D28389', u'#E59A8F', u'#F8B195'], u'reversed': False, u'name': u'Sunrise 8'}}, u'columns': {u'hex_id': u'hex_id'}}, u'id': u'jdys7lp'}], u'interactionConfig': {u'brush': {u'enabled': False, u'size': 0.5}, u'tooltip': {u'fieldsToShow': {u'data_1': [u'hex_id', u'valor_metro']}, u'enabled': True}}, u'splitMaps': [], u'layerBlending': u'normal', u'filters': []}, u'mapState': {u'bearing': 2.6192893401015205, u'dragRotate': True, u'zoom': 12, u'longitude': -56.1689, u'isSplit': False, u'pitch': 37.3742, u'latitude': -34.8732}, u'mapStyle': {u'mapStyles': {}, u'topLayerGroups': {}, u'styleType': u'dark', u'visibleLayerGroups': {u'building': True, u'land': True, u'3d building': False, u'label': True, u'water': True, u'border': False, u'road': True}}}}"
   ]
  },
  {
   "cell_type": "code",
   "execution_count": 71,
   "id": "1e03503c-5a1e-4496-b1ad-4a5e44454059",
   "metadata": {},
   "outputs": [
    {
     "name": "stdout",
     "output_type": "stream",
     "text": [
      "User Guide: https://docs.kepler.gl/docs/keplergl-jupyter\n"
     ]
    }
   ],
   "source": [
    "w1 = KeplerGl(height=500, data={\"data_1\": df}, config=config)\n",
    "\n"
   ]
  },
  {
   "cell_type": "code",
   "execution_count": 72,
   "id": "b3047213-c4fa-4ca8-a8f4-84274f212573",
   "metadata": {},
   "outputs": [
    {
     "name": "stdout",
     "output_type": "stream",
     "text": [
      "Map saved to kepler_map.html!\n"
     ]
    }
   ],
   "source": [
    "w1.save_to_html(file_name='kepler_map.html', config=config)"
   ]
  },
  {
   "cell_type": "code",
   "execution_count": null,
   "id": "a4d66298-1aae-4b75-9609-9fc7c3585145",
   "metadata": {},
   "outputs": [],
   "source": []
  }
 ],
 "metadata": {
  "kernelspec": {
   "display_name": "Python 3 (ipykernel)",
   "language": "python",
   "name": "python3"
  },
  "language_info": {
   "codemirror_mode": {
    "name": "ipython",
    "version": 3
   },
   "file_extension": ".py",
   "mimetype": "text/x-python",
   "name": "python",
   "nbconvert_exporter": "python",
   "pygments_lexer": "ipython3",
   "version": "3.9.5"
  }
 },
 "nbformat": 4,
 "nbformat_minor": 5
}

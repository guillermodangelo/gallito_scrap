{
 "cells": [
  {
   "cell_type": "code",
   "execution_count": 1,
   "metadata": {},
   "outputs": [],
   "source": [
    "from selenium import webdriver\n",
    "from selenium.webdriver.common.by import By\n",
    "from selenium.webdriver.support.ui import WebDriverWait\n",
    "from selenium.webdriver.support import expected_conditions as EC\n",
    "\n",
    "import pandas as pd\n",
    "import time\n",
    "\n",
    "from bs4 import BeautifulSoup"
   ]
  },
  {
   "cell_type": "code",
   "execution_count": 2,
   "metadata": {},
   "outputs": [],
   "source": [
    "def flatten(t):\n",
    "    return [item for sublist in t for item in sublist]"
   ]
  },
  {
   "cell_type": "code",
   "execution_count": 3,
   "metadata": {},
   "outputs": [],
   "source": [
    "# driver = webdriver.Chrome('C:/Users/user/Documents/chromedriver.exe')\n",
    "\n",
    "driver = webdriver.Chrome('/home/guillermo/Documentos/chromedriver_linux64/chromedriver')"
   ]
  },
  {
   "cell_type": "code",
   "execution_count": 4,
   "metadata": {},
   "outputs": [],
   "source": [
    "driver.get('https://www.gallito.com.uy/inmuebles/casas/venta/montevideo/ord_asc?pag=1')"
   ]
  },
  {
   "cell_type": "code",
   "execution_count": 5,
   "metadata": {},
   "outputs": [],
   "source": [
    "html = [e.get_attribute(\"innerHTML\") for e in driver.find_elements_by_css_selector('.contenedor-info .mas-info')]"
   ]
  },
  {
   "cell_type": "code",
   "execution_count": 6,
   "metadata": {},
   "outputs": [
    {
     "data": {
      "text/plain": [
       "'<a href=\"https://www.gallito.com.uy/cerrito-y-juan-carlos-gomez-inmuebles-14675869\"><span>160 m2</span><h2>Cerrito Y Juan Carlos Gomez</h2></a><div class=\"movil\"><span><img alt=\"El Gallito\" src=\"/img/phoneicon.png\"></span><a href=\"tel:097122312\">097122312</a></div><a class=\"btn-contactar\" href=\"https://www.gallito.com.uy/cerrito-y-juan-carlos-gomez-inmuebles-14675869#preguntas\" target=\"_blank\"> Contactar </a><div class=\"comparar\"></div>'"
      ]
     },
     "execution_count": 6,
     "metadata": {},
     "output_type": "execute_result"
    }
   ],
   "source": [
    "html[0]"
   ]
  },
  {
   "cell_type": "code",
   "execution_count": 7,
   "metadata": {},
   "outputs": [],
   "source": [
    "\n",
    "driver.get('https://www.gallito.com.uy/cerrito-y-juan-carlos-gomez-inmuebles-14675869')\n"
   ]
  },
  {
   "cell_type": "code",
   "execution_count": 8,
   "metadata": {},
   "outputs": [],
   "source": [
    "element = driver.find_element_by_xpath(\"/html/body/form/main/div/div[1]/ul/li[4]/a/i\")\n",
    "element.click()"
   ]
  },
  {
   "cell_type": "code",
   "execution_count": 23,
   "metadata": {},
   "outputs": [
    {
     "data": {
      "text/plain": [
       "[]"
      ]
     },
     "execution_count": 23,
     "metadata": {},
     "output_type": "execute_result"
    }
   ],
   "source": [
    "driver.find_elements_by_xpath(\"\"\"//*[@id=\"mapDiv\"]/div[1]/div/div[4]/div/div/div/div/div[2]/div[1]/a\"\"\")\n",
    "\n",
    "document.querySelector(\"#mapDiv > div:nth-child(1) > div > div:nth-child(5) > div > div > div > div > div.navigate > div.navigate > a\")"
   ]
  },
  {
   "cell_type": "code",
   "execution_count": 24,
   "metadata": {},
   "outputs": [
    {
     "data": {
      "text/plain": [
       "[]"
      ]
     },
     "execution_count": 24,
     "metadata": {},
     "output_type": "execute_result"
    }
   ],
   "source": [
    "[e.get_attribute(\"innerHTML\") for e in driver.find_elements_by_css_selector('#mapDiv > div:nth-child(1) > div > div:nth-child(5) > div > div > div > div > div.navigate > div.navigate > a')]"
   ]
  },
  {
   "cell_type": "code",
   "execution_count": 94,
   "metadata": {},
   "outputs": [],
   "source": [
    "urls= ['https://www.gallito.com.uy/inmuebles/casas/venta/montevideo/ord_asc?pag={}'.format(i) for i in range(1, 3)]"
   ]
  },
  {
   "cell_type": "code",
   "execution_count": 58,
   "metadata": {},
   "outputs": [
    {
     "data": {
      "text/plain": [
       "<selenium.webdriver.remote.webelement.WebElement (session=\"4eeaa0685faa1df9c85d33d5ba34330b\", element=\"4d5b3877-d936-4024-b8f9-ede93af5c34f\")>"
      ]
     },
     "execution_count": 58,
     "metadata": {},
     "output_type": "execute_result"
    }
   ],
   "source": []
  },
  {
   "cell_type": "code",
   "execution_count": 59,
   "metadata": {},
   "outputs": [
    {
     "ename": "NameError",
     "evalue": "name 'urls' is not defined",
     "output_type": "error",
     "traceback": [
      "\u001b[0;31m---------------------------------------------------------------------------\u001b[0m",
      "\u001b[0;31mNameError\u001b[0m                                 Traceback (most recent call last)",
      "\u001b[0;32m<ipython-input-59-88a170d7840a>\u001b[0m in \u001b[0;36m<module>\u001b[0;34m\u001b[0m\n\u001b[1;32m      1\u001b[0m \u001b[0mdata\u001b[0m \u001b[0;34m=\u001b[0m \u001b[0;34m[\u001b[0m\u001b[0;34m]\u001b[0m\u001b[0;34m\u001b[0m\u001b[0;34m\u001b[0m\u001b[0m\n\u001b[1;32m      2\u001b[0m \u001b[0mmetraje\u001b[0m \u001b[0;34m=\u001b[0m \u001b[0;34m[\u001b[0m\u001b[0;34m]\u001b[0m\u001b[0;34m\u001b[0m\u001b[0;34m\u001b[0m\u001b[0m\n\u001b[0;32m----> 3\u001b[0;31m \u001b[0;32mfor\u001b[0m \u001b[0murl\u001b[0m \u001b[0;32min\u001b[0m \u001b[0murls\u001b[0m\u001b[0;34m:\u001b[0m\u001b[0;34m\u001b[0m\u001b[0;34m\u001b[0m\u001b[0m\n\u001b[0m\u001b[1;32m      4\u001b[0m     \u001b[0;32mtry\u001b[0m\u001b[0;34m:\u001b[0m\u001b[0;34m\u001b[0m\u001b[0;34m\u001b[0m\u001b[0m\n\u001b[1;32m      5\u001b[0m         \u001b[0mdriver\u001b[0m\u001b[0;34m.\u001b[0m\u001b[0mget\u001b[0m\u001b[0;34m(\u001b[0m\u001b[0murl\u001b[0m\u001b[0;34m)\u001b[0m\u001b[0;34m\u001b[0m\u001b[0;34m\u001b[0m\u001b[0m\n",
      "\u001b[0;31mNameError\u001b[0m: name 'urls' is not defined"
     ]
    }
   ],
   "source": [
    "    data = []\n",
    "    metraje = []\n",
    "    for url in urls:\n",
    "        try:\n",
    "            driver.get(url)\n",
    "        except:\n",
    "            print('Get method failed, check URL.')\n",
    "        pagina = [e.text.splitlines() for e in driver.find_elements_by_css_selector('.contenedor-info')]\n",
    "        data.append(pagina)\n",
    "        html = [e.get_attribute(\"innerHTML\") for e in driver.find_elements_by_css_selector('.contenedor-info .mas-info')]\n",
    "        for i in html:\n",
    "            soup = BeautifulSoup(i, \"html.parser\")\n",
    "            metraje.append(soup.span.text)\n",
    "    flat_list = flatten(data)\n",
    "    result = pd.DataFrame(flat_list, columns=['desc', 'valor'])\n",
    "    result['metraje'] = metraje\n",
    "    result['metraje'] = result['metraje'].replace({' m2': ''}, regex=True)"
   ]
  },
  {
   "cell_type": "code",
   "execution_count": 5,
   "metadata": {},
   "outputs": [],
   "source": [
    "urls= ['https://www.gallito.com.uy/inmuebles/casas/venta/montevideo/ord_asc?pag={}'.format(i) for i in range(1, 155)]"
   ]
  },
  {
   "cell_type": "code",
   "execution_count": 7,
   "metadata": {},
   "outputs": [],
   "source": [
    "def scrapper(urls):\n",
    "    data = []\n",
    "    metraje = []\n",
    "    for url in urls:\n",
    "        try:\n",
    "            driver.get(url)\n",
    "        except:\n",
    "            print('Get method failed, check URL.')\n",
    "        pagina = [e.text.splitlines() for e in driver.find_elements_by_css_selector('.contenedor-info')]\n",
    "        data.append(pagina)\n",
    "        html = [e.get_attribute(\"innerHTML\") for e in driver.find_elements_by_css_selector('.contenedor-info .mas-info')]\n",
    "\n",
    "        for i in html:\n",
    "            soup = BeautifulSoup(i, \"html.parser\")\n",
    "            metraje.append(soup.span.text)\n",
    "\n",
    "        time.sleep(1)\n",
    "\n",
    "    flat_list = flatten(data)\n",
    "    result = pd.DataFrame(flat_list, columns=['desc', 'valor'])\n",
    "    result['metraje'] = metraje\n",
    "    result['metraje'] = result['metraje'].replace({' m2': ''}, regex=True)\n",
    "    \n",
    "    return result"
   ]
  },
  {
   "cell_type": "code",
   "execution_count": 8,
   "metadata": {},
   "outputs": [],
   "source": [
    "data = scrapper(urls)"
   ]
  },
  {
   "cell_type": "code",
   "execution_count": 12,
   "metadata": {},
   "outputs": [
    {
     "data": {
      "text/html": [
       "<div>\n",
       "<style scoped>\n",
       "    .dataframe tbody tr th:only-of-type {\n",
       "        vertical-align: middle;\n",
       "    }\n",
       "\n",
       "    .dataframe tbody tr th {\n",
       "        vertical-align: top;\n",
       "    }\n",
       "\n",
       "    .dataframe thead th {\n",
       "        text-align: right;\n",
       "    }\n",
       "</style>\n",
       "<table border=\"1\" class=\"dataframe\">\n",
       "  <thead>\n",
       "    <tr style=\"text-align: right;\">\n",
       "      <th></th>\n",
       "      <th>desc</th>\n",
       "      <th>valor</th>\n",
       "      <th>metraje</th>\n",
       "    </tr>\n",
       "  </thead>\n",
       "  <tbody>\n",
       "    <tr>\n",
       "      <th>0</th>\n",
       "      <td>2 Dormitorios en Ciudad Vieja</td>\n",
       "      <td>U$S 1</td>\n",
       "      <td>160</td>\n",
       "    </tr>\n",
       "    <tr>\n",
       "      <th>1</th>\n",
       "      <td>Más de 4 dormitorios en Pocitos</td>\n",
       "      <td>U$S 1</td>\n",
       "      <td>300</td>\n",
       "    </tr>\n",
       "    <tr>\n",
       "      <th>2</th>\n",
       "      <td>Más de 4 dormitorios en Otro</td>\n",
       "      <td>U$S 100</td>\n",
       "      <td>500</td>\n",
       "    </tr>\n",
       "    <tr>\n",
       "      <th>3</th>\n",
       "      <td>3 Dormitorios en Maroñas Curva</td>\n",
       "      <td>U$S 115</td>\n",
       "      <td>82</td>\n",
       "    </tr>\n",
       "    <tr>\n",
       "      <th>4</th>\n",
       "      <td>3 Dormitorios en Goes</td>\n",
       "      <td>U$S 120</td>\n",
       "      <td>67</td>\n",
       "    </tr>\n",
       "    <tr>\n",
       "      <th>5</th>\n",
       "      <td>2 Dormitorios en Prado</td>\n",
       "      <td>U$S 199</td>\n",
       "      <td></td>\n",
       "    </tr>\n",
       "    <tr>\n",
       "      <th>6</th>\n",
       "      <td>2 Dormitorios en Maroñas</td>\n",
       "      <td>$U 16.500</td>\n",
       "      <td>59</td>\n",
       "    </tr>\n",
       "    <tr>\n",
       "      <th>7</th>\n",
       "      <td>3 Dormitorios en Pocitos Nuevo</td>\n",
       "      <td>$U 38.000</td>\n",
       "      <td>150</td>\n",
       "    </tr>\n",
       "    <tr>\n",
       "      <th>8</th>\n",
       "      <td>1 Dormitorio en Colon</td>\n",
       "      <td>$U 65.000</td>\n",
       "      <td>50</td>\n",
       "    </tr>\n",
       "    <tr>\n",
       "      <th>9</th>\n",
       "      <td>3 Dormitorios en Arroyo Seco</td>\n",
       "      <td>$U 128.000</td>\n",
       "      <td>115</td>\n",
       "    </tr>\n",
       "  </tbody>\n",
       "</table>\n",
       "</div>"
      ],
      "text/plain": [
       "                              desc       valor metraje\n",
       "0    2 Dormitorios en Ciudad Vieja       U$S 1     160\n",
       "1  Más de 4 dormitorios en Pocitos       U$S 1     300\n",
       "2     Más de 4 dormitorios en Otro     U$S 100     500\n",
       "3   3 Dormitorios en Maroñas Curva     U$S 115      82\n",
       "4            3 Dormitorios en Goes     U$S 120      67\n",
       "5           2 Dormitorios en Prado     U$S 199        \n",
       "6         2 Dormitorios en Maroñas   $U 16.500      59\n",
       "7   3 Dormitorios en Pocitos Nuevo   $U 38.000     150\n",
       "8            1 Dormitorio en Colon   $U 65.000      50\n",
       "9     3 Dormitorios en Arroyo Seco  $U 128.000     115"
      ]
     },
     "execution_count": 12,
     "metadata": {},
     "output_type": "execute_result"
    }
   ],
   "source": [
    "data.head(10)"
   ]
  },
  {
   "cell_type": "code",
   "execution_count": 9,
   "metadata": {},
   "outputs": [
    {
     "data": {
      "text/plain": [
       "(6129, 3)"
      ]
     },
     "execution_count": 9,
     "metadata": {},
     "output_type": "execute_result"
    }
   ],
   "source": [
    "data.shape"
   ]
  },
  {
   "cell_type": "code",
   "execution_count": 11,
   "metadata": {},
   "outputs": [],
   "source": [
    "data.to_csv('ventas_mvdeo_20210706.csv', index=False)"
   ]
  },
  {
   "cell_type": "code",
   "execution_count": 61,
   "metadata": {},
   "outputs": [],
   "source": [
    "# limpieza\n",
    "data = pd.read_csv('ventas_mvdeo_20210706.csv')\n",
    "\n",
    "data['valor'].str.replace('U', '')\n",
    "\n",
    "for word, rep in {\"U\":\" \", \"S\":\"\", \"$\":\"\", \".\":\"\"}.items():\n",
    "    data['valor'] = data['valor'].str.replace(word, rep, regex=False)"
   ]
  },
  {
   "cell_type": "code",
   "execution_count": 62,
   "metadata": {},
   "outputs": [],
   "source": [
    "data['valor'] = data['valor'].astype(int)"
   ]
  },
  {
   "cell_type": "code",
   "execution_count": 63,
   "metadata": {},
   "outputs": [
    {
     "data": {
      "text/plain": [
       "6129"
      ]
     },
     "execution_count": 63,
     "metadata": {},
     "output_type": "execute_result"
    }
   ],
   "source": [
    "len(data)"
   ]
  },
  {
   "cell_type": "code",
   "execution_count": 64,
   "metadata": {},
   "outputs": [
    {
     "data": {
      "text/html": [
       "<div>\n",
       "<style scoped>\n",
       "    .dataframe tbody tr th:only-of-type {\n",
       "        vertical-align: middle;\n",
       "    }\n",
       "\n",
       "    .dataframe tbody tr th {\n",
       "        vertical-align: top;\n",
       "    }\n",
       "\n",
       "    .dataframe thead th {\n",
       "        text-align: right;\n",
       "    }\n",
       "</style>\n",
       "<table border=\"1\" class=\"dataframe\">\n",
       "  <thead>\n",
       "    <tr style=\"text-align: right;\">\n",
       "      <th></th>\n",
       "      <th>desc</th>\n",
       "      <th>valor</th>\n",
       "      <th>metraje</th>\n",
       "    </tr>\n",
       "  </thead>\n",
       "  <tbody>\n",
       "    <tr>\n",
       "      <th>8</th>\n",
       "      <td>1 Dormitorio en Colon</td>\n",
       "      <td>65000</td>\n",
       "      <td>50.0</td>\n",
       "    </tr>\n",
       "    <tr>\n",
       "      <th>9</th>\n",
       "      <td>3 Dormitorios en Arroyo Seco</td>\n",
       "      <td>128000</td>\n",
       "      <td>115.0</td>\n",
       "    </tr>\n",
       "    <tr>\n",
       "      <th>11</th>\n",
       "      <td>3 Dormitorios en Prado Norte</td>\n",
       "      <td>155000</td>\n",
       "      <td>146.0</td>\n",
       "    </tr>\n",
       "    <tr>\n",
       "      <th>12</th>\n",
       "      <td>4 Dormitorios en Punta Carretas</td>\n",
       "      <td>198000</td>\n",
       "      <td>81.0</td>\n",
       "    </tr>\n",
       "    <tr>\n",
       "      <th>13</th>\n",
       "      <td>3 Dormitorios en Malvin</td>\n",
       "      <td>230000</td>\n",
       "      <td>95.0</td>\n",
       "    </tr>\n",
       "  </tbody>\n",
       "</table>\n",
       "</div>"
      ],
      "text/plain": [
       "                               desc   valor  metraje\n",
       "8             1 Dormitorio en Colon   65000     50.0\n",
       "9      3 Dormitorios en Arroyo Seco  128000    115.0\n",
       "11     3 Dormitorios en Prado Norte  155000    146.0\n",
       "12  4 Dormitorios en Punta Carretas  198000     81.0\n",
       "13          3 Dormitorios en Malvin  230000     95.0"
      ]
     },
     "execution_count": 64,
     "metadata": {},
     "output_type": "execute_result"
    }
   ],
   "source": [
    "data = data.loc[~((data.valor == 111111111) | (data.valor < 45000))]\n",
    "data.head()"
   ]
  },
  {
   "cell_type": "code",
   "execution_count": 65,
   "metadata": {},
   "outputs": [],
   "source": [
    "data[['dormitorios', 'barrio']] = data['desc'].str.split(' en ', n = 1, expand = True)"
   ]
  },
  {
   "cell_type": "code",
   "execution_count": 66,
   "metadata": {},
   "outputs": [],
   "source": [
    "# data.to_csv('ventas_mvdeo_20210706_depu.csv', index=False)"
   ]
  },
  {
   "cell_type": "code",
   "execution_count": 67,
   "metadata": {},
   "outputs": [],
   "source": [
    "# pd.Series(data.barrio.unique()).to_csv('cod.csv')"
   ]
  },
  {
   "cell_type": "code",
   "execution_count": 68,
   "metadata": {},
   "outputs": [],
   "source": [
    "data['barrio_ine'] = data['barrio']"
   ]
  },
  {
   "cell_type": "code",
   "execution_count": 73,
   "metadata": {},
   "outputs": [],
   "source": [
    "def format_barrio(df, column):\n",
    "    \"Formatea strings de Barrio Gallito a Barrio INE\"\n",
    "    barrios_dict = {\n",
    "        'Aguada' : 'Aguada',\n",
    "        'Aires Puros' : 'Aires Puros',\n",
    "        'Atahualpa' : 'Atahualpa',\n",
    "        'B. De Carrasco' : 'Bañados de Carrasco',\n",
    "        'Barrio Sur' : 'Barrio Sur',\n",
    "        'Belvedere' : 'Belvedere',\n",
    "        'Brazo Oriental' : 'Brazo Oriental',\n",
    "        'Buceo' : 'Buceo',\n",
    "        'Capurro' : 'Capurro, Bella Vista',\n",
    "        'Carrasco' : 'Carrasco',\n",
    "        'Carrasco Norte' : 'Carrasco Norte',\n",
    "        'Casabo' : 'Casabó, Pajas Blancas',\n",
    "        'Casavalle' : 'Casavalle',\n",
    "        'Centro' : 'Centro',\n",
    "        'Cerrito' : 'Cerrito',\n",
    "        'Cerro' : 'Cerro',\n",
    "        'Ciudad Vieja' : 'Ciudad Vieja',\n",
    "        'Cno. Maldonado' : 'Colón Centro y Noroeste',\n",
    "        'Colon' : 'Colón Sureste, Abayubá',\n",
    "        'Cordon' : 'Cordón',\n",
    "        'Golf' : 'Flor de Maroñas',\n",
    "        'Ituzaingo' : 'Ituzaingó',\n",
    "        'J. Hipodromo' : 'Jardines del Hipódromo',\n",
    "        'Jacinto Vera' : 'Jacinto Vera',\n",
    "        'La Blanqueada' : 'La Blanqueada',\n",
    "        'La Comercial' : 'La Comercial',\n",
    "        'La Figurita' : 'La Figurita',\n",
    "        'La Teja' : 'La Teja',\n",
    "        'Larrañaga' : 'Larrañaga',\n",
    "        'Las Acacias' : 'Las Acacias',\n",
    "        'Lezica' : 'Lezica, Melilla',\n",
    "        'Malvin' : 'Malvín',\n",
    "        'Malvin Norte' : 'Malvín Norte',\n",
    "        'Manga' : 'Manga',\n",
    "        'Maroñas' : 'Maroñas, Parque Guaraní',\n",
    "        'Maroñas Curva' : 'Maroñas, Parque Guaraní',\n",
    "        'Melilla' : 'Lezica, Melilla',\n",
    "        'Nuevo Paris' : 'Mercado Modelo, Bolívar',\n",
    "        'Pajas Blancas' : 'Nuevo París',\n",
    "        'Palermo' : 'Palermo',\n",
    "        'Parque Batlle' : 'Parque Batlle, Villa Dolores',\n",
    "        'Parque Rodo' : 'Parque Rodó',\n",
    "        'Paso De La Arena' : 'Paso de la Arena',\n",
    "        'Peñarol' : 'Peñarol, Lavalleja',\n",
    "        'Perez Castellanos' : 'Castro, P. Castellanos',\n",
    "        'Piedras Blancas' : 'Piedras Blancas',\n",
    "        'Pocitos' : 'Pocitos',\n",
    "        'Pocitos Nuevo' : 'Pocitos',\n",
    "        'Prado' : 'Prado, Nueva Savona',\n",
    "        'Prado Norte' : 'Prado, Nueva Savona',\n",
    "        'Puerto Buceo' : 'Buceo',\n",
    "        'Punta Carretas' : 'Punta Carretas',\n",
    "        'Punta Gorda' : 'Punta Gorda',\n",
    "        'Punta Rieles' : 'Punta Rieles, Bella Italia',\n",
    "        'Reducto' : 'Reducto',\n",
    "        'Sayago' : 'Sayago',\n",
    "        'Tres Cruces' : 'Tres Cruces',\n",
    "        'Union' : 'Unión',\n",
    "        'Villa Dolores' : 'Parque Batlle, Villa Dolores',\n",
    "        'Villa Española' : 'Villa Española',\n",
    "        'Villa Muñoz' : 'Villa Muñoz, Retiro'\n",
    "        }\n",
    "\n",
    "    return df[column].map(barrios_dict)"
   ]
  },
  {
   "cell_type": "code",
   "execution_count": 76,
   "metadata": {},
   "outputs": [],
   "source": [
    "data['barrio_ine'] = format_barrio(data, 'barrio')"
   ]
  },
  {
   "cell_type": "code",
   "execution_count": 77,
   "metadata": {},
   "outputs": [
    {
     "data": {
      "text/html": [
       "<div>\n",
       "<style scoped>\n",
       "    .dataframe tbody tr th:only-of-type {\n",
       "        vertical-align: middle;\n",
       "    }\n",
       "\n",
       "    .dataframe tbody tr th {\n",
       "        vertical-align: top;\n",
       "    }\n",
       "\n",
       "    .dataframe thead th {\n",
       "        text-align: right;\n",
       "    }\n",
       "</style>\n",
       "<table border=\"1\" class=\"dataframe\">\n",
       "  <thead>\n",
       "    <tr style=\"text-align: right;\">\n",
       "      <th></th>\n",
       "      <th>desc</th>\n",
       "      <th>valor</th>\n",
       "      <th>metraje</th>\n",
       "      <th>dormitorios</th>\n",
       "      <th>barrio</th>\n",
       "      <th>barrio_ine</th>\n",
       "    </tr>\n",
       "  </thead>\n",
       "  <tbody>\n",
       "    <tr>\n",
       "      <th>8</th>\n",
       "      <td>1 Dormitorio en Colon</td>\n",
       "      <td>65000</td>\n",
       "      <td>50.0</td>\n",
       "      <td>1 Dormitorio</td>\n",
       "      <td>Colon</td>\n",
       "      <td>Colón Sureste, Abayubá</td>\n",
       "    </tr>\n",
       "    <tr>\n",
       "      <th>9</th>\n",
       "      <td>3 Dormitorios en Arroyo Seco</td>\n",
       "      <td>128000</td>\n",
       "      <td>115.0</td>\n",
       "      <td>3 Dormitorios</td>\n",
       "      <td>Arroyo Seco</td>\n",
       "      <td>NaN</td>\n",
       "    </tr>\n",
       "    <tr>\n",
       "      <th>11</th>\n",
       "      <td>3 Dormitorios en Prado Norte</td>\n",
       "      <td>155000</td>\n",
       "      <td>146.0</td>\n",
       "      <td>3 Dormitorios</td>\n",
       "      <td>Prado Norte</td>\n",
       "      <td>Prado, Nueva Savona</td>\n",
       "    </tr>\n",
       "    <tr>\n",
       "      <th>12</th>\n",
       "      <td>4 Dormitorios en Punta Carretas</td>\n",
       "      <td>198000</td>\n",
       "      <td>81.0</td>\n",
       "      <td>4 Dormitorios</td>\n",
       "      <td>Punta Carretas</td>\n",
       "      <td>Punta Carretas</td>\n",
       "    </tr>\n",
       "    <tr>\n",
       "      <th>13</th>\n",
       "      <td>3 Dormitorios en Malvin</td>\n",
       "      <td>230000</td>\n",
       "      <td>95.0</td>\n",
       "      <td>3 Dormitorios</td>\n",
       "      <td>Malvin</td>\n",
       "      <td>Malvín</td>\n",
       "    </tr>\n",
       "    <tr>\n",
       "      <th>14</th>\n",
       "      <td>3 Dormitorios en Malvin</td>\n",
       "      <td>230000</td>\n",
       "      <td>95.0</td>\n",
       "      <td>3 Dormitorios</td>\n",
       "      <td>Malvin</td>\n",
       "      <td>Malvín</td>\n",
       "    </tr>\n",
       "    <tr>\n",
       "      <th>16</th>\n",
       "      <td>Más de 4 dormitorios en Centro</td>\n",
       "      <td>450000</td>\n",
       "      <td>200.0</td>\n",
       "      <td>Más de 4 dormitorios</td>\n",
       "      <td>Centro</td>\n",
       "      <td>Centro</td>\n",
       "    </tr>\n",
       "    <tr>\n",
       "      <th>46</th>\n",
       "      <td>2 Dormitorios en Belvedere</td>\n",
       "      <td>45000</td>\n",
       "      <td>66.0</td>\n",
       "      <td>2 Dormitorios</td>\n",
       "      <td>Belvedere</td>\n",
       "      <td>Belvedere</td>\n",
       "    </tr>\n",
       "    <tr>\n",
       "      <th>47</th>\n",
       "      <td>3 Dormitorios en Cno. Maldonado</td>\n",
       "      <td>45000</td>\n",
       "      <td>74.0</td>\n",
       "      <td>3 Dormitorios</td>\n",
       "      <td>Cno. Maldonado</td>\n",
       "      <td>Colón Centro y Noroeste</td>\n",
       "    </tr>\n",
       "    <tr>\n",
       "      <th>48</th>\n",
       "      <td>3 Dormitorios en Manga</td>\n",
       "      <td>45000</td>\n",
       "      <td>120.0</td>\n",
       "      <td>3 Dormitorios</td>\n",
       "      <td>Manga</td>\n",
       "      <td>Manga</td>\n",
       "    </tr>\n",
       "    <tr>\n",
       "      <th>49</th>\n",
       "      <td>1 Dormitorio en Cerrito</td>\n",
       "      <td>45000</td>\n",
       "      <td>41.0</td>\n",
       "      <td>1 Dormitorio</td>\n",
       "      <td>Cerrito</td>\n",
       "      <td>Cerrito</td>\n",
       "    </tr>\n",
       "    <tr>\n",
       "      <th>50</th>\n",
       "      <td>1 Dormitorio en Lezica</td>\n",
       "      <td>45000</td>\n",
       "      <td>NaN</td>\n",
       "      <td>1 Dormitorio</td>\n",
       "      <td>Lezica</td>\n",
       "      <td>Lezica, Melilla</td>\n",
       "    </tr>\n",
       "    <tr>\n",
       "      <th>51</th>\n",
       "      <td>2 Dormitorios en Punta Rieles</td>\n",
       "      <td>45000</td>\n",
       "      <td>NaN</td>\n",
       "      <td>2 Dormitorios</td>\n",
       "      <td>Punta Rieles</td>\n",
       "      <td>Punta Rieles, Bella Italia</td>\n",
       "    </tr>\n",
       "    <tr>\n",
       "      <th>52</th>\n",
       "      <td>1 Dormitorio en Peñarol</td>\n",
       "      <td>45000</td>\n",
       "      <td>39.0</td>\n",
       "      <td>1 Dormitorio</td>\n",
       "      <td>Peñarol</td>\n",
       "      <td>Peñarol, Lavalleja</td>\n",
       "    </tr>\n",
       "    <tr>\n",
       "      <th>53</th>\n",
       "      <td>2 Dormitorios en Cerro</td>\n",
       "      <td>45000</td>\n",
       "      <td>80.0</td>\n",
       "      <td>2 Dormitorios</td>\n",
       "      <td>Cerro</td>\n",
       "      <td>Cerro</td>\n",
       "    </tr>\n",
       "  </tbody>\n",
       "</table>\n",
       "</div>"
      ],
      "text/plain": [
       "                               desc   valor  metraje           dormitorios  \\\n",
       "8             1 Dormitorio en Colon   65000     50.0          1 Dormitorio   \n",
       "9      3 Dormitorios en Arroyo Seco  128000    115.0         3 Dormitorios   \n",
       "11     3 Dormitorios en Prado Norte  155000    146.0         3 Dormitorios   \n",
       "12  4 Dormitorios en Punta Carretas  198000     81.0         4 Dormitorios   \n",
       "13          3 Dormitorios en Malvin  230000     95.0         3 Dormitorios   \n",
       "14          3 Dormitorios en Malvin  230000     95.0         3 Dormitorios   \n",
       "16   Más de 4 dormitorios en Centro  450000    200.0  Más de 4 dormitorios   \n",
       "46       2 Dormitorios en Belvedere   45000     66.0         2 Dormitorios   \n",
       "47  3 Dormitorios en Cno. Maldonado   45000     74.0         3 Dormitorios   \n",
       "48           3 Dormitorios en Manga   45000    120.0         3 Dormitorios   \n",
       "49          1 Dormitorio en Cerrito   45000     41.0          1 Dormitorio   \n",
       "50           1 Dormitorio en Lezica   45000      NaN          1 Dormitorio   \n",
       "51    2 Dormitorios en Punta Rieles   45000      NaN         2 Dormitorios   \n",
       "52          1 Dormitorio en Peñarol   45000     39.0          1 Dormitorio   \n",
       "53           2 Dormitorios en Cerro   45000     80.0         2 Dormitorios   \n",
       "\n",
       "            barrio                  barrio_ine  \n",
       "8            Colon      Colón Sureste, Abayubá  \n",
       "9      Arroyo Seco                         NaN  \n",
       "11     Prado Norte         Prado, Nueva Savona  \n",
       "12  Punta Carretas              Punta Carretas  \n",
       "13          Malvin                      Malvín  \n",
       "14          Malvin                      Malvín  \n",
       "16          Centro                      Centro  \n",
       "46       Belvedere                   Belvedere  \n",
       "47  Cno. Maldonado     Colón Centro y Noroeste  \n",
       "48           Manga                       Manga  \n",
       "49         Cerrito                     Cerrito  \n",
       "50          Lezica             Lezica, Melilla  \n",
       "51    Punta Rieles  Punta Rieles, Bella Italia  \n",
       "52         Peñarol          Peñarol, Lavalleja  \n",
       "53           Cerro                       Cerro  "
      ]
     },
     "execution_count": 77,
     "metadata": {},
     "output_type": "execute_result"
    }
   ],
   "source": [
    "data.head(15)"
   ]
  },
  {
   "cell_type": "code",
   "execution_count": 78,
   "metadata": {},
   "outputs": [],
   "source": [
    "def encode_barrio(df, column):\n",
    "    \"Codifica barrio INE\"\n",
    "    barrios_dict = {\n",
    "    'Ciudad Vieja':1,\n",
    "    'Centro':2,\n",
    "    'Barrio Sur':3,\n",
    "    'Cordón':4,\n",
    "    'Palermo':5,\n",
    "    'Parque Rodó':6,\n",
    "    'Punta Carretas':7,\n",
    "    'Pocitos':8,\n",
    "    'Buceo':9,\n",
    "    'Parque Batlle, Villa Dolores':10,\n",
    "    'Malvín':11,\n",
    "    'Malvín Norte':12,\n",
    "    'Punta Gorda':13,\n",
    "    'Carrasco':14,\n",
    "    'Carrasco Norte':15,\n",
    "    'Bañados de Carrasco':16,\n",
    "    'Maroñas, Parque Guaraní':17,\n",
    "    'Flor de Maroñas':18,\n",
    "    'Las Canteras':19,\n",
    "    'Punta Rieles, Bella Italia':20,\n",
    "    'Jardines del Hipódromo':21,\n",
    "    'Ituzaingó':22,\n",
    "    'Unión':23,\n",
    "    'Villa Española':24,\n",
    "    'Mercado Modelo, Bolívar':25,\n",
    "    'Castro, P. Castellanos':26,\n",
    "    'Cerrito':27,\n",
    "    'Las Acacias':28,\n",
    "    'Aires Puros':29,\n",
    "    'Casavalle':30,\n",
    "    'Piedras Blancas':31,\n",
    "    'Manga, Toledo Chico':32,\n",
    "    'Paso de las Duranas':33,\n",
    "    'Peñarol, Lavalleja':34,\n",
    "    'Cerro':35,\n",
    "    'Casabó, Pajas Blancas':36,\n",
    "    'La Paloma, Tomkinson':37,\n",
    "    'La Teja':38,\n",
    "    'Prado, Nueva Savona':39,\n",
    "    'Capurro, Bella Vista':40,\n",
    "    'Aguada':41,\n",
    "    'Reducto':42,\n",
    "    'Atahualpa':43,\n",
    "    'Jacinto Vera':44,\n",
    "    'La Figurita':45,\n",
    "    'Larrañaga':46,\n",
    "    'La Blanqueada':47,\n",
    "    'Villa Muñoz, Retiro':48,\n",
    "    'La Comercial':49,\n",
    "    'Tres Cruces':50,\n",
    "    'Brazo Oriental':51,\n",
    "    'Sayago':52,\n",
    "    'Conciliación':53,\n",
    "    'Belvedere':54,\n",
    "    'Nuevo París':55,\n",
    "    'Tres Ombúes, Victoria':56,\n",
    "    'Paso de la Arena':57,\n",
    "    'Colón Sureste, Abayubá':58,\n",
    "    'Colón Centro y Noroeste':59,\n",
    "    'Lezica, Melilla':60,\n",
    "    'Villa García, Manga Rural':61,\n",
    "    'Manga':62\n",
    "        }\n",
    "    return df[column].map(barrios_dict)"
   ]
  },
  {
   "cell_type": "code",
   "execution_count": 79,
   "metadata": {},
   "outputs": [
    {
     "data": {
      "text/html": [
       "<div>\n",
       "<style scoped>\n",
       "    .dataframe tbody tr th:only-of-type {\n",
       "        vertical-align: middle;\n",
       "    }\n",
       "\n",
       "    .dataframe tbody tr th {\n",
       "        vertical-align: top;\n",
       "    }\n",
       "\n",
       "    .dataframe thead th {\n",
       "        text-align: right;\n",
       "    }\n",
       "</style>\n",
       "<table border=\"1\" class=\"dataframe\">\n",
       "  <thead>\n",
       "    <tr style=\"text-align: right;\">\n",
       "      <th></th>\n",
       "      <th>desc</th>\n",
       "      <th>valor</th>\n",
       "      <th>metraje</th>\n",
       "      <th>dormitorios</th>\n",
       "      <th>barrio</th>\n",
       "      <th>barrio_ine</th>\n",
       "      <th>cod_barrio_ine</th>\n",
       "    </tr>\n",
       "  </thead>\n",
       "  <tbody>\n",
       "    <tr>\n",
       "      <th>8</th>\n",
       "      <td>1 Dormitorio en Colon</td>\n",
       "      <td>65000</td>\n",
       "      <td>50.0</td>\n",
       "      <td>1 Dormitorio</td>\n",
       "      <td>Colon</td>\n",
       "      <td>Colón Sureste, Abayubá</td>\n",
       "      <td>58.0</td>\n",
       "    </tr>\n",
       "    <tr>\n",
       "      <th>9</th>\n",
       "      <td>3 Dormitorios en Arroyo Seco</td>\n",
       "      <td>128000</td>\n",
       "      <td>115.0</td>\n",
       "      <td>3 Dormitorios</td>\n",
       "      <td>Arroyo Seco</td>\n",
       "      <td>NaN</td>\n",
       "      <td>NaN</td>\n",
       "    </tr>\n",
       "    <tr>\n",
       "      <th>11</th>\n",
       "      <td>3 Dormitorios en Prado Norte</td>\n",
       "      <td>155000</td>\n",
       "      <td>146.0</td>\n",
       "      <td>3 Dormitorios</td>\n",
       "      <td>Prado Norte</td>\n",
       "      <td>Prado, Nueva Savona</td>\n",
       "      <td>39.0</td>\n",
       "    </tr>\n",
       "    <tr>\n",
       "      <th>12</th>\n",
       "      <td>4 Dormitorios en Punta Carretas</td>\n",
       "      <td>198000</td>\n",
       "      <td>81.0</td>\n",
       "      <td>4 Dormitorios</td>\n",
       "      <td>Punta Carretas</td>\n",
       "      <td>Punta Carretas</td>\n",
       "      <td>7.0</td>\n",
       "    </tr>\n",
       "    <tr>\n",
       "      <th>13</th>\n",
       "      <td>3 Dormitorios en Malvin</td>\n",
       "      <td>230000</td>\n",
       "      <td>95.0</td>\n",
       "      <td>3 Dormitorios</td>\n",
       "      <td>Malvin</td>\n",
       "      <td>Malvín</td>\n",
       "      <td>11.0</td>\n",
       "    </tr>\n",
       "  </tbody>\n",
       "</table>\n",
       "</div>"
      ],
      "text/plain": [
       "                               desc   valor  metraje    dormitorios  \\\n",
       "8             1 Dormitorio en Colon   65000     50.0   1 Dormitorio   \n",
       "9      3 Dormitorios en Arroyo Seco  128000    115.0  3 Dormitorios   \n",
       "11     3 Dormitorios en Prado Norte  155000    146.0  3 Dormitorios   \n",
       "12  4 Dormitorios en Punta Carretas  198000     81.0  4 Dormitorios   \n",
       "13          3 Dormitorios en Malvin  230000     95.0  3 Dormitorios   \n",
       "\n",
       "            barrio              barrio_ine  cod_barrio_ine  \n",
       "8            Colon  Colón Sureste, Abayubá            58.0  \n",
       "9      Arroyo Seco                     NaN             NaN  \n",
       "11     Prado Norte     Prado, Nueva Savona            39.0  \n",
       "12  Punta Carretas          Punta Carretas             7.0  \n",
       "13          Malvin                  Malvín            11.0  "
      ]
     },
     "execution_count": 79,
     "metadata": {},
     "output_type": "execute_result"
    }
   ],
   "source": [
    "data['cod_barrio_ine'] = encode_barrio(data, 'barrio_ine')\n",
    "data.head()"
   ]
  },
  {
   "cell_type": "code",
   "execution_count": 83,
   "metadata": {},
   "outputs": [],
   "source": [
    "\n",
    "data = data.loc[(data.metraje > 10) & (data.metraje < 4000) & (~data.metraje.isna())]\n",
    "\n",
    "data['metraje'] = data['metraje'].astype(int)\n",
    "\n",
    "data['valor_metro'] = data['valor'] / data['metraje']\n",
    "\n",
    "agru = data.groupby('cod_barrio_ine').median('valor_metro').reset_index()\n",
    "\n",
    "agru['cod_barrio_ine'] = agru['cod_barrio_ine'].astype(int)\n",
    "                                                       \n",
    "agru.to_csv('agru.csv', index=False)"
   ]
  },
  {
   "cell_type": "code",
   "execution_count": null,
   "metadata": {},
   "outputs": [],
   "source": []
  }
 ],
 "metadata": {
  "interpreter": {
   "hash": "24c9600e5b7339f449bd335ad8180591b83c0fdfdd17b90ba098a9687ce7e6ad"
  },
  "kernelspec": {
   "display_name": "Python 3",
   "language": "python",
   "name": "python3"
  },
  "language_info": {
   "codemirror_mode": {
    "name": "ipython",
    "version": 3
   },
   "file_extension": ".py",
   "mimetype": "text/x-python",
   "name": "python",
   "nbconvert_exporter": "python",
   "pygments_lexer": "ipython3",
   "version": "3.9.5"
  }
 },
 "nbformat": 4,
 "nbformat_minor": 4
}

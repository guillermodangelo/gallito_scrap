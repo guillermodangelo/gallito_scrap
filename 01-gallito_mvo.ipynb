{
 "cells": [
  {
   "cell_type": "code",
   "execution_count": 1,
   "metadata": {},
   "outputs": [],
   "source": [
    "import pandas as pd\n",
    "from numpy import random\n",
    "from bs4 import BeautifulSoup\n",
    "from concurrent.futures import ThreadPoolExecutor\n",
    "from datetime import datetime\n",
    "import numpy as np\n",
    "\n",
    "from scripts.scrapper_gallito import flatten, scrapper, scrap_latlng, format_barrio, encode_barrio"
   ]
  },
  {
   "cell_type": "code",
   "execution_count": 2,
   "metadata": {},
   "outputs": [
    {
     "data": {
      "text/plain": [
       "['https://www.gallito.com.uy/inmuebles/casas/venta/montevideo/ord_asc?pag=1',\n",
       " 'https://www.gallito.com.uy/inmuebles/casas/venta/montevideo/ord_asc?pag=2',\n",
       " 'https://www.gallito.com.uy/inmuebles/casas/venta/montevideo/ord_asc?pag=3']"
      ]
     },
     "execution_count": 2,
     "metadata": {},
     "output_type": "execute_result"
    }
   ],
   "source": [
    "base_url = 'https://www.gallito.com.uy/inmuebles/casas/venta/montevideo/ord_asc?pag={}'\n",
    "all_urls= [base_url.format(i) for i in range(1, 200)]\n",
    "all_urls[0:3]\n"
   ]
  },
  {
   "cell_type": "markdown",
   "metadata": {},
   "source": [
    "### Scrapper multi-hilo"
   ]
  },
  {
   "cell_type": "code",
   "execution_count": 3,
   "metadata": {},
   "outputs": [],
   "source": [
    "threads = 15\n",
    "\n",
    "urls = np.array_split(all_urls, threads)\n",
    "\n",
    "all_r = []\n",
    "\n",
    "with ThreadPoolExecutor(threads) as executor:\n",
    "    for result in executor.map(scrapper, urls):\n",
    "        all_r.append(result)"
   ]
  },
  {
   "cell_type": "code",
   "execution_count": 12,
   "metadata": {},
   "outputs": [
    {
     "data": {
      "text/html": [
       "<div>\n",
       "<style scoped>\n",
       "    .dataframe tbody tr th:only-of-type {\n",
       "        vertical-align: middle;\n",
       "    }\n",
       "\n",
       "    .dataframe tbody tr th {\n",
       "        vertical-align: top;\n",
       "    }\n",
       "\n",
       "    .dataframe thead th {\n",
       "        text-align: right;\n",
       "    }\n",
       "</style>\n",
       "<table border=\"1\" class=\"dataframe\">\n",
       "  <thead>\n",
       "    <tr style=\"text-align: right;\">\n",
       "      <th></th>\n",
       "      <th>desc</th>\n",
       "      <th>valor</th>\n",
       "      <th>metraje</th>\n",
       "      <th>url</th>\n",
       "    </tr>\n",
       "  </thead>\n",
       "  <tbody>\n",
       "    <tr>\n",
       "      <th>0</th>\n",
       "      <td>3 Dormitorios en Aires Puros</td>\n",
       "      <td>$U 190.000</td>\n",
       "      <td>110</td>\n",
       "      <td>https://www.gallito.com.uy/excelente-garaje-2-...</td>\n",
       "    </tr>\n",
       "    <tr>\n",
       "      <th>1</th>\n",
       "      <td>2 Dormitorios en Prado</td>\n",
       "      <td>U$S 12.900</td>\n",
       "      <td>68</td>\n",
       "      <td>https://www.gallito.com.uy/a-estrenar-sin-gc-d...</td>\n",
       "    </tr>\n",
       "    <tr>\n",
       "      <th>2</th>\n",
       "      <td>3 Dormitorios en Prado</td>\n",
       "      <td>U$S 15.500</td>\n",
       "      <td>100</td>\n",
       "      <td>https://www.gallito.com.uy/gran-oportunidad-in...</td>\n",
       "    </tr>\n",
       "    <tr>\n",
       "      <th>3</th>\n",
       "      <td>3 Dormitorios en Villa Española</td>\n",
       "      <td>U$S 38.000</td>\n",
       "      <td>150</td>\n",
       "      <td>https://www.gallito.com.uy/casa-3-dormitorios-...</td>\n",
       "    </tr>\n",
       "    <tr>\n",
       "      <th>4</th>\n",
       "      <td>2 Dormitorios en La Teja</td>\n",
       "      <td>U$S 39.900</td>\n",
       "      <td>60</td>\n",
       "      <td>https://www.gallito.com.uy/economica-con-terre...</td>\n",
       "    </tr>\n",
       "  </tbody>\n",
       "</table>\n",
       "</div>"
      ],
      "text/plain": [
       "                              desc       valor metraje  \\\n",
       "0     3 Dormitorios en Aires Puros  $U 190.000     110   \n",
       "1           2 Dormitorios en Prado  U$S 12.900      68   \n",
       "2           3 Dormitorios en Prado  U$S 15.500     100   \n",
       "3  3 Dormitorios en Villa Española  U$S 38.000     150   \n",
       "4         2 Dormitorios en La Teja  U$S 39.900      60   \n",
       "\n",
       "                                                 url  \n",
       "0  https://www.gallito.com.uy/excelente-garaje-2-...  \n",
       "1  https://www.gallito.com.uy/a-estrenar-sin-gc-d...  \n",
       "2  https://www.gallito.com.uy/gran-oportunidad-in...  \n",
       "3  https://www.gallito.com.uy/casa-3-dormitorios-...  \n",
       "4  https://www.gallito.com.uy/economica-con-terre...  "
      ]
     },
     "execution_count": 12,
     "metadata": {},
     "output_type": "execute_result"
    }
   ],
   "source": [
    "data = pd.concat(all_r).reset_index(drop=True)\n",
    "data.head()"
   ]
  },
  {
   "cell_type": "code",
   "execution_count": 13,
   "metadata": {},
   "outputs": [
    {
     "data": {
      "text/plain": [
       "(5360, 4)"
      ]
     },
     "execution_count": 13,
     "metadata": {},
     "output_type": "execute_result"
    }
   ],
   "source": [
    "data.shape"
   ]
  },
  {
   "cell_type": "code",
   "execution_count": 14,
   "metadata": {},
   "outputs": [],
   "source": [
    "# limpieza del campo valor\n",
    "data['valor'].str.replace('U', '')\n",
    "\n",
    "for word, rep in {\"U\":\" \", \"S\":\"\", \"$\":\"\", \".\":\"\"}.items():\n",
    "    data['valor'] = data['valor'].str.replace(word, rep, regex=False)\n",
    "\n",
    "data['valor'] = data['valor'].astype(int)\n",
    "\n",
    "# elimina outliers en valor\n",
    "data = data.loc[~((data.valor == 111111111) | (data.valor < 30000))]\n",
    "\n",
    "# depura campo metraje\n",
    "data['metraje'] = data['metraje'].str.strip()\n",
    "data.loc[data['metraje'] == '', 'metraje'] = np.nan\n",
    "\n",
    "# elimina outliers en metraje\n",
    "data['metraje'] = data['metraje'].astype(float)\n",
    "\n",
    "data = data.loc[~((data.metraje > 2000) | (data.metraje < 15) | (data.metraje.isna()))]"
   ]
  },
  {
   "cell_type": "code",
   "execution_count": 15,
   "metadata": {},
   "outputs": [
    {
     "data": {
      "text/plain": [
       "count    4304.000000\n",
       "mean      173.317612\n",
       "std       132.487442\n",
       "min        20.000000\n",
       "25%        88.000000\n",
       "50%       137.000000\n",
       "75%       210.000000\n",
       "max      1599.000000\n",
       "Name: metraje, dtype: float64"
      ]
     },
     "execution_count": 15,
     "metadata": {},
     "output_type": "execute_result"
    }
   ],
   "source": [
    "data.metraje.describe()"
   ]
  },
  {
   "cell_type": "code",
   "execution_count": 14,
   "metadata": {},
   "outputs": [
    {
     "data": {
      "text/plain": [
       "count       4304.000000\n",
       "mean      261922.592240\n",
       "std       182763.840163\n",
       "min        30000.000000\n",
       "25%       130000.000000\n",
       "50%       199000.000000\n",
       "75%       349999.250000\n",
       "max      1500000.000000\n",
       "Name: valor, dtype: object"
      ]
     },
     "execution_count": 14,
     "metadata": {},
     "output_type": "execute_result"
    }
   ],
   "source": [
    "data.valor.describe().apply(lambda x: format(x, 'f'))"
   ]
  },
  {
   "cell_type": "code",
   "execution_count": 17,
   "metadata": {},
   "outputs": [
    {
     "data": {
      "text/html": [
       "<div>\n",
       "<style scoped>\n",
       "    .dataframe tbody tr th:only-of-type {\n",
       "        vertical-align: middle;\n",
       "    }\n",
       "\n",
       "    .dataframe tbody tr th {\n",
       "        vertical-align: top;\n",
       "    }\n",
       "\n",
       "    .dataframe thead th {\n",
       "        text-align: right;\n",
       "    }\n",
       "</style>\n",
       "<table border=\"1\" class=\"dataframe\">\n",
       "  <thead>\n",
       "    <tr style=\"text-align: right;\">\n",
       "      <th></th>\n",
       "      <th>desc</th>\n",
       "      <th>valor</th>\n",
       "      <th>metraje</th>\n",
       "      <th>url</th>\n",
       "    </tr>\n",
       "  </thead>\n",
       "  <tbody>\n",
       "    <tr>\n",
       "      <th>764</th>\n",
       "      <td>1 Ambiente en Cerro</td>\n",
       "      <td>31000</td>\n",
       "      <td>20.0</td>\n",
       "      <td>https://www.gallito.com.uy/venta-apartamento-m...</td>\n",
       "    </tr>\n",
       "  </tbody>\n",
       "</table>\n",
       "</div>"
      ],
      "text/plain": [
       "                    desc  valor  metraje  \\\n",
       "764  1 Ambiente en Cerro  31000     20.0   \n",
       "\n",
       "                                                   url  \n",
       "764  https://www.gallito.com.uy/venta-apartamento-m...  "
      ]
     },
     "execution_count": 17,
     "metadata": {},
     "output_type": "execute_result"
    }
   ],
   "source": [
    "data.loc[data.metraje == 20]"
   ]
  },
  {
   "cell_type": "code",
   "execution_count": 18,
   "metadata": {},
   "outputs": [],
   "source": [
    "fecha_str = str(datetime.today().date())\n",
    "filename = f'data/ventas_mvdeo_{fecha_str}.csv'\n",
    "data.to_csv(filename, index=False)"
   ]
  },
  {
   "cell_type": "markdown",
   "metadata": {},
   "source": [
    "## Recupera coordenadas"
   ]
  },
  {
   "cell_type": "code",
   "execution_count": 2,
   "metadata": {},
   "outputs": [
    {
     "name": "stdout",
     "output_type": "stream",
     "text": [
      "(4304, 4)\n"
     ]
    },
    {
     "data": {
      "text/html": [
       "<div>\n",
       "<style scoped>\n",
       "    .dataframe tbody tr th:only-of-type {\n",
       "        vertical-align: middle;\n",
       "    }\n",
       "\n",
       "    .dataframe tbody tr th {\n",
       "        vertical-align: top;\n",
       "    }\n",
       "\n",
       "    .dataframe thead th {\n",
       "        text-align: right;\n",
       "    }\n",
       "</style>\n",
       "<table border=\"1\" class=\"dataframe\">\n",
       "  <thead>\n",
       "    <tr style=\"text-align: right;\">\n",
       "      <th></th>\n",
       "      <th>desc</th>\n",
       "      <th>valor</th>\n",
       "      <th>metraje</th>\n",
       "      <th>url</th>\n",
       "    </tr>\n",
       "  </thead>\n",
       "  <tbody>\n",
       "    <tr>\n",
       "      <th>0</th>\n",
       "      <td>3 Dormitorios en Aires Puros</td>\n",
       "      <td>190000</td>\n",
       "      <td>110.0</td>\n",
       "      <td>https://www.gallito.com.uy/excelente-garaje-2-...</td>\n",
       "    </tr>\n",
       "    <tr>\n",
       "      <th>1</th>\n",
       "      <td>3 Dormitorios en Villa Española</td>\n",
       "      <td>38000</td>\n",
       "      <td>150.0</td>\n",
       "      <td>https://www.gallito.com.uy/casa-3-dormitorios-...</td>\n",
       "    </tr>\n",
       "    <tr>\n",
       "      <th>2</th>\n",
       "      <td>2 Dormitorios en La Teja</td>\n",
       "      <td>39900</td>\n",
       "      <td>60.0</td>\n",
       "      <td>https://www.gallito.com.uy/economica-con-terre...</td>\n",
       "    </tr>\n",
       "    <tr>\n",
       "      <th>3</th>\n",
       "      <td>4 Dormitorios en Cerrito</td>\n",
       "      <td>45000</td>\n",
       "      <td>97.0</td>\n",
       "      <td>https://www.gallito.com.uy/oportunidad-casa-de...</td>\n",
       "    </tr>\n",
       "    <tr>\n",
       "      <th>4</th>\n",
       "      <td>2 Dormitorios en Colon</td>\n",
       "      <td>45000</td>\n",
       "      <td>50.0</td>\n",
       "      <td>https://www.gallito.com.uy/oficina-sosa-proxim...</td>\n",
       "    </tr>\n",
       "  </tbody>\n",
       "</table>\n",
       "</div>"
      ],
      "text/plain": [
       "                              desc   valor  metraje  \\\n",
       "0     3 Dormitorios en Aires Puros  190000    110.0   \n",
       "1  3 Dormitorios en Villa Española   38000    150.0   \n",
       "2         2 Dormitorios en La Teja   39900     60.0   \n",
       "3         4 Dormitorios en Cerrito   45000     97.0   \n",
       "4           2 Dormitorios en Colon   45000     50.0   \n",
       "\n",
       "                                                 url  \n",
       "0  https://www.gallito.com.uy/excelente-garaje-2-...  \n",
       "1  https://www.gallito.com.uy/casa-3-dormitorios-...  \n",
       "2  https://www.gallito.com.uy/economica-con-terre...  \n",
       "3  https://www.gallito.com.uy/oportunidad-casa-de...  \n",
       "4  https://www.gallito.com.uy/oficina-sosa-proxim...  "
      ]
     },
     "execution_count": 2,
     "metadata": {},
     "output_type": "execute_result"
    }
   ],
   "source": [
    "filename = 'data/ventas_mvdeo_2022-08-04.csv'\n",
    "data = pd.read_csv(filename)\n",
    "print(data.shape)\n",
    "data.head()"
   ]
  },
  {
   "cell_type": "code",
   "execution_count": 3,
   "metadata": {},
   "outputs": [
    {
     "data": {
      "text/html": [
       "<div>\n",
       "<style scoped>\n",
       "    .dataframe tbody tr th:only-of-type {\n",
       "        vertical-align: middle;\n",
       "    }\n",
       "\n",
       "    .dataframe tbody tr th {\n",
       "        vertical-align: top;\n",
       "    }\n",
       "\n",
       "    .dataframe thead th {\n",
       "        text-align: right;\n",
       "    }\n",
       "</style>\n",
       "<table border=\"1\" class=\"dataframe\">\n",
       "  <thead>\n",
       "    <tr style=\"text-align: right;\">\n",
       "      <th></th>\n",
       "      <th>desc</th>\n",
       "      <th>valor</th>\n",
       "      <th>metraje</th>\n",
       "      <th>url</th>\n",
       "    </tr>\n",
       "  </thead>\n",
       "  <tbody>\n",
       "    <tr>\n",
       "      <th>4299</th>\n",
       "      <td>Más de 4 dormitorios en Parque Rodo</td>\n",
       "      <td>790000</td>\n",
       "      <td>550.0</td>\n",
       "      <td>https://www.gallito.com.uy/se-vende-edificio-e...</td>\n",
       "    </tr>\n",
       "    <tr>\n",
       "      <th>4300</th>\n",
       "      <td>4 Dormitorios en Carrasco</td>\n",
       "      <td>790000</td>\n",
       "      <td>439.0</td>\n",
       "      <td>https://www.gallito.com.uy/venta-casa-carrasco...</td>\n",
       "    </tr>\n",
       "    <tr>\n",
       "      <th>4301</th>\n",
       "      <td>Más de 4 dormitorios en Carrasco</td>\n",
       "      <td>790000</td>\n",
       "      <td>439.0</td>\n",
       "      <td>https://www.gallito.com.uy/casa-carrasco-4-dor...</td>\n",
       "    </tr>\n",
       "    <tr>\n",
       "      <th>4302</th>\n",
       "      <td>4 Dormitorios en Prado</td>\n",
       "      <td>790000</td>\n",
       "      <td>616.0</td>\n",
       "      <td>https://www.gallito.com.uy/venta-casa-4-dormit...</td>\n",
       "    </tr>\n",
       "    <tr>\n",
       "      <th>4303</th>\n",
       "      <td>4 Dormitorios en Carrasco</td>\n",
       "      <td>790000</td>\n",
       "      <td>320.0</td>\n",
       "      <td>https://www.gallito.com.uy/oportunidad-en-el-c...</td>\n",
       "    </tr>\n",
       "  </tbody>\n",
       "</table>\n",
       "</div>"
      ],
      "text/plain": [
       "                                     desc   valor  metraje  \\\n",
       "4299  Más de 4 dormitorios en Parque Rodo  790000    550.0   \n",
       "4300            4 Dormitorios en Carrasco  790000    439.0   \n",
       "4301     Más de 4 dormitorios en Carrasco  790000    439.0   \n",
       "4302               4 Dormitorios en Prado  790000    616.0   \n",
       "4303            4 Dormitorios en Carrasco  790000    320.0   \n",
       "\n",
       "                                                    url  \n",
       "4299  https://www.gallito.com.uy/se-vende-edificio-e...  \n",
       "4300  https://www.gallito.com.uy/venta-casa-carrasco...  \n",
       "4301  https://www.gallito.com.uy/casa-carrasco-4-dor...  \n",
       "4302  https://www.gallito.com.uy/venta-casa-4-dormit...  \n",
       "4303  https://www.gallito.com.uy/oportunidad-en-el-c...  "
      ]
     },
     "execution_count": 3,
     "metadata": {},
     "output_type": "execute_result"
    }
   ],
   "source": [
    "data.tail()"
   ]
  },
  {
   "cell_type": "code",
   "execution_count": 4,
   "metadata": {},
   "outputs": [
    {
     "name": "stdout",
     "output_type": "stream",
     "text": [
      "Message: unknown error: missing or invalid columnNumber\n",
      "  (Session info: headless chrome=104.0.5112.81)\n",
      "Stacktrace:\n",
      "Backtrace:\n",
      "\tOrdinal0 [0x008778B3+2193587]\n",
      "\tOrdinal0 [0x00810681+1771137]\n",
      "\tOrdinal0 [0x007241A8+803240]\n",
      "\tOrdinal0 [0x007120FA+729338]\n",
      "\tOrdinal0 [0x0071163B+726587]\n",
      "\tOrdinal0 [0x00717704+751364]\n",
      "\tOrdinal0 [0x00717C25+752677]\n",
      "\tOrdinal0 [0x00717A0F+752143]\n",
      "\tOrdinal0 [0x00716FAF+749487]\n",
      "\tOrdinal0 [0x00715E94+745108]\n",
      "\tOrdinal0 [0x00716498+746648]\n",
      "\tOrdinal0 [0x0072CF37+839479]\n",
      "\tOrdinal0 [0x007266BB+812731]\n",
      "\tOrdinal0 [0x0072620D+811533]\n",
      "\tOrdinal0 [0x00726A2F+813615]\n",
      "\tOrdinal0 [0x00726D00+814336]\n",
      "\tOrdinal0 [0x007521B5+991669]\n",
      "\tOrdinal0 [0x0075273B+993083]\n",
      "\tOrdinal0 [0x0077F7FC+1177596]\n",
      "\tOrdinal0 [0x0076D7F4+1103860]\n",
      "\tOrdinal0 [0x0077DAE2+1170146]\n",
      "\tOrdinal0 [0x0076D5C6+1103302]\n",
      "\tOrdinal0 [0x007477E0+948192]\n",
      "\tOrdinal0 [0x007486E6+952038]\n",
      "\tGetHandleVerifier [0x00B20CB2+2738370]\n",
      "\tGetHandleVerifier [0x00B121B8+2678216]\n",
      "\tGetHandleVerifier [0x009017AA+512954]\n",
      "\tGetHandleVerifier [0x00900856+509030]\n",
      "\tOrdinal0 [0x0081743B+1799227]\n",
      "\tOrdinal0 [0x0081BB68+1817448]\n",
      "\tOrdinal0 [0x0081BC55+1817685]\n",
      "\tOrdinal0 [0x00825230+1856048]\n",
      "\tBaseThreadInitThunk [0x74FBFA29+25]\n",
      "\tRtlGetAppContainerNamedObjectPath [0x77097A9E+286]\n",
      "\tRtlGetAppContainerNamedObjectPath [0x77097A6E+238]\n",
      "\n",
      "Message: unknown error: cannot determine loading status\n",
      "from unknown error: missing or invalid columnNumber\n",
      "  (Session info: headless chrome=104.0.5112.81)\n",
      "Stacktrace:\n",
      "Backtrace:\n",
      "\tOrdinal0 [0x008778B3+2193587]\n",
      "\tOrdinal0 [0x00810681+1771137]\n",
      "\tOrdinal0 [0x007241A8+803240]\n",
      "\tOrdinal0 [0x007120FA+729338]\n",
      "\tOrdinal0 [0x0071163B+726587]\n",
      "\tOrdinal0 [0x00717704+751364]\n",
      "\tOrdinal0 [0x00717C25+752677]\n",
      "\tOrdinal0 [0x00717A0F+752143]\n",
      "\tOrdinal0 [0x00716FAF+749487]\n",
      "\tOrdinal0 [0x00715E94+745108]\n",
      "\tOrdinal0 [0x00716498+746648]\n",
      "\tOrdinal0 [0x0071F35F+783199]\n",
      "\tOrdinal0 [0x0072A47B+828539]\n",
      "\tOrdinal0 [0x0072D750+841552]\n",
      "\tOrdinal0 [0x00716766+747366]\n",
      "\tOrdinal0 [0x0072A0B7+827575]\n",
      "\tOrdinal0 [0x0077DE25+1170981]\n",
      "\tOrdinal0 [0x0076D5C6+1103302]\n",
      "\tOrdinal0 [0x007477E0+948192]\n",
      "\tOrdinal0 [0x007486E6+952038]\n",
      "\tGetHandleVerifier [0x00B20CB2+2738370]\n",
      "\tGetHandleVerifier [0x00B121B8+2678216]\n",
      "\tGetHandleVerifier [0x009017AA+512954]\n",
      "\tGetHandleVerifier [0x00900856+509030]\n",
      "\tOrdinal0 [0x0081743B+1799227]\n",
      "\tOrdinal0 [0x0081BB68+1817448]\n",
      "\tOrdinal0 [0x0081BC55+1817685]\n",
      "\tOrdinal0 [0x00825230+1856048]\n",
      "\tBaseThreadInitThunk [0x74FBFA29+25]\n",
      "\tRtlGetAppContainerNamedObjectPath [0x77097A9E+286]\n",
      "\tRtlGetAppContainerNamedObjectPath [0x77097A6E+238]\n",
      "\n"
     ]
    }
   ],
   "source": [
    "# multithreaded scrapping\n",
    "threads = 10\n",
    "\n",
    "urls = np.array_split(list(data.url.values), threads)\n",
    "\n",
    "len(urls)\n",
    "\n",
    "all_r = []\n",
    "\n",
    "with ThreadPoolExecutor(threads) as executor:\n",
    "    for result in executor.map(scrap_latlng, urls):\n",
    "        all_r.append(result)"
   ]
  },
  {
   "cell_type": "code",
   "execution_count": 6,
   "metadata": {},
   "outputs": [],
   "source": [
    "coords = flatten(all_r)"
   ]
  },
  {
   "cell_type": "code",
   "execution_count": 7,
   "metadata": {},
   "outputs": [
    {
     "data": {
      "text/plain": [
       "4304"
      ]
     },
     "execution_count": 7,
     "metadata": {},
     "output_type": "execute_result"
    }
   ],
   "source": [
    "len(coords)"
   ]
  },
  {
   "cell_type": "markdown",
   "metadata": {},
   "source": [
    "### Limpia de dataframe y guarda las coordenadas"
   ]
  },
  {
   "cell_type": "code",
   "execution_count": null,
   "metadata": {},
   "outputs": [],
   "source": [
    "data = pd.read_csv(filename)\n",
    "\n",
    "data.head()"
   ]
  },
  {
   "cell_type": "code",
   "execution_count": 8,
   "metadata": {},
   "outputs": [
    {
     "name": "stdout",
     "output_type": "stream",
     "text": [
      "1115\n"
     ]
    }
   ],
   "source": [
    "r = [i=='Nan,Nan' for i in coords]\n",
    "print(sum(r))\n",
    "\n",
    "coords_splitted = [i.split(',') for i in coords]"
   ]
  },
  {
   "cell_type": "markdown",
   "metadata": {},
   "source": []
  },
  {
   "cell_type": "code",
   "execution_count": 43,
   "metadata": {},
   "outputs": [
    {
     "data": {
      "text/html": [
       "<div>\n",
       "<style scoped>\n",
       "    .dataframe tbody tr th:only-of-type {\n",
       "        vertical-align: middle;\n",
       "    }\n",
       "\n",
       "    .dataframe tbody tr th {\n",
       "        vertical-align: top;\n",
       "    }\n",
       "\n",
       "    .dataframe thead th {\n",
       "        text-align: right;\n",
       "    }\n",
       "</style>\n",
       "<table border=\"1\" class=\"dataframe\">\n",
       "  <thead>\n",
       "    <tr style=\"text-align: right;\">\n",
       "      <th></th>\n",
       "      <th>desc</th>\n",
       "      <th>valor</th>\n",
       "      <th>metraje</th>\n",
       "      <th>url</th>\n",
       "      <th>lat</th>\n",
       "      <th>lng</th>\n",
       "      <th>dormitorios</th>\n",
       "      <th>barrio</th>\n",
       "      <th>barrio_ine</th>\n",
       "      <th>cod_barrio_ine</th>\n",
       "      <th>valor_metro</th>\n",
       "    </tr>\n",
       "  </thead>\n",
       "  <tbody>\n",
       "    <tr>\n",
       "      <th>0</th>\n",
       "      <td>3 Dormitorios en Aires Puros</td>\n",
       "      <td>190000</td>\n",
       "      <td>110.0</td>\n",
       "      <td>https://www.gallito.com.uy/excelente-garaje-2-...</td>\n",
       "      <td>NaN</td>\n",
       "      <td>NaN</td>\n",
       "      <td>3 Dormitorios</td>\n",
       "      <td>Aires Puros</td>\n",
       "      <td>Aires Puros</td>\n",
       "      <td>29.0</td>\n",
       "      <td>1727.272727</td>\n",
       "    </tr>\n",
       "    <tr>\n",
       "      <th>1</th>\n",
       "      <td>3 Dormitorios en Villa Española</td>\n",
       "      <td>38000</td>\n",
       "      <td>150.0</td>\n",
       "      <td>https://www.gallito.com.uy/casa-3-dormitorios-...</td>\n",
       "      <td>-34.86785</td>\n",
       "      <td>-56.14285</td>\n",
       "      <td>3 Dormitorios</td>\n",
       "      <td>Villa Española</td>\n",
       "      <td>Villa Española</td>\n",
       "      <td>24.0</td>\n",
       "      <td>253.333333</td>\n",
       "    </tr>\n",
       "    <tr>\n",
       "      <th>2</th>\n",
       "      <td>2 Dormitorios en La Teja</td>\n",
       "      <td>39900</td>\n",
       "      <td>60.0</td>\n",
       "      <td>https://www.gallito.com.uy/economica-con-terre...</td>\n",
       "      <td>-34.85720</td>\n",
       "      <td>-56.24105</td>\n",
       "      <td>2 Dormitorios</td>\n",
       "      <td>La Teja</td>\n",
       "      <td>La Teja</td>\n",
       "      <td>38.0</td>\n",
       "      <td>665.000000</td>\n",
       "    </tr>\n",
       "    <tr>\n",
       "      <th>3</th>\n",
       "      <td>4 Dormitorios en Cerrito</td>\n",
       "      <td>45000</td>\n",
       "      <td>97.0</td>\n",
       "      <td>https://www.gallito.com.uy/oportunidad-casa-de...</td>\n",
       "      <td>-34.85944</td>\n",
       "      <td>-56.15642</td>\n",
       "      <td>4 Dormitorios</td>\n",
       "      <td>Cerrito</td>\n",
       "      <td>Cerrito</td>\n",
       "      <td>27.0</td>\n",
       "      <td>463.917526</td>\n",
       "    </tr>\n",
       "    <tr>\n",
       "      <th>4</th>\n",
       "      <td>2 Dormitorios en Colon</td>\n",
       "      <td>45000</td>\n",
       "      <td>50.0</td>\n",
       "      <td>https://www.gallito.com.uy/oficina-sosa-proxim...</td>\n",
       "      <td>-34.80505</td>\n",
       "      <td>-56.23007</td>\n",
       "      <td>2 Dormitorios</td>\n",
       "      <td>Colon</td>\n",
       "      <td>Colón Sureste, Abayubá</td>\n",
       "      <td>58.0</td>\n",
       "      <td>900.000000</td>\n",
       "    </tr>\n",
       "    <tr>\n",
       "      <th>5</th>\n",
       "      <td>2 Dormitorios en J. Hipodromo</td>\n",
       "      <td>50000</td>\n",
       "      <td>70.0</td>\n",
       "      <td>https://www.gallito.com.uy/casa-en-venta-jardi...</td>\n",
       "      <td>-34.83717</td>\n",
       "      <td>-56.15027</td>\n",
       "      <td>2 Dormitorios</td>\n",
       "      <td>J. Hipodromo</td>\n",
       "      <td>Jardines del Hipódromo</td>\n",
       "      <td>21.0</td>\n",
       "      <td>714.285714</td>\n",
       "    </tr>\n",
       "    <tr>\n",
       "      <th>6</th>\n",
       "      <td>2 Dormitorios en Union</td>\n",
       "      <td>50000</td>\n",
       "      <td>50.0</td>\n",
       "      <td>https://www.gallito.com.uy/gran-oportunidad-ve...</td>\n",
       "      <td>NaN</td>\n",
       "      <td>NaN</td>\n",
       "      <td>2 Dormitorios</td>\n",
       "      <td>Union</td>\n",
       "      <td>Unión</td>\n",
       "      <td>23.0</td>\n",
       "      <td>1000.000000</td>\n",
       "    </tr>\n",
       "    <tr>\n",
       "      <th>7</th>\n",
       "      <td>1 Dormitorio en Cerrito</td>\n",
       "      <td>53000</td>\n",
       "      <td>33.0</td>\n",
       "      <td>https://www.gallito.com.uy/baldovino-cerrito-t...</td>\n",
       "      <td>NaN</td>\n",
       "      <td>NaN</td>\n",
       "      <td>1 Dormitorio</td>\n",
       "      <td>Cerrito</td>\n",
       "      <td>Cerrito</td>\n",
       "      <td>27.0</td>\n",
       "      <td>1606.060606</td>\n",
       "    </tr>\n",
       "  </tbody>\n",
       "</table>\n",
       "</div>"
      ],
      "text/plain": [
       "                              desc   valor  metraje  \\\n",
       "0     3 Dormitorios en Aires Puros  190000    110.0   \n",
       "1  3 Dormitorios en Villa Española   38000    150.0   \n",
       "2         2 Dormitorios en La Teja   39900     60.0   \n",
       "3         4 Dormitorios en Cerrito   45000     97.0   \n",
       "4           2 Dormitorios en Colon   45000     50.0   \n",
       "5    2 Dormitorios en J. Hipodromo   50000     70.0   \n",
       "6           2 Dormitorios en Union   50000     50.0   \n",
       "7          1 Dormitorio en Cerrito   53000     33.0   \n",
       "\n",
       "                                                 url       lat       lng  \\\n",
       "0  https://www.gallito.com.uy/excelente-garaje-2-...       NaN       NaN   \n",
       "1  https://www.gallito.com.uy/casa-3-dormitorios-... -34.86785 -56.14285   \n",
       "2  https://www.gallito.com.uy/economica-con-terre... -34.85720 -56.24105   \n",
       "3  https://www.gallito.com.uy/oportunidad-casa-de... -34.85944 -56.15642   \n",
       "4  https://www.gallito.com.uy/oficina-sosa-proxim... -34.80505 -56.23007   \n",
       "5  https://www.gallito.com.uy/casa-en-venta-jardi... -34.83717 -56.15027   \n",
       "6  https://www.gallito.com.uy/gran-oportunidad-ve...       NaN       NaN   \n",
       "7  https://www.gallito.com.uy/baldovino-cerrito-t...       NaN       NaN   \n",
       "\n",
       "     dormitorios          barrio              barrio_ine  cod_barrio_ine  \\\n",
       "0  3 Dormitorios     Aires Puros             Aires Puros            29.0   \n",
       "1  3 Dormitorios  Villa Española          Villa Española            24.0   \n",
       "2  2 Dormitorios         La Teja                 La Teja            38.0   \n",
       "3  4 Dormitorios         Cerrito                 Cerrito            27.0   \n",
       "4  2 Dormitorios           Colon  Colón Sureste, Abayubá            58.0   \n",
       "5  2 Dormitorios    J. Hipodromo  Jardines del Hipódromo            21.0   \n",
       "6  2 Dormitorios           Union                   Unión            23.0   \n",
       "7   1 Dormitorio         Cerrito                 Cerrito            27.0   \n",
       "\n",
       "   valor_metro  \n",
       "0  1727.272727  \n",
       "1   253.333333  \n",
       "2   665.000000  \n",
       "3   463.917526  \n",
       "4   900.000000  \n",
       "5   714.285714  \n",
       "6  1000.000000  \n",
       "7  1606.060606  "
      ]
     },
     "execution_count": 43,
     "metadata": {},
     "output_type": "execute_result"
    }
   ],
   "source": [
    "data[['lat', 'lng']] = coords_splitted\n",
    "\n",
    "data['lat'] = data['lat'].astype(float).round(5)\n",
    "data['lng'] = data['lng'].astype(float).round(5)\n",
    "\n",
    "# depuras algunas coordenadas erróneas\n",
    "data.loc[data.lat > -33 , 'lat'] = np.nan\n",
    "data.loc[data.lng > -55, 'lng'] = np.nan\n",
    "\n",
    "data.head(8)"
   ]
  },
  {
   "cell_type": "code",
   "execution_count": 44,
   "metadata": {},
   "outputs": [],
   "source": [
    "data[['dormitorios', 'barrio']] = data['desc'].str.split(' en ', n = 1, expand = True)"
   ]
  },
  {
   "cell_type": "code",
   "execution_count": 45,
   "metadata": {},
   "outputs": [],
   "source": [
    "data['barrio_ine'] = data['barrio']"
   ]
  },
  {
   "cell_type": "code",
   "execution_count": 46,
   "metadata": {},
   "outputs": [],
   "source": [
    "data['barrio_ine'] = format_barrio(data, 'barrio')"
   ]
  },
  {
   "cell_type": "code",
   "execution_count": 47,
   "metadata": {},
   "outputs": [],
   "source": [
    "data.loc[:, 'cod_barrio_ine'] = encode_barrio(data, 'barrio_ine')"
   ]
  },
  {
   "cell_type": "code",
   "execution_count": 48,
   "metadata": {},
   "outputs": [],
   "source": [
    "data.to_csv(f'data/ventas_mvdeo_{fecha_str}_depurado.csv', index=False)"
   ]
  },
  {
   "cell_type": "code",
   "execution_count": 49,
   "metadata": {},
   "outputs": [],
   "source": [
    "# calcula valor por metro\n",
    "data['valor_metro'] = data['valor'] / data['metraje']\n",
    "\n",
    "# agrupa por barrio, calculando la mediana del valor por metro\n",
    "agru = data.groupby('cod_barrio_ine').median('valor_metro').reset_index()\n",
    "\n",
    "# cambia tipo de campo del barrio INE\n",
    "agru['cod_barrio_ine'] = agru['cod_barrio_ine'].astype(int)\n",
    "\n",
    "# guarda en CSV\n",
    "agru.to_csv(f'data/datos_agrupados_{fecha_str}.csv', index=False)"
   ]
  }
 ],
 "metadata": {
  "kernelspec": {
   "display_name": "Python 3.7.11 ('scrap')",
   "language": "python",
   "name": "python3"
  },
  "language_info": {
   "codemirror_mode": {
    "name": "ipython",
    "version": 3
   },
   "file_extension": ".py",
   "mimetype": "text/x-python",
   "name": "python",
   "nbconvert_exporter": "python",
   "pygments_lexer": "ipython3",
   "version": "3.7.12"
  },
  "vscode": {
   "interpreter": {
    "hash": "b13211adf055f5e51f16ccb9f0c577891b7025db867e9d8ecf699b7251e4db0b"
   }
  }
 },
 "nbformat": 4,
 "nbformat_minor": 4
}

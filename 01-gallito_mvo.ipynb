{
 "cells": [
  {
   "cell_type": "code",
   "execution_count": 1,
   "metadata": {},
   "outputs": [],
   "source": [
    "from selenium import webdriver\n",
    "import pandas as pd\n",
    "import time\n",
    "from numpy import random\n",
    "import pickle\n",
    "from bs4 import BeautifulSoup\n",
    "from concurrent.futures import ThreadPoolExecutor\n",
    "from datetime import datetime\n",
    "import numpy as np\n",
    "\n",
    "\n",
    "def flatten(t):\n",
    "    return [item for sublist in t for item in sublist]\n",
    "\n",
    "def chrome(path, headless=True):\n",
    "    \"Chrome driver\"\n",
    "    opt = webdriver.ChromeOptions()\n",
    "    if headless:\n",
    "        opt.add_argument(\"--headless\")\n",
    "    opt.add_argument('--blink-settings=imagesEnabled=false')\n",
    "    opt.add_argument('--no-sandbox')\n",
    "    browser = webdriver.Chrome(path, options=opt)\n",
    "    browser.implicitly_wait(10)\n",
    "    browser.set_page_load_timeout(20)\n",
    "\n",
    "    return browser"
   ]
  },
  {
   "cell_type": "code",
   "execution_count": null,
   "metadata": {},
   "outputs": [],
   "source": [
    "def scrapper(url, driver_path='C:/Users/59898/Documents/chromedriver.exe', headless=True):\n",
    "    data = []\n",
    "    metraje = []\n",
    "    url_publicacion=[]\n",
    "\n",
    "    driver = chrome(driver_path, headless=headless)\n",
    "\n",
    "    for i in url:\n",
    "        try:\n",
    "            driver.get(i)\n",
    "            time.sleep(random.uniform(2.0, 7.5))\n",
    "        except Exception as e:\n",
    "            print('Get method failed, check URL. ', e)\n",
    "\n",
    "        no_avisos_xpath = '//*[@id=\"grillaavisos\"]'\n",
    "        grilla = driver.find_elements_by_xpath(no_avisos_xpath)\n",
    "        texto_no_aviso = 'No se han encontrado avisos para la búsqueda seleccionada.'\n",
    "\n",
    "        if grilla[0].text == texto_no_aviso:\n",
    "            driver.quit()\n",
    "            return\n",
    "        else:\n",
    "            pagina = [e.text.splitlines() for e in driver.find_elements_by_css_selector('.contenedor-info')]\n",
    "            data.append(pagina)\n",
    "            html = [e.get_attribute(\"innerHTML\") for e in driver.find_elements_by_css_selector('.contenedor-info .mas-info')]\n",
    "\n",
    "            for i in html:\n",
    "                soup = BeautifulSoup(i, \"html.parser\")\n",
    "                metraje.append(soup.span.text)\n",
    "                url_publicacion.append(soup.find('a')['href'])\n",
    "\n",
    "            flat_list = flatten(data)\n",
    "            result = pd.DataFrame(flat_list, columns=['desc', 'valor'])\n",
    "            result['metraje'] = metraje\n",
    "            result['metraje'] = result['metraje'].replace({' m2': ''}, regex=True)\n",
    "            result['url'] = url_publicacion\n",
    "            driver.quit()\n",
    "\n",
    "            return result"
   ]
  },
  {
   "cell_type": "code",
   "execution_count": null,
   "metadata": {},
   "outputs": [],
   "source": [
    "base_url = 'https://www.gallito.com.uy/inmuebles/casas/venta/montevideo/ord_asc?pag={}'\n",
    "all_urls= [base_url.format(i) for i in range(1, 200)]\n",
    "\n",
    "threads = 20\n",
    "\n",
    "urls = np.array_split(all_urls, threads)\n",
    "\n",
    "all_r = []\n",
    "\n",
    "with ThreadPoolExecutor(threads) as executor:\n",
    "    for result in executor.map(scrapper, urls):\n",
    "        all_r.append(result)"
   ]
  },
  {
   "cell_type": "code",
   "execution_count": null,
   "metadata": {},
   "outputs": [],
   "source": [
    "data = pd.concat(all_r).reset_index(drop=True)\n",
    "data.head()"
   ]
  },
  {
   "cell_type": "code",
   "execution_count": null,
   "metadata": {},
   "outputs": [],
   "source": [
    "data.tail()\n"
   ]
  },
  {
   "cell_type": "code",
   "execution_count": null,
   "metadata": {},
   "outputs": [],
   "source": [
    "filename = f'data/ventas_mvdeo_{str(datetime.today().date())}.csv'\n",
    "data.to_csv(filename, index=False)"
   ]
  },
  {
   "cell_type": "markdown",
   "metadata": {},
   "source": [
    "## Recupera coordenadas"
   ]
  },
  {
   "cell_type": "code",
   "execution_count": 2,
   "metadata": {},
   "outputs": [
    {
     "data": {
      "text/html": [
       "<div>\n",
       "<style scoped>\n",
       "    .dataframe tbody tr th:only-of-type {\n",
       "        vertical-align: middle;\n",
       "    }\n",
       "\n",
       "    .dataframe tbody tr th {\n",
       "        vertical-align: top;\n",
       "    }\n",
       "\n",
       "    .dataframe thead th {\n",
       "        text-align: right;\n",
       "    }\n",
       "</style>\n",
       "<table border=\"1\" class=\"dataframe\">\n",
       "  <thead>\n",
       "    <tr style=\"text-align: right;\">\n",
       "      <th></th>\n",
       "      <th>desc</th>\n",
       "      <th>valor</th>\n",
       "      <th>metraje</th>\n",
       "      <th>url</th>\n",
       "    </tr>\n",
       "  </thead>\n",
       "  <tbody>\n",
       "    <tr>\n",
       "      <th>0</th>\n",
       "      <td>3 Dormitorios en Aires Puros</td>\n",
       "      <td>$U 190.000</td>\n",
       "      <td>110.0</td>\n",
       "      <td>https://www.gallito.com.uy/excelente-garaje-2-...</td>\n",
       "    </tr>\n",
       "    <tr>\n",
       "      <th>1</th>\n",
       "      <td>3 Dormitorios en Prado</td>\n",
       "      <td>U$S 15.500</td>\n",
       "      <td>100.0</td>\n",
       "      <td>https://www.gallito.com.uy/gran-oportunidad-in...</td>\n",
       "    </tr>\n",
       "    <tr>\n",
       "      <th>2</th>\n",
       "      <td>3 Dormitorios en Villa Española</td>\n",
       "      <td>U$S 38.000</td>\n",
       "      <td>150.0</td>\n",
       "      <td>https://www.gallito.com.uy/casa-3-dormitorios-...</td>\n",
       "    </tr>\n",
       "    <tr>\n",
       "      <th>3</th>\n",
       "      <td>2 Dormitorios en La Teja</td>\n",
       "      <td>U$S 39.900</td>\n",
       "      <td>60.0</td>\n",
       "      <td>https://www.gallito.com.uy/economica-con-terre...</td>\n",
       "    </tr>\n",
       "    <tr>\n",
       "      <th>4</th>\n",
       "      <td>2 Dormitorios en Colon</td>\n",
       "      <td>U$S 45.000</td>\n",
       "      <td>50.0</td>\n",
       "      <td>https://www.gallito.com.uy/oficina-sosa-proxim...</td>\n",
       "    </tr>\n",
       "  </tbody>\n",
       "</table>\n",
       "</div>"
      ],
      "text/plain": [
       "                              desc       valor  metraje  \\\n",
       "0     3 Dormitorios en Aires Puros  $U 190.000    110.0   \n",
       "1           3 Dormitorios en Prado  U$S 15.500    100.0   \n",
       "2  3 Dormitorios en Villa Española  U$S 38.000    150.0   \n",
       "3         2 Dormitorios en La Teja  U$S 39.900     60.0   \n",
       "4           2 Dormitorios en Colon  U$S 45.000     50.0   \n",
       "\n",
       "                                                 url  \n",
       "0  https://www.gallito.com.uy/excelente-garaje-2-...  \n",
       "1  https://www.gallito.com.uy/gran-oportunidad-in...  \n",
       "2  https://www.gallito.com.uy/casa-3-dormitorios-...  \n",
       "3  https://www.gallito.com.uy/economica-con-terre...  \n",
       "4  https://www.gallito.com.uy/oficina-sosa-proxim...  "
      ]
     },
     "execution_count": 2,
     "metadata": {},
     "output_type": "execute_result"
    }
   ],
   "source": [
    "data = pd.read_csv('data/ventas_mvdeo_2022-08-03.csv')\n",
    "data.head()"
   ]
  },
  {
   "cell_type": "code",
   "execution_count": 3,
   "metadata": {},
   "outputs": [],
   "source": [
    "def scrap_latlng(url, driver_path='C:/Users/59898/Documents/chromedriver.exe', headless=True):\n",
    "    coordenadas = []\n",
    "    \n",
    "    driver = chrome(driver_path, headless=headless)\n",
    "    \n",
    "    for i in url:\n",
    "        try:   \n",
    "            driver.get(i)\n",
    "            elem = driver.find_elements_by_css_selector('#ubicacion')\n",
    "        except:\n",
    "            try:\n",
    "                time.sleep(3)\n",
    "                driver.get(i)\n",
    "                elem = driver.find_elements_by_css_selector('#ubicacion')\n",
    "            except:\n",
    "                elem = []\n",
    "    \n",
    "        if elem != []:\n",
    "            element = driver.find_element_by_xpath(\"/html/body/form/main/div/div[1]/ul/li[4]/a/i\")\n",
    "            element.click()\n",
    "            ubic_html = [e.get_attribute(\"innerHTML\") for e in driver.find_elements_by_css_selector(\"#ubicacion\")]\n",
    "            soup = BeautifulSoup(ubic_html[0], \"html.parser\")\n",
    "            src = soup.find('iframe')['src']\n",
    "            latlng = src.split('q=', 1)[1].split('&zoom=', 1)[0]\n",
    "            if latlng == '/,/':\n",
    "                coordenadas.append('Nan,Nan')\n",
    "            else:\n",
    "                coordenadas.append(latlng)\n",
    "        else:\n",
    "            coordenadas.append('Nan,Nan')\n",
    "\n",
    "    driver.quit()\n",
    "\n",
    "    return coordenadas"
   ]
  },
  {
   "cell_type": "code",
   "execution_count": 4,
   "metadata": {},
   "outputs": [
    {
     "data": {
      "text/plain": [
       "15"
      ]
     },
     "execution_count": 4,
     "metadata": {},
     "output_type": "execute_result"
    }
   ],
   "source": [
    "threads = 15\n",
    "\n",
    "urls = np.array_split(list(data.url.values), threads)\n",
    "\n",
    "len(urls)"
   ]
  },
  {
   "cell_type": "code",
   "execution_count": 5,
   "metadata": {},
   "outputs": [],
   "source": [
    "\n",
    "all_r = []\n",
    "\n",
    "with ThreadPoolExecutor(threads) as executor:\n",
    "    for result in executor.map(scrap_latlng, urls):\n",
    "        all_r.append(result)"
   ]
  },
  {
   "cell_type": "code",
   "execution_count": 6,
   "metadata": {},
   "outputs": [],
   "source": [
    "coords = flatten(all_r)"
   ]
  },
  {
   "cell_type": "markdown",
   "metadata": {},
   "source": [
    "### Guarda las coodenadas"
   ]
  },
  {
   "cell_type": "code",
   "execution_count": 19,
   "metadata": {},
   "outputs": [
    {
     "data": {
      "text/html": [
       "<div>\n",
       "<style scoped>\n",
       "    .dataframe tbody tr th:only-of-type {\n",
       "        vertical-align: middle;\n",
       "    }\n",
       "\n",
       "    .dataframe tbody tr th {\n",
       "        vertical-align: top;\n",
       "    }\n",
       "\n",
       "    .dataframe thead th {\n",
       "        text-align: right;\n",
       "    }\n",
       "</style>\n",
       "<table border=\"1\" class=\"dataframe\">\n",
       "  <thead>\n",
       "    <tr style=\"text-align: right;\">\n",
       "      <th></th>\n",
       "      <th>desc</th>\n",
       "      <th>valor</th>\n",
       "      <th>metraje</th>\n",
       "      <th>url</th>\n",
       "    </tr>\n",
       "  </thead>\n",
       "  <tbody>\n",
       "    <tr>\n",
       "      <th>0</th>\n",
       "      <td>3 Dormitorios en Aires Puros</td>\n",
       "      <td>$U 190.000</td>\n",
       "      <td>110.0</td>\n",
       "      <td>https://www.gallito.com.uy/excelente-garaje-2-...</td>\n",
       "    </tr>\n",
       "    <tr>\n",
       "      <th>1</th>\n",
       "      <td>3 Dormitorios en Prado</td>\n",
       "      <td>U$S 15.500</td>\n",
       "      <td>100.0</td>\n",
       "      <td>https://www.gallito.com.uy/gran-oportunidad-in...</td>\n",
       "    </tr>\n",
       "    <tr>\n",
       "      <th>2</th>\n",
       "      <td>3 Dormitorios en Villa Española</td>\n",
       "      <td>U$S 38.000</td>\n",
       "      <td>150.0</td>\n",
       "      <td>https://www.gallito.com.uy/casa-3-dormitorios-...</td>\n",
       "    </tr>\n",
       "    <tr>\n",
       "      <th>3</th>\n",
       "      <td>2 Dormitorios en La Teja</td>\n",
       "      <td>U$S 39.900</td>\n",
       "      <td>60.0</td>\n",
       "      <td>https://www.gallito.com.uy/economica-con-terre...</td>\n",
       "    </tr>\n",
       "    <tr>\n",
       "      <th>4</th>\n",
       "      <td>2 Dormitorios en Colon</td>\n",
       "      <td>U$S 45.000</td>\n",
       "      <td>50.0</td>\n",
       "      <td>https://www.gallito.com.uy/oficina-sosa-proxim...</td>\n",
       "    </tr>\n",
       "  </tbody>\n",
       "</table>\n",
       "</div>"
      ],
      "text/plain": [
       "                              desc       valor  metraje  \\\n",
       "0     3 Dormitorios en Aires Puros  $U 190.000    110.0   \n",
       "1           3 Dormitorios en Prado  U$S 15.500    100.0   \n",
       "2  3 Dormitorios en Villa Española  U$S 38.000    150.0   \n",
       "3         2 Dormitorios en La Teja  U$S 39.900     60.0   \n",
       "4           2 Dormitorios en Colon  U$S 45.000     50.0   \n",
       "\n",
       "                                                 url  \n",
       "0  https://www.gallito.com.uy/excelente-garaje-2-...  \n",
       "1  https://www.gallito.com.uy/gran-oportunidad-in...  \n",
       "2  https://www.gallito.com.uy/casa-3-dormitorios-...  \n",
       "3  https://www.gallito.com.uy/economica-con-terre...  \n",
       "4  https://www.gallito.com.uy/oficina-sosa-proxim...  "
      ]
     },
     "execution_count": 19,
     "metadata": {},
     "output_type": "execute_result"
    }
   ],
   "source": [
    "data = pd.read_csv('data/ventas_mvdeo_2022-08-03.csv')\n",
    "data.head()"
   ]
  },
  {
   "cell_type": "code",
   "execution_count": 20,
   "metadata": {},
   "outputs": [
    {
     "data": {
      "text/plain": [
       "168"
      ]
     },
     "execution_count": 20,
     "metadata": {},
     "output_type": "execute_result"
    }
   ],
   "source": [
    "r = [i=='Nan,Nan' for i in coords]\n",
    "sum(r)"
   ]
  },
  {
   "cell_type": "code",
   "execution_count": 25,
   "metadata": {},
   "outputs": [],
   "source": [
    "coords_splitted = [i.split(',') for i in coords]\n",
    "data[['lat', 'lng']] = coords_splitted"
   ]
  },
  {
   "cell_type": "code",
   "execution_count": 26,
   "metadata": {},
   "outputs": [],
   "source": [
    "data['lat'] = data['lat'].astype(float).round(5)\n",
    "data['lng'] = data['lng'].astype(float).round(5)"
   ]
  },
  {
   "cell_type": "code",
   "execution_count": 27,
   "metadata": {},
   "outputs": [
    {
     "data": {
      "text/html": [
       "<div>\n",
       "<style scoped>\n",
       "    .dataframe tbody tr th:only-of-type {\n",
       "        vertical-align: middle;\n",
       "    }\n",
       "\n",
       "    .dataframe tbody tr th {\n",
       "        vertical-align: top;\n",
       "    }\n",
       "\n",
       "    .dataframe thead th {\n",
       "        text-align: right;\n",
       "    }\n",
       "</style>\n",
       "<table border=\"1\" class=\"dataframe\">\n",
       "  <thead>\n",
       "    <tr style=\"text-align: right;\">\n",
       "      <th></th>\n",
       "      <th>desc</th>\n",
       "      <th>valor</th>\n",
       "      <th>metraje</th>\n",
       "      <th>url</th>\n",
       "      <th>lat</th>\n",
       "      <th>lng</th>\n",
       "    </tr>\n",
       "  </thead>\n",
       "  <tbody>\n",
       "    <tr>\n",
       "      <th>0</th>\n",
       "      <td>3 Dormitorios en Aires Puros</td>\n",
       "      <td>$U 190.000</td>\n",
       "      <td>110.0</td>\n",
       "      <td>https://www.gallito.com.uy/excelente-garaje-2-...</td>\n",
       "      <td>NaN</td>\n",
       "      <td>NaN</td>\n",
       "    </tr>\n",
       "    <tr>\n",
       "      <th>1</th>\n",
       "      <td>3 Dormitorios en Prado</td>\n",
       "      <td>U$S 15.500</td>\n",
       "      <td>100.0</td>\n",
       "      <td>https://www.gallito.com.uy/gran-oportunidad-in...</td>\n",
       "      <td>-34.85913</td>\n",
       "      <td>-56.20633</td>\n",
       "    </tr>\n",
       "    <tr>\n",
       "      <th>2</th>\n",
       "      <td>3 Dormitorios en Villa Española</td>\n",
       "      <td>U$S 38.000</td>\n",
       "      <td>150.0</td>\n",
       "      <td>https://www.gallito.com.uy/casa-3-dormitorios-...</td>\n",
       "      <td>-34.86785</td>\n",
       "      <td>-56.14285</td>\n",
       "    </tr>\n",
       "    <tr>\n",
       "      <th>3</th>\n",
       "      <td>2 Dormitorios en La Teja</td>\n",
       "      <td>U$S 39.900</td>\n",
       "      <td>60.0</td>\n",
       "      <td>https://www.gallito.com.uy/economica-con-terre...</td>\n",
       "      <td>-34.85720</td>\n",
       "      <td>-56.24105</td>\n",
       "    </tr>\n",
       "    <tr>\n",
       "      <th>4</th>\n",
       "      <td>2 Dormitorios en Colon</td>\n",
       "      <td>U$S 45.000</td>\n",
       "      <td>50.0</td>\n",
       "      <td>https://www.gallito.com.uy/oficina-sosa-proxim...</td>\n",
       "      <td>-34.80505</td>\n",
       "      <td>-56.23007</td>\n",
       "    </tr>\n",
       "    <tr>\n",
       "      <th>5</th>\n",
       "      <td>4 Dormitorios en Cerrito</td>\n",
       "      <td>U$S 45.000</td>\n",
       "      <td>97.0</td>\n",
       "      <td>https://www.gallito.com.uy/oportunidad-casa-de...</td>\n",
       "      <td>-34.85944</td>\n",
       "      <td>-56.15642</td>\n",
       "    </tr>\n",
       "    <tr>\n",
       "      <th>6</th>\n",
       "      <td>1 Dormitorio en Villa Española</td>\n",
       "      <td>U$S 48.000</td>\n",
       "      <td>39.0</td>\n",
       "      <td>https://www.gallito.com.uy/oficina-sosa-apto-1...</td>\n",
       "      <td>-32.87555</td>\n",
       "      <td>-56.02015</td>\n",
       "    </tr>\n",
       "    <tr>\n",
       "      <th>7</th>\n",
       "      <td>2 Dormitorios en La Teja</td>\n",
       "      <td>U$S 48.000</td>\n",
       "      <td>50.0</td>\n",
       "      <td>https://www.gallito.com.uy/casa-a-1-cuadra-de-...</td>\n",
       "      <td>-34.86604</td>\n",
       "      <td>-56.23782</td>\n",
       "    </tr>\n",
       "  </tbody>\n",
       "</table>\n",
       "</div>"
      ],
      "text/plain": [
       "                              desc       valor  metraje  \\\n",
       "0     3 Dormitorios en Aires Puros  $U 190.000    110.0   \n",
       "1           3 Dormitorios en Prado  U$S 15.500    100.0   \n",
       "2  3 Dormitorios en Villa Española  U$S 38.000    150.0   \n",
       "3         2 Dormitorios en La Teja  U$S 39.900     60.0   \n",
       "4           2 Dormitorios en Colon  U$S 45.000     50.0   \n",
       "5         4 Dormitorios en Cerrito  U$S 45.000     97.0   \n",
       "6   1 Dormitorio en Villa Española  U$S 48.000     39.0   \n",
       "7         2 Dormitorios en La Teja  U$S 48.000     50.0   \n",
       "\n",
       "                                                 url       lat       lng  \n",
       "0  https://www.gallito.com.uy/excelente-garaje-2-...       NaN       NaN  \n",
       "1  https://www.gallito.com.uy/gran-oportunidad-in... -34.85913 -56.20633  \n",
       "2  https://www.gallito.com.uy/casa-3-dormitorios-... -34.86785 -56.14285  \n",
       "3  https://www.gallito.com.uy/economica-con-terre... -34.85720 -56.24105  \n",
       "4  https://www.gallito.com.uy/oficina-sosa-proxim... -34.80505 -56.23007  \n",
       "5  https://www.gallito.com.uy/oportunidad-casa-de... -34.85944 -56.15642  \n",
       "6  https://www.gallito.com.uy/oficina-sosa-apto-1... -32.87555 -56.02015  \n",
       "7  https://www.gallito.com.uy/casa-a-1-cuadra-de-... -34.86604 -56.23782  "
      ]
     },
     "execution_count": 27,
     "metadata": {},
     "output_type": "execute_result"
    }
   ],
   "source": [
    "data.head(8)"
   ]
  },
  {
   "cell_type": "code",
   "execution_count": 28,
   "metadata": {},
   "outputs": [],
   "source": [
    "# limpieza\n",
    "data['valor'].str.replace('U', '')\n",
    "\n",
    "for word, rep in {\"U\":\" \", \"S\":\"\", \"$\":\"\", \".\":\"\"}.items():\n",
    "    data['valor'] = data['valor'].str.replace(word, rep, regex=False)"
   ]
  },
  {
   "cell_type": "code",
   "execution_count": 29,
   "metadata": {},
   "outputs": [],
   "source": [
    "data['valor'] = data['valor'].astype(int)"
   ]
  },
  {
   "cell_type": "code",
   "execution_count": 30,
   "metadata": {},
   "outputs": [
    {
     "data": {
      "text/html": [
       "<div>\n",
       "<style scoped>\n",
       "    .dataframe tbody tr th:only-of-type {\n",
       "        vertical-align: middle;\n",
       "    }\n",
       "\n",
       "    .dataframe tbody tr th {\n",
       "        vertical-align: top;\n",
       "    }\n",
       "\n",
       "    .dataframe thead th {\n",
       "        text-align: right;\n",
       "    }\n",
       "</style>\n",
       "<table border=\"1\" class=\"dataframe\">\n",
       "  <thead>\n",
       "    <tr style=\"text-align: right;\">\n",
       "      <th></th>\n",
       "      <th>desc</th>\n",
       "      <th>valor</th>\n",
       "      <th>metraje</th>\n",
       "      <th>url</th>\n",
       "      <th>lat</th>\n",
       "      <th>lng</th>\n",
       "    </tr>\n",
       "  </thead>\n",
       "  <tbody>\n",
       "    <tr>\n",
       "      <th>0</th>\n",
       "      <td>3 Dormitorios en Aires Puros</td>\n",
       "      <td>190000</td>\n",
       "      <td>110.0</td>\n",
       "      <td>https://www.gallito.com.uy/excelente-garaje-2-...</td>\n",
       "      <td>NaN</td>\n",
       "      <td>NaN</td>\n",
       "    </tr>\n",
       "    <tr>\n",
       "      <th>4</th>\n",
       "      <td>2 Dormitorios en Colon</td>\n",
       "      <td>45000</td>\n",
       "      <td>50.0</td>\n",
       "      <td>https://www.gallito.com.uy/oficina-sosa-proxim...</td>\n",
       "      <td>-34.80505</td>\n",
       "      <td>-56.23007</td>\n",
       "    </tr>\n",
       "    <tr>\n",
       "      <th>5</th>\n",
       "      <td>4 Dormitorios en Cerrito</td>\n",
       "      <td>45000</td>\n",
       "      <td>97.0</td>\n",
       "      <td>https://www.gallito.com.uy/oportunidad-casa-de...</td>\n",
       "      <td>-34.85944</td>\n",
       "      <td>-56.15642</td>\n",
       "    </tr>\n",
       "    <tr>\n",
       "      <th>6</th>\n",
       "      <td>1 Dormitorio en Villa Española</td>\n",
       "      <td>48000</td>\n",
       "      <td>39.0</td>\n",
       "      <td>https://www.gallito.com.uy/oficina-sosa-apto-1...</td>\n",
       "      <td>-32.87555</td>\n",
       "      <td>-56.02015</td>\n",
       "    </tr>\n",
       "    <tr>\n",
       "      <th>7</th>\n",
       "      <td>2 Dormitorios en La Teja</td>\n",
       "      <td>48000</td>\n",
       "      <td>50.0</td>\n",
       "      <td>https://www.gallito.com.uy/casa-a-1-cuadra-de-...</td>\n",
       "      <td>-34.86604</td>\n",
       "      <td>-56.23782</td>\n",
       "    </tr>\n",
       "  </tbody>\n",
       "</table>\n",
       "</div>"
      ],
      "text/plain": [
       "                             desc   valor  metraje  \\\n",
       "0    3 Dormitorios en Aires Puros  190000    110.0   \n",
       "4          2 Dormitorios en Colon   45000     50.0   \n",
       "5        4 Dormitorios en Cerrito   45000     97.0   \n",
       "6  1 Dormitorio en Villa Española   48000     39.0   \n",
       "7        2 Dormitorios en La Teja   48000     50.0   \n",
       "\n",
       "                                                 url       lat       lng  \n",
       "0  https://www.gallito.com.uy/excelente-garaje-2-...       NaN       NaN  \n",
       "4  https://www.gallito.com.uy/oficina-sosa-proxim... -34.80505 -56.23007  \n",
       "5  https://www.gallito.com.uy/oportunidad-casa-de... -34.85944 -56.15642  \n",
       "6  https://www.gallito.com.uy/oficina-sosa-apto-1... -32.87555 -56.02015  \n",
       "7  https://www.gallito.com.uy/casa-a-1-cuadra-de-... -34.86604 -56.23782  "
      ]
     },
     "execution_count": 30,
     "metadata": {},
     "output_type": "execute_result"
    }
   ],
   "source": [
    "data = data.loc[~((data.valor == 111111111) | (data.valor < 45000))]\n",
    "data.head()"
   ]
  },
  {
   "cell_type": "code",
   "execution_count": 31,
   "metadata": {},
   "outputs": [
    {
     "name": "stderr",
     "output_type": "stream",
     "text": [
      "c:\\Users\\59898\\anaconda3\\envs\\scrap\\lib\\site-packages\\pandas\\core\\frame.py:3641: SettingWithCopyWarning: \n",
      "A value is trying to be set on a copy of a slice from a DataFrame.\n",
      "Try using .loc[row_indexer,col_indexer] = value instead\n",
      "\n",
      "See the caveats in the documentation: https://pandas.pydata.org/pandas-docs/stable/user_guide/indexing.html#returning-a-view-versus-a-copy\n",
      "  self[k1] = value[k2]\n"
     ]
    }
   ],
   "source": [
    "data[['dormitorios', 'barrio']] = data['desc'].str.split(' en ', n = 1, expand = True)"
   ]
  },
  {
   "cell_type": "code",
   "execution_count": 32,
   "metadata": {},
   "outputs": [
    {
     "name": "stderr",
     "output_type": "stream",
     "text": [
      "c:\\Users\\59898\\anaconda3\\envs\\scrap\\lib\\site-packages\\ipykernel_launcher.py:1: SettingWithCopyWarning: \n",
      "A value is trying to be set on a copy of a slice from a DataFrame.\n",
      "Try using .loc[row_indexer,col_indexer] = value instead\n",
      "\n",
      "See the caveats in the documentation: https://pandas.pydata.org/pandas-docs/stable/user_guide/indexing.html#returning-a-view-versus-a-copy\n",
      "  \"\"\"Entry point for launching an IPython kernel.\n"
     ]
    }
   ],
   "source": [
    "data['barrio_ine'] = data['barrio']"
   ]
  },
  {
   "cell_type": "code",
   "execution_count": 33,
   "metadata": {},
   "outputs": [],
   "source": [
    "def format_barrio(df, column):\n",
    "    \"Formatea strings de Barrio Gallito a Barrio INE\"\n",
    "    barrios_dict = {\n",
    "        'Aguada' : 'Aguada',\n",
    "        'Aires Puros' : 'Aires Puros',\n",
    "        'Atahualpa' : 'Atahualpa',\n",
    "        'B. De Carrasco' : 'Bañados de Carrasco',\n",
    "        'Barrio Sur' : 'Barrio Sur',\n",
    "        'Belvedere' : 'Belvedere',\n",
    "        'Brazo Oriental' : 'Brazo Oriental',\n",
    "        'Buceo' : 'Buceo',\n",
    "        'Capurro' : 'Capurro, Bella Vista',\n",
    "        'Carrasco' : 'Carrasco',\n",
    "        'Carrasco Norte' : 'Carrasco Norte',\n",
    "        'Casabo' : 'Casabó, Pajas Blancas',\n",
    "        'Casavalle' : 'Casavalle',\n",
    "        'Centro' : 'Centro',\n",
    "        'Cerrito' : 'Cerrito',\n",
    "        'Cerro' : 'Cerro',\n",
    "        'Ciudad Vieja' : 'Ciudad Vieja',\n",
    "        'Cno. Maldonado' : 'Colón Centro y Noroeste',\n",
    "        'Colon' : 'Colón Sureste, Abayubá',\n",
    "        'Cordon' : 'Cordón',\n",
    "        'Golf' : 'Flor de Maroñas',\n",
    "        'Ituzaingo' : 'Ituzaingó',\n",
    "        'J. Hipodromo' : 'Jardines del Hipódromo',\n",
    "        'Jacinto Vera' : 'Jacinto Vera',\n",
    "        'La Blanqueada' : 'La Blanqueada',\n",
    "        'La Comercial' : 'La Comercial',\n",
    "        'La Figurita' : 'La Figurita',\n",
    "        'La Teja' : 'La Teja',\n",
    "        'Larrañaga' : 'Larrañaga',\n",
    "        'Las Acacias' : 'Las Acacias',\n",
    "        'Lezica' : 'Lezica, Melilla',\n",
    "        'Malvin' : 'Malvín',\n",
    "        'Malvin Norte' : 'Malvín Norte',\n",
    "        'Manga' : 'Manga',\n",
    "        'Maroñas' : 'Maroñas, Parque Guaraní',\n",
    "        'Maroñas Curva' : 'Maroñas, Parque Guaraní',\n",
    "        'Melilla' : 'Lezica, Melilla',\n",
    "        'Nuevo Paris' : 'Mercado Modelo, Bolívar',\n",
    "        'Pajas Blancas' : 'Nuevo París',\n",
    "        'Palermo' : 'Palermo',\n",
    "        'Parque Batlle' : 'Parque Batlle, Villa Dolores',\n",
    "        'Parque Rodo' : 'Parque Rodó',\n",
    "        'Paso De La Arena' : 'Paso de la Arena',\n",
    "        'Peñarol' : 'Peñarol, Lavalleja',\n",
    "        'Perez Castellanos' : 'Castro, P. Castellanos',\n",
    "        'Piedras Blancas' : 'Piedras Blancas',\n",
    "        'Pocitos' : 'Pocitos',\n",
    "        'Pocitos Nuevo' : 'Pocitos',\n",
    "        'Prado' : 'Prado, Nueva Savona',\n",
    "        'Prado Norte' : 'Prado, Nueva Savona',\n",
    "        'Puerto Buceo' : 'Buceo',\n",
    "        'Punta Carretas' : 'Punta Carretas',\n",
    "        'Punta Gorda' : 'Punta Gorda',\n",
    "        'Punta Rieles' : 'Punta Rieles, Bella Italia',\n",
    "        'Reducto' : 'Reducto',\n",
    "        'Sayago' : 'Sayago',\n",
    "        'Tres Cruces' : 'Tres Cruces',\n",
    "        'Union' : 'Unión',\n",
    "        'Villa Dolores' : 'Parque Batlle, Villa Dolores',\n",
    "        'Villa Española' : 'Villa Española',\n",
    "        'Villa Muñoz' : 'Villa Muñoz, Retiro'\n",
    "        }\n",
    "\n",
    "    return df[column].map(barrios_dict)"
   ]
  },
  {
   "cell_type": "code",
   "execution_count": 34,
   "metadata": {},
   "outputs": [
    {
     "name": "stderr",
     "output_type": "stream",
     "text": [
      "c:\\Users\\59898\\anaconda3\\envs\\scrap\\lib\\site-packages\\ipykernel_launcher.py:1: SettingWithCopyWarning: \n",
      "A value is trying to be set on a copy of a slice from a DataFrame.\n",
      "Try using .loc[row_indexer,col_indexer] = value instead\n",
      "\n",
      "See the caveats in the documentation: https://pandas.pydata.org/pandas-docs/stable/user_guide/indexing.html#returning-a-view-versus-a-copy\n",
      "  \"\"\"Entry point for launching an IPython kernel.\n"
     ]
    }
   ],
   "source": [
    "data['barrio_ine'] = format_barrio(data, 'barrio')"
   ]
  },
  {
   "cell_type": "code",
   "execution_count": 35,
   "metadata": {},
   "outputs": [],
   "source": [
    "def encode_barrio(df, column):\n",
    "    \"Codifica barrio INE\"\n",
    "    barrios_dict = {\n",
    "    'Ciudad Vieja':1,\n",
    "    'Centro':2,\n",
    "    'Barrio Sur':3,\n",
    "    'Cordón':4,\n",
    "    'Palermo':5,\n",
    "    'Parque Rodó':6,\n",
    "    'Punta Carretas':7,\n",
    "    'Pocitos':8,\n",
    "    'Buceo':9,\n",
    "    'Parque Batlle, Villa Dolores':10,\n",
    "    'Malvín':11,\n",
    "    'Malvín Norte':12,\n",
    "    'Punta Gorda':13,\n",
    "    'Carrasco':14,\n",
    "    'Carrasco Norte':15,\n",
    "    'Bañados de Carrasco':16,\n",
    "    'Maroñas, Parque Guaraní':17,\n",
    "    'Flor de Maroñas':18,\n",
    "    'Las Canteras':19,\n",
    "    'Punta Rieles, Bella Italia':20,\n",
    "    'Jardines del Hipódromo':21,\n",
    "    'Ituzaingó':22,\n",
    "    'Unión':23,\n",
    "    'Villa Española':24,\n",
    "    'Mercado Modelo, Bolívar':25,\n",
    "    'Castro, P. Castellanos':26,\n",
    "    'Cerrito':27,\n",
    "    'Las Acacias':28,\n",
    "    'Aires Puros':29,\n",
    "    'Casavalle':30,\n",
    "    'Piedras Blancas':31,\n",
    "    'Manga, Toledo Chico':32,\n",
    "    'Paso de las Duranas':33,\n",
    "    'Peñarol, Lavalleja':34,\n",
    "    'Cerro':35,\n",
    "    'Casabó, Pajas Blancas':36,\n",
    "    'La Paloma, Tomkinson':37,\n",
    "    'La Teja':38,\n",
    "    'Prado, Nueva Savona':39,\n",
    "    'Capurro, Bella Vista':40,\n",
    "    'Aguada':41,\n",
    "    'Reducto':42,\n",
    "    'Atahualpa':43,\n",
    "    'Jacinto Vera':44,\n",
    "    'La Figurita':45,\n",
    "    'Larrañaga':46,\n",
    "    'La Blanqueada':47,\n",
    "    'Villa Muñoz, Retiro':48,\n",
    "    'La Comercial':49,\n",
    "    'Tres Cruces':50,\n",
    "    'Brazo Oriental':51,\n",
    "    'Sayago':52,\n",
    "    'Conciliación':53,\n",
    "    'Belvedere':54,\n",
    "    'Nuevo París':55,\n",
    "    'Tres Ombúes, Victoria':56,\n",
    "    'Paso de la Arena':57,\n",
    "    'Colón Sureste, Abayubá':58,\n",
    "    'Colón Centro y Noroeste':59,\n",
    "    'Lezica, Melilla':60,\n",
    "    'Villa García, Manga Rural':61,\n",
    "    'Manga':62\n",
    "        }\n",
    "    return df[column].map(barrios_dict)"
   ]
  },
  {
   "cell_type": "code",
   "execution_count": 36,
   "metadata": {},
   "outputs": [
    {
     "name": "stderr",
     "output_type": "stream",
     "text": [
      "c:\\Users\\59898\\anaconda3\\envs\\scrap\\lib\\site-packages\\ipykernel_launcher.py:1: SettingWithCopyWarning: \n",
      "A value is trying to be set on a copy of a slice from a DataFrame.\n",
      "Try using .loc[row_indexer,col_indexer] = value instead\n",
      "\n",
      "See the caveats in the documentation: https://pandas.pydata.org/pandas-docs/stable/user_guide/indexing.html#returning-a-view-versus-a-copy\n",
      "  \"\"\"Entry point for launching an IPython kernel.\n"
     ]
    }
   ],
   "source": [
    "data['cod_barrio_ine'] = encode_barrio(data, 'barrio_ine')"
   ]
  },
  {
   "cell_type": "code",
   "execution_count": 37,
   "metadata": {},
   "outputs": [],
   "source": [
    "data.to_csv('data/ventas_mvdeo_2022-08-03.csv_depurado.csv', index=False)"
   ]
  },
  {
   "cell_type": "code",
   "execution_count": 38,
   "metadata": {},
   "outputs": [],
   "source": [
    "data = data.loc[(data.metraje > 10) & (data.metraje < 4000) & (~data.metraje.isna())]\n",
    "\n",
    "data['metraje'] = data['metraje'].astype(int)\n",
    "\n",
    "data['valor_metro'] = data['valor'] / data['metraje']\n",
    "\n",
    "agru = data.groupby('cod_barrio_ine').median('valor_metro').reset_index()\n",
    "\n",
    "agru['cod_barrio_ine'] = agru['cod_barrio_ine'].astype(int)\n",
    "                                                       \n",
    "agru.to_csv('data/datos_agrupados_2022-08-03.csv', index=False)"
   ]
  }
 ],
 "metadata": {
  "kernelspec": {
   "display_name": "Python 3.7.11 ('scrap')",
   "language": "python",
   "name": "python3"
  },
  "language_info": {
   "codemirror_mode": {
    "name": "ipython",
    "version": 3
   },
   "file_extension": ".py",
   "mimetype": "text/x-python",
   "name": "python",
   "nbconvert_exporter": "python",
   "pygments_lexer": "ipython3",
   "version": "3.7.11"
  },
  "vscode": {
   "interpreter": {
    "hash": "b13211adf055f5e51f16ccb9f0c577891b7025db867e9d8ecf699b7251e4db0b"
   }
  }
 },
 "nbformat": 4,
 "nbformat_minor": 4
}

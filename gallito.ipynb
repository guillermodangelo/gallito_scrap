{
 "cells": [
  {
   "cell_type": "code",
   "execution_count": 1,
   "metadata": {},
   "outputs": [],
   "source": [
    "from selenium import webdriver\n",
    "from selenium.webdriver.common.by import By\n",
    "from selenium.webdriver.support.ui import WebDriverWait\n",
    "from selenium.webdriver.support import expected_conditions as EC\n",
    "\n",
    "import pandas as pd\n",
    "import time\n",
    "\n",
    "from bs4 import BeautifulSoup"
   ]
  },
  {
   "cell_type": "code",
   "execution_count": 2,
   "metadata": {},
   "outputs": [],
   "source": [
    "def flatten(t):\n",
    "    return [item for sublist in t for item in sublist]"
   ]
  },
  {
   "cell_type": "code",
   "execution_count": 3,
   "metadata": {},
   "outputs": [],
   "source": [
    "# driver = webdriver.Chrome('C:/Users/user/Documents/chromedriver.exe')\n",
    "urls= ['https://www.gallito.com.uy/inmuebles/casas/venta/montevideo/ord_asc?pag={}'.format(i) for i in range(1, 3)]\n",
    "\n",
    "driver = webdriver.Chrome('/home/guillermo/Documentos/chromedriver_linux64/chromedriver')"
   ]
  },
  {
   "cell_type": "code",
   "execution_count": 4,
   "metadata": {},
   "outputs": [
    {
     "data": {
      "text/plain": [
       "['https://www.gallito.com.uy/inmuebles/casas/venta/montevideo/ord_asc?pag=1',\n",
       " 'https://www.gallito.com.uy/inmuebles/casas/venta/montevideo/ord_asc?pag=2']"
      ]
     },
     "execution_count": 4,
     "metadata": {},
     "output_type": "execute_result"
    }
   ],
   "source": [
    "urls"
   ]
  },
  {
   "cell_type": "code",
   "execution_count": 5,
   "metadata": {},
   "outputs": [],
   "source": [
    "driver.get('https://www.gallito.com.uy/inmuebles/casas/venta/montevideo/ord_asc?pag=1')"
   ]
  },
  {
   "cell_type": "code",
   "execution_count": 6,
   "metadata": {},
   "outputs": [],
   "source": [
    "data = []\n",
    "metraje = []\n",
    "url_publicacion = []\n",
    "\n",
    "for url in urls:\n",
    "    try:\n",
    "        driver.get(url)\n",
    "    except:\n",
    "        print('Get method failed, check URL.')\n",
    "    pagina = [e.text.splitlines() for e in driver.find_elements_by_css_selector('.contenedor-info')]\n",
    "    data.append(pagina)\n",
    "    html = [e.get_attribute(\"innerHTML\") for e in driver.find_elements_by_css_selector('.contenedor-info .mas-info')]\n",
    "    for i in html:\n",
    "        soup = BeautifulSoup(i, \"html.parser\")\n",
    "        metraje.append(soup.span.text)\n",
    "        url_publicacion.append(soup.find('a')['href'])\n",
    "flat_list = flatten(data)\n",
    "result = pd.DataFrame(flat_list, columns=['desc', 'valor'])\n",
    "result['metraje'] = metraje\n",
    "result['metraje'] = result['metraje'].replace({' m2': ''}, regex=True)\n",
    "result['url'] = url_publicacion"
   ]
  },
  {
   "cell_type": "code",
   "execution_count": 9,
   "metadata": {},
   "outputs": [
    {
     "data": {
      "text/html": [
       "<div>\n",
       "<style scoped>\n",
       "    .dataframe tbody tr th:only-of-type {\n",
       "        vertical-align: middle;\n",
       "    }\n",
       "\n",
       "    .dataframe tbody tr th {\n",
       "        vertical-align: top;\n",
       "    }\n",
       "\n",
       "    .dataframe thead th {\n",
       "        text-align: right;\n",
       "    }\n",
       "</style>\n",
       "<table border=\"1\" class=\"dataframe\">\n",
       "  <thead>\n",
       "    <tr style=\"text-align: right;\">\n",
       "      <th></th>\n",
       "      <th>desc</th>\n",
       "      <th>valor</th>\n",
       "      <th>metraje</th>\n",
       "      <th>url</th>\n",
       "    </tr>\n",
       "  </thead>\n",
       "  <tbody>\n",
       "    <tr>\n",
       "      <th>0</th>\n",
       "      <td>2 Dormitorios en Ciudad Vieja</td>\n",
       "      <td>U$S 1</td>\n",
       "      <td>160</td>\n",
       "      <td>https://www.gallito.com.uy/cerrito-y-juan-carl...</td>\n",
       "    </tr>\n",
       "    <tr>\n",
       "      <th>1</th>\n",
       "      <td>Más de 4 dormitorios en Pocitos</td>\n",
       "      <td>U$S 1</td>\n",
       "      <td>300</td>\n",
       "      <td>https://www.gallito.com.uy/casa-avenida-brasil...</td>\n",
       "    </tr>\n",
       "    <tr>\n",
       "      <th>2</th>\n",
       "      <td>Más de 4 dormitorios en Otro</td>\n",
       "      <td>U$S 100</td>\n",
       "      <td>500</td>\n",
       "      <td>https://www.gallito.com.uy/compro-terreno-o-“c...</td>\n",
       "    </tr>\n",
       "    <tr>\n",
       "      <th>3</th>\n",
       "      <td>3 Dormitorios en Maroñas Curva</td>\n",
       "      <td>U$S 115</td>\n",
       "      <td>82</td>\n",
       "      <td>https://www.gallito.com.uy/casa-muy-cuidada-a-...</td>\n",
       "    </tr>\n",
       "    <tr>\n",
       "      <th>4</th>\n",
       "      <td>3 Dormitorios en Goes</td>\n",
       "      <td>U$S 120</td>\n",
       "      <td>67</td>\n",
       "      <td>https://www.gallito.com.uy/oportunidad-inversi...</td>\n",
       "    </tr>\n",
       "  </tbody>\n",
       "</table>\n",
       "</div>"
      ],
      "text/plain": [
       "                              desc    valor metraje  \\\n",
       "0    2 Dormitorios en Ciudad Vieja    U$S 1     160   \n",
       "1  Más de 4 dormitorios en Pocitos    U$S 1     300   \n",
       "2     Más de 4 dormitorios en Otro  U$S 100     500   \n",
       "3   3 Dormitorios en Maroñas Curva  U$S 115      82   \n",
       "4            3 Dormitorios en Goes  U$S 120      67   \n",
       "\n",
       "                                                 url  \n",
       "0  https://www.gallito.com.uy/cerrito-y-juan-carl...  \n",
       "1  https://www.gallito.com.uy/casa-avenida-brasil...  \n",
       "2  https://www.gallito.com.uy/compro-terreno-o-“c...  \n",
       "3  https://www.gallito.com.uy/casa-muy-cuidada-a-...  \n",
       "4  https://www.gallito.com.uy/oportunidad-inversi...  "
      ]
     },
     "execution_count": 9,
     "metadata": {},
     "output_type": "execute_result"
    }
   ],
   "source": [
    "result.head()"
   ]
  },
  {
   "cell_type": "code",
   "execution_count": 69,
   "metadata": {},
   "outputs": [
    {
     "name": "stdout",
     "output_type": "stream",
     "text": [
      "Elem not enabled\n"
     ]
    }
   ],
   "source": [
    "# recupera latlong si hay\n",
    "coordenadas = []\n",
    "\n",
    "driver.get('https://www.gallito.com.uy/due%C3%B1o-vende-casa-ph-inmuebles-19426843')\n",
    "\n",
    "elem = driver.find_elements_by_css_selector('#ubicacion')\n",
    "\n",
    "if elem != []:\n",
    "    element = driver.find_element_by_xpath(\"/html/body/form/main/div/div[1]/ul/li[4]/a/i\")\n",
    "    element.click()\n",
    "    time.sleep(2)\n",
    "    ubic_html = [e.get_attribute(\"innerHTML\") for e in driver.find_elements_by_css_selector(\"#ubicacion\")]\n",
    "    soup = BeautifulSoup(ubic_html[0], \"html.parser\")\n",
    "    src = soup.find('iframe')['src']\n",
    "    latlng = src.split('q=', 1)[1].split('0&zoom=', 1)[0]\n",
    "    coordenadas.append(latlng)\n",
    "else:\n",
    "    print('Sin ubicación')\n",
    "    coordenadas.append('')\n"
   ]
  },
  {
   "cell_type": "code",
   "execution_count": 73,
   "metadata": {},
   "outputs": [],
   "source": [
    "urls = list(result.url)"
   ]
  },
  {
   "cell_type": "code",
   "execution_count": null,
   "metadata": {},
   "outputs": [],
   "source": []
  },
  {
   "cell_type": "code",
   "execution_count": null,
   "metadata": {},
   "outputs": [],
   "source": [
    "urls= ['https://www.gallito.com.uy/inmuebles/casas/venta/montevideo/ord_asc?pag={}'.format(i) for i in range(1, 155)]"
   ]
  },
  {
   "cell_type": "code",
   "execution_count": null,
   "metadata": {},
   "outputs": [],
   "source": [
    "def scrapper(urls):\n",
    "    data = []\n",
    "    metraje = []\n",
    "    for url in urls:\n",
    "        try:\n",
    "            driver.get(url)\n",
    "        except:\n",
    "            print('Get method failed, check URL.')\n",
    "        pagina = [e.text.splitlines() for e in driver.find_elements_by_css_selector('.contenedor-info')]\n",
    "        data.append(pagina)\n",
    "        html = [e.get_attribute(\"innerHTML\") for e in driver.find_elements_by_css_selector('.contenedor-info .mas-info')]\n",
    "\n",
    "        for i in html:\n",
    "            soup = BeautifulSoup(i, \"html.parser\")\n",
    "            metraje.append(soup.span.text)\n",
    "\n",
    "        time.sleep(1)\n",
    "\n",
    "    flat_list = flatten(data)\n",
    "    result = pd.DataFrame(flat_list, columns=['desc', 'valor'])\n",
    "    result['metraje'] = metraje\n",
    "    result['metraje'] = result['metraje'].replace({' m2': ''}, regex=True)\n",
    "    \n",
    "    return result"
   ]
  },
  {
   "cell_type": "code",
   "execution_count": null,
   "metadata": {},
   "outputs": [],
   "source": [
    "data = scrapper(urls)"
   ]
  },
  {
   "cell_type": "code",
   "execution_count": null,
   "metadata": {},
   "outputs": [],
   "source": [
    "data.head(10)"
   ]
  },
  {
   "cell_type": "code",
   "execution_count": null,
   "metadata": {},
   "outputs": [],
   "source": [
    "data.shape"
   ]
  },
  {
   "cell_type": "code",
   "execution_count": null,
   "metadata": {},
   "outputs": [],
   "source": [
    "data.to_csv('ventas_mvdeo_20210706.csv', index=False)"
   ]
  },
  {
   "cell_type": "code",
   "execution_count": null,
   "metadata": {},
   "outputs": [],
   "source": [
    "# limpieza\n",
    "data = pd.read_csv('ventas_mvdeo_20210706.csv')\n",
    "\n",
    "data['valor'].str.replace('U', '')\n",
    "\n",
    "for word, rep in {\"U\":\" \", \"S\":\"\", \"$\":\"\", \".\":\"\"}.items():\n",
    "    data['valor'] = data['valor'].str.replace(word, rep, regex=False)"
   ]
  },
  {
   "cell_type": "code",
   "execution_count": null,
   "metadata": {},
   "outputs": [],
   "source": [
    "data['valor'] = data['valor'].astype(int)"
   ]
  },
  {
   "cell_type": "code",
   "execution_count": null,
   "metadata": {},
   "outputs": [],
   "source": [
    "len(data)"
   ]
  },
  {
   "cell_type": "code",
   "execution_count": null,
   "metadata": {},
   "outputs": [],
   "source": [
    "data = data.loc[~((data.valor == 111111111) | (data.valor < 45000))]\n",
    "data.head()"
   ]
  },
  {
   "cell_type": "code",
   "execution_count": null,
   "metadata": {},
   "outputs": [],
   "source": [
    "data[['dormitorios', 'barrio']] = data['desc'].str.split(' en ', n = 1, expand = True)"
   ]
  },
  {
   "cell_type": "code",
   "execution_count": null,
   "metadata": {},
   "outputs": [],
   "source": [
    "# data.to_csv('ventas_mvdeo_20210706_depu.csv', index=False)"
   ]
  },
  {
   "cell_type": "code",
   "execution_count": null,
   "metadata": {},
   "outputs": [],
   "source": [
    "# pd.Series(data.barrio.unique()).to_csv('cod.csv')"
   ]
  },
  {
   "cell_type": "code",
   "execution_count": null,
   "metadata": {},
   "outputs": [],
   "source": [
    "data['barrio_ine'] = data['barrio']"
   ]
  },
  {
   "cell_type": "code",
   "execution_count": null,
   "metadata": {},
   "outputs": [],
   "source": [
    "def format_barrio(df, column):\n",
    "    \"Formatea strings de Barrio Gallito a Barrio INE\"\n",
    "    barrios_dict = {\n",
    "        'Aguada' : 'Aguada',\n",
    "        'Aires Puros' : 'Aires Puros',\n",
    "        'Atahualpa' : 'Atahualpa',\n",
    "        'B. De Carrasco' : 'Bañados de Carrasco',\n",
    "        'Barrio Sur' : 'Barrio Sur',\n",
    "        'Belvedere' : 'Belvedere',\n",
    "        'Brazo Oriental' : 'Brazo Oriental',\n",
    "        'Buceo' : 'Buceo',\n",
    "        'Capurro' : 'Capurro, Bella Vista',\n",
    "        'Carrasco' : 'Carrasco',\n",
    "        'Carrasco Norte' : 'Carrasco Norte',\n",
    "        'Casabo' : 'Casabó, Pajas Blancas',\n",
    "        'Casavalle' : 'Casavalle',\n",
    "        'Centro' : 'Centro',\n",
    "        'Cerrito' : 'Cerrito',\n",
    "        'Cerro' : 'Cerro',\n",
    "        'Ciudad Vieja' : 'Ciudad Vieja',\n",
    "        'Cno. Maldonado' : 'Colón Centro y Noroeste',\n",
    "        'Colon' : 'Colón Sureste, Abayubá',\n",
    "        'Cordon' : 'Cordón',\n",
    "        'Golf' : 'Flor de Maroñas',\n",
    "        'Ituzaingo' : 'Ituzaingó',\n",
    "        'J. Hipodromo' : 'Jardines del Hipódromo',\n",
    "        'Jacinto Vera' : 'Jacinto Vera',\n",
    "        'La Blanqueada' : 'La Blanqueada',\n",
    "        'La Comercial' : 'La Comercial',\n",
    "        'La Figurita' : 'La Figurita',\n",
    "        'La Teja' : 'La Teja',\n",
    "        'Larrañaga' : 'Larrañaga',\n",
    "        'Las Acacias' : 'Las Acacias',\n",
    "        'Lezica' : 'Lezica, Melilla',\n",
    "        'Malvin' : 'Malvín',\n",
    "        'Malvin Norte' : 'Malvín Norte',\n",
    "        'Manga' : 'Manga',\n",
    "        'Maroñas' : 'Maroñas, Parque Guaraní',\n",
    "        'Maroñas Curva' : 'Maroñas, Parque Guaraní',\n",
    "        'Melilla' : 'Lezica, Melilla',\n",
    "        'Nuevo Paris' : 'Mercado Modelo, Bolívar',\n",
    "        'Pajas Blancas' : 'Nuevo París',\n",
    "        'Palermo' : 'Palermo',\n",
    "        'Parque Batlle' : 'Parque Batlle, Villa Dolores',\n",
    "        'Parque Rodo' : 'Parque Rodó',\n",
    "        'Paso De La Arena' : 'Paso de la Arena',\n",
    "        'Peñarol' : 'Peñarol, Lavalleja',\n",
    "        'Perez Castellanos' : 'Castro, P. Castellanos',\n",
    "        'Piedras Blancas' : 'Piedras Blancas',\n",
    "        'Pocitos' : 'Pocitos',\n",
    "        'Pocitos Nuevo' : 'Pocitos',\n",
    "        'Prado' : 'Prado, Nueva Savona',\n",
    "        'Prado Norte' : 'Prado, Nueva Savona',\n",
    "        'Puerto Buceo' : 'Buceo',\n",
    "        'Punta Carretas' : 'Punta Carretas',\n",
    "        'Punta Gorda' : 'Punta Gorda',\n",
    "        'Punta Rieles' : 'Punta Rieles, Bella Italia',\n",
    "        'Reducto' : 'Reducto',\n",
    "        'Sayago' : 'Sayago',\n",
    "        'Tres Cruces' : 'Tres Cruces',\n",
    "        'Union' : 'Unión',\n",
    "        'Villa Dolores' : 'Parque Batlle, Villa Dolores',\n",
    "        'Villa Española' : 'Villa Española',\n",
    "        'Villa Muñoz' : 'Villa Muñoz, Retiro'\n",
    "        }\n",
    "\n",
    "    return df[column].map(barrios_dict)"
   ]
  },
  {
   "cell_type": "code",
   "execution_count": null,
   "metadata": {},
   "outputs": [],
   "source": [
    "data['barrio_ine'] = format_barrio(data, 'barrio')"
   ]
  },
  {
   "cell_type": "code",
   "execution_count": null,
   "metadata": {},
   "outputs": [],
   "source": [
    "data.head(15)"
   ]
  },
  {
   "cell_type": "code",
   "execution_count": null,
   "metadata": {},
   "outputs": [],
   "source": [
    "def encode_barrio(df, column):\n",
    "    \"Codifica barrio INE\"\n",
    "    barrios_dict = {\n",
    "    'Ciudad Vieja':1,\n",
    "    'Centro':2,\n",
    "    'Barrio Sur':3,\n",
    "    'Cordón':4,\n",
    "    'Palermo':5,\n",
    "    'Parque Rodó':6,\n",
    "    'Punta Carretas':7,\n",
    "    'Pocitos':8,\n",
    "    'Buceo':9,\n",
    "    'Parque Batlle, Villa Dolores':10,\n",
    "    'Malvín':11,\n",
    "    'Malvín Norte':12,\n",
    "    'Punta Gorda':13,\n",
    "    'Carrasco':14,\n",
    "    'Carrasco Norte':15,\n",
    "    'Bañados de Carrasco':16,\n",
    "    'Maroñas, Parque Guaraní':17,\n",
    "    'Flor de Maroñas':18,\n",
    "    'Las Canteras':19,\n",
    "    'Punta Rieles, Bella Italia':20,\n",
    "    'Jardines del Hipódromo':21,\n",
    "    'Ituzaingó':22,\n",
    "    'Unión':23,\n",
    "    'Villa Española':24,\n",
    "    'Mercado Modelo, Bolívar':25,\n",
    "    'Castro, P. Castellanos':26,\n",
    "    'Cerrito':27,\n",
    "    'Las Acacias':28,\n",
    "    'Aires Puros':29,\n",
    "    'Casavalle':30,\n",
    "    'Piedras Blancas':31,\n",
    "    'Manga, Toledo Chico':32,\n",
    "    'Paso de las Duranas':33,\n",
    "    'Peñarol, Lavalleja':34,\n",
    "    'Cerro':35,\n",
    "    'Casabó, Pajas Blancas':36,\n",
    "    'La Paloma, Tomkinson':37,\n",
    "    'La Teja':38,\n",
    "    'Prado, Nueva Savona':39,\n",
    "    'Capurro, Bella Vista':40,\n",
    "    'Aguada':41,\n",
    "    'Reducto':42,\n",
    "    'Atahualpa':43,\n",
    "    'Jacinto Vera':44,\n",
    "    'La Figurita':45,\n",
    "    'Larrañaga':46,\n",
    "    'La Blanqueada':47,\n",
    "    'Villa Muñoz, Retiro':48,\n",
    "    'La Comercial':49,\n",
    "    'Tres Cruces':50,\n",
    "    'Brazo Oriental':51,\n",
    "    'Sayago':52,\n",
    "    'Conciliación':53,\n",
    "    'Belvedere':54,\n",
    "    'Nuevo París':55,\n",
    "    'Tres Ombúes, Victoria':56,\n",
    "    'Paso de la Arena':57,\n",
    "    'Colón Sureste, Abayubá':58,\n",
    "    'Colón Centro y Noroeste':59,\n",
    "    'Lezica, Melilla':60,\n",
    "    'Villa García, Manga Rural':61,\n",
    "    'Manga':62\n",
    "        }\n",
    "    return df[column].map(barrios_dict)"
   ]
  },
  {
   "cell_type": "code",
   "execution_count": null,
   "metadata": {},
   "outputs": [],
   "source": [
    "data['cod_barrio_ine'] = encode_barrio(data, 'barrio_ine')\n",
    "data.head()"
   ]
  },
  {
   "cell_type": "code",
   "execution_count": null,
   "metadata": {},
   "outputs": [],
   "source": [
    "\n",
    "data = data.loc[(data.metraje > 10) & (data.metraje < 4000) & (~data.metraje.isna())]\n",
    "\n",
    "data['metraje'] = data['metraje'].astype(int)\n",
    "\n",
    "data['valor_metro'] = data['valor'] / data['metraje']\n",
    "\n",
    "agru = data.groupby('cod_barrio_ine').median('valor_metro').reset_index()\n",
    "\n",
    "agru['cod_barrio_ine'] = agru['cod_barrio_ine'].astype(int)\n",
    "                                                       \n",
    "agru.to_csv('agru.csv', index=False)"
   ]
  },
  {
   "cell_type": "code",
   "execution_count": null,
   "metadata": {},
   "outputs": [],
   "source": []
  }
 ],
 "metadata": {
  "interpreter": {
   "hash": "24c9600e5b7339f449bd335ad8180591b83c0fdfdd17b90ba098a9687ce7e6ad"
  },
  "kernelspec": {
   "display_name": "Python 3",
   "language": "python",
   "name": "python3"
  },
  "language_info": {
   "codemirror_mode": {
    "name": "ipython",
    "version": 3
   },
   "file_extension": ".py",
   "mimetype": "text/x-python",
   "name": "python",
   "nbconvert_exporter": "python",
   "pygments_lexer": "ipython3",
   "version": "3.9.5"
  }
 },
 "nbformat": 4,
 "nbformat_minor": 4
}

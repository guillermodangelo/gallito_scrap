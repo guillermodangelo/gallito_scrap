{
 "cells": [
  {
   "cell_type": "code",
   "execution_count": 2,
   "metadata": {},
   "outputs": [],
   "source": [
    "import pandas as pd\n",
    "from numpy import random\n",
    "from bs4 import BeautifulSoup\n",
    "from concurrent.futures import ThreadPoolExecutor\n",
    "from datetime import datetime\n",
    "import numpy as np\n",
    "\n",
    "from scripts.scrapper_gallito import flatten, scrapper, scrap_latlng, format_barrio, encode_barrio"
   ]
  },
  {
   "cell_type": "code",
   "execution_count": null,
   "metadata": {},
   "outputs": [],
   "source": [
    "base_url = 'https://www.gallito.com.uy/inmuebles/casas/venta/montevideo/ord_asc?pag={}'\n",
    "all_urls= [base_url.format(i) for i in range(1, 200)]\n",
    "\n",
    "threads = 20\n",
    "\n",
    "urls = np.array_split(all_urls, threads)\n",
    "\n",
    "all_r = []\n",
    "\n",
    "with ThreadPoolExecutor(threads) as executor:\n",
    "    for result in executor.map(scrapper, urls):\n",
    "        all_r.append(result)"
   ]
  },
  {
   "cell_type": "code",
   "execution_count": null,
   "metadata": {},
   "outputs": [],
   "source": [
    "data = pd.concat(all_r).reset_index(drop=True)\n",
    "data.head()"
   ]
  },
  {
   "cell_type": "code",
   "execution_count": null,
   "metadata": {},
   "outputs": [],
   "source": [
    "filename = f'data/ventas_mvdeo_{str(datetime.today().date())}.csv'\n",
    "data.to_csv(filename, index=False)"
   ]
  },
  {
   "cell_type": "markdown",
   "metadata": {},
   "source": [
    "## Recupera coordenadas"
   ]
  },
  {
   "cell_type": "code",
   "execution_count": 2,
   "metadata": {},
   "outputs": [
    {
     "data": {
      "text/html": [
       "<div>\n",
       "<style scoped>\n",
       "    .dataframe tbody tr th:only-of-type {\n",
       "        vertical-align: middle;\n",
       "    }\n",
       "\n",
       "    .dataframe tbody tr th {\n",
       "        vertical-align: top;\n",
       "    }\n",
       "\n",
       "    .dataframe thead th {\n",
       "        text-align: right;\n",
       "    }\n",
       "</style>\n",
       "<table border=\"1\" class=\"dataframe\">\n",
       "  <thead>\n",
       "    <tr style=\"text-align: right;\">\n",
       "      <th></th>\n",
       "      <th>desc</th>\n",
       "      <th>valor</th>\n",
       "      <th>metraje</th>\n",
       "      <th>url</th>\n",
       "    </tr>\n",
       "  </thead>\n",
       "  <tbody>\n",
       "    <tr>\n",
       "      <th>0</th>\n",
       "      <td>3 Dormitorios en Aires Puros</td>\n",
       "      <td>$U 190.000</td>\n",
       "      <td>110.0</td>\n",
       "      <td>https://www.gallito.com.uy/excelente-garaje-2-...</td>\n",
       "    </tr>\n",
       "    <tr>\n",
       "      <th>1</th>\n",
       "      <td>3 Dormitorios en Prado</td>\n",
       "      <td>U$S 15.500</td>\n",
       "      <td>100.0</td>\n",
       "      <td>https://www.gallito.com.uy/gran-oportunidad-in...</td>\n",
       "    </tr>\n",
       "    <tr>\n",
       "      <th>2</th>\n",
       "      <td>3 Dormitorios en Villa Española</td>\n",
       "      <td>U$S 38.000</td>\n",
       "      <td>150.0</td>\n",
       "      <td>https://www.gallito.com.uy/casa-3-dormitorios-...</td>\n",
       "    </tr>\n",
       "    <tr>\n",
       "      <th>3</th>\n",
       "      <td>2 Dormitorios en La Teja</td>\n",
       "      <td>U$S 39.900</td>\n",
       "      <td>60.0</td>\n",
       "      <td>https://www.gallito.com.uy/economica-con-terre...</td>\n",
       "    </tr>\n",
       "    <tr>\n",
       "      <th>4</th>\n",
       "      <td>2 Dormitorios en Colon</td>\n",
       "      <td>U$S 45.000</td>\n",
       "      <td>50.0</td>\n",
       "      <td>https://www.gallito.com.uy/oficina-sosa-proxim...</td>\n",
       "    </tr>\n",
       "  </tbody>\n",
       "</table>\n",
       "</div>"
      ],
      "text/plain": [
       "                              desc       valor  metraje  \\\n",
       "0     3 Dormitorios en Aires Puros  $U 190.000    110.0   \n",
       "1           3 Dormitorios en Prado  U$S 15.500    100.0   \n",
       "2  3 Dormitorios en Villa Española  U$S 38.000    150.0   \n",
       "3         2 Dormitorios en La Teja  U$S 39.900     60.0   \n",
       "4           2 Dormitorios en Colon  U$S 45.000     50.0   \n",
       "\n",
       "                                                 url  \n",
       "0  https://www.gallito.com.uy/excelente-garaje-2-...  \n",
       "1  https://www.gallito.com.uy/gran-oportunidad-in...  \n",
       "2  https://www.gallito.com.uy/casa-3-dormitorios-...  \n",
       "3  https://www.gallito.com.uy/economica-con-terre...  \n",
       "4  https://www.gallito.com.uy/oficina-sosa-proxim...  "
      ]
     },
     "execution_count": 2,
     "metadata": {},
     "output_type": "execute_result"
    }
   ],
   "source": [
    "data = pd.read_csv('data/ventas_mvdeo_2022-08-03.csv')\n",
    "data.head()"
   ]
  },
  {
   "cell_type": "code",
   "execution_count": 4,
   "metadata": {},
   "outputs": [
    {
     "data": {
      "text/plain": [
       "15"
      ]
     },
     "execution_count": 4,
     "metadata": {},
     "output_type": "execute_result"
    }
   ],
   "source": [
    "threads = 15\n",
    "\n",
    "urls = np.array_split(list(data.url.values), threads)\n",
    "\n",
    "len(urls)"
   ]
  },
  {
   "cell_type": "code",
   "execution_count": 5,
   "metadata": {},
   "outputs": [],
   "source": [
    "all_r = []\n",
    "\n",
    "with ThreadPoolExecutor(threads) as executor:\n",
    "    for result in executor.map(scrap_latlng, urls):\n",
    "        all_r.append(result)"
   ]
  },
  {
   "cell_type": "code",
   "execution_count": 6,
   "metadata": {},
   "outputs": [],
   "source": [
    "coords = flatten(all_r)"
   ]
  },
  {
   "cell_type": "markdown",
   "metadata": {},
   "source": [
    "### Guarda las coordenadas"
   ]
  },
  {
   "cell_type": "code",
   "execution_count": 19,
   "metadata": {},
   "outputs": [
    {
     "data": {
      "text/html": [
       "<div>\n",
       "<style scoped>\n",
       "    .dataframe tbody tr th:only-of-type {\n",
       "        vertical-align: middle;\n",
       "    }\n",
       "\n",
       "    .dataframe tbody tr th {\n",
       "        vertical-align: top;\n",
       "    }\n",
       "\n",
       "    .dataframe thead th {\n",
       "        text-align: right;\n",
       "    }\n",
       "</style>\n",
       "<table border=\"1\" class=\"dataframe\">\n",
       "  <thead>\n",
       "    <tr style=\"text-align: right;\">\n",
       "      <th></th>\n",
       "      <th>desc</th>\n",
       "      <th>valor</th>\n",
       "      <th>metraje</th>\n",
       "      <th>url</th>\n",
       "    </tr>\n",
       "  </thead>\n",
       "  <tbody>\n",
       "    <tr>\n",
       "      <th>0</th>\n",
       "      <td>3 Dormitorios en Aires Puros</td>\n",
       "      <td>$U 190.000</td>\n",
       "      <td>110.0</td>\n",
       "      <td>https://www.gallito.com.uy/excelente-garaje-2-...</td>\n",
       "    </tr>\n",
       "    <tr>\n",
       "      <th>1</th>\n",
       "      <td>3 Dormitorios en Prado</td>\n",
       "      <td>U$S 15.500</td>\n",
       "      <td>100.0</td>\n",
       "      <td>https://www.gallito.com.uy/gran-oportunidad-in...</td>\n",
       "    </tr>\n",
       "    <tr>\n",
       "      <th>2</th>\n",
       "      <td>3 Dormitorios en Villa Española</td>\n",
       "      <td>U$S 38.000</td>\n",
       "      <td>150.0</td>\n",
       "      <td>https://www.gallito.com.uy/casa-3-dormitorios-...</td>\n",
       "    </tr>\n",
       "    <tr>\n",
       "      <th>3</th>\n",
       "      <td>2 Dormitorios en La Teja</td>\n",
       "      <td>U$S 39.900</td>\n",
       "      <td>60.0</td>\n",
       "      <td>https://www.gallito.com.uy/economica-con-terre...</td>\n",
       "    </tr>\n",
       "    <tr>\n",
       "      <th>4</th>\n",
       "      <td>2 Dormitorios en Colon</td>\n",
       "      <td>U$S 45.000</td>\n",
       "      <td>50.0</td>\n",
       "      <td>https://www.gallito.com.uy/oficina-sosa-proxim...</td>\n",
       "    </tr>\n",
       "  </tbody>\n",
       "</table>\n",
       "</div>"
      ],
      "text/plain": [
       "                              desc       valor  metraje  \\\n",
       "0     3 Dormitorios en Aires Puros  $U 190.000    110.0   \n",
       "1           3 Dormitorios en Prado  U$S 15.500    100.0   \n",
       "2  3 Dormitorios en Villa Española  U$S 38.000    150.0   \n",
       "3         2 Dormitorios en La Teja  U$S 39.900     60.0   \n",
       "4           2 Dormitorios en Colon  U$S 45.000     50.0   \n",
       "\n",
       "                                                 url  \n",
       "0  https://www.gallito.com.uy/excelente-garaje-2-...  \n",
       "1  https://www.gallito.com.uy/gran-oportunidad-in...  \n",
       "2  https://www.gallito.com.uy/casa-3-dormitorios-...  \n",
       "3  https://www.gallito.com.uy/economica-con-terre...  \n",
       "4  https://www.gallito.com.uy/oficina-sosa-proxim...  "
      ]
     },
     "execution_count": 19,
     "metadata": {},
     "output_type": "execute_result"
    }
   ],
   "source": [
    "data = pd.read_csv('data/ventas_mvdeo_2022-08-03.csv')\n",
    "data.head()"
   ]
  },
  {
   "cell_type": "code",
   "execution_count": 20,
   "metadata": {},
   "outputs": [
    {
     "data": {
      "text/plain": [
       "168"
      ]
     },
     "execution_count": 20,
     "metadata": {},
     "output_type": "execute_result"
    }
   ],
   "source": [
    "r = [i=='Nan,Nan' for i in coords]\n",
    "sum(r)"
   ]
  },
  {
   "cell_type": "code",
   "execution_count": 25,
   "metadata": {},
   "outputs": [],
   "source": [
    "coords_splitted = [i.split(',') for i in coords]\n",
    "data[['lat', 'lng']] = coords_splitted"
   ]
  },
  {
   "cell_type": "code",
   "execution_count": 26,
   "metadata": {},
   "outputs": [],
   "source": [
    "data['lat'] = data['lat'].astype(float).round(5)\n",
    "data['lng'] = data['lng'].astype(float).round(5)"
   ]
  },
  {
   "cell_type": "code",
   "execution_count": 27,
   "metadata": {},
   "outputs": [
    {
     "data": {
      "text/html": [
       "<div>\n",
       "<style scoped>\n",
       "    .dataframe tbody tr th:only-of-type {\n",
       "        vertical-align: middle;\n",
       "    }\n",
       "\n",
       "    .dataframe tbody tr th {\n",
       "        vertical-align: top;\n",
       "    }\n",
       "\n",
       "    .dataframe thead th {\n",
       "        text-align: right;\n",
       "    }\n",
       "</style>\n",
       "<table border=\"1\" class=\"dataframe\">\n",
       "  <thead>\n",
       "    <tr style=\"text-align: right;\">\n",
       "      <th></th>\n",
       "      <th>desc</th>\n",
       "      <th>valor</th>\n",
       "      <th>metraje</th>\n",
       "      <th>url</th>\n",
       "      <th>lat</th>\n",
       "      <th>lng</th>\n",
       "    </tr>\n",
       "  </thead>\n",
       "  <tbody>\n",
       "    <tr>\n",
       "      <th>0</th>\n",
       "      <td>3 Dormitorios en Aires Puros</td>\n",
       "      <td>$U 190.000</td>\n",
       "      <td>110.0</td>\n",
       "      <td>https://www.gallito.com.uy/excelente-garaje-2-...</td>\n",
       "      <td>NaN</td>\n",
       "      <td>NaN</td>\n",
       "    </tr>\n",
       "    <tr>\n",
       "      <th>1</th>\n",
       "      <td>3 Dormitorios en Prado</td>\n",
       "      <td>U$S 15.500</td>\n",
       "      <td>100.0</td>\n",
       "      <td>https://www.gallito.com.uy/gran-oportunidad-in...</td>\n",
       "      <td>-34.85913</td>\n",
       "      <td>-56.20633</td>\n",
       "    </tr>\n",
       "    <tr>\n",
       "      <th>2</th>\n",
       "      <td>3 Dormitorios en Villa Española</td>\n",
       "      <td>U$S 38.000</td>\n",
       "      <td>150.0</td>\n",
       "      <td>https://www.gallito.com.uy/casa-3-dormitorios-...</td>\n",
       "      <td>-34.86785</td>\n",
       "      <td>-56.14285</td>\n",
       "    </tr>\n",
       "    <tr>\n",
       "      <th>3</th>\n",
       "      <td>2 Dormitorios en La Teja</td>\n",
       "      <td>U$S 39.900</td>\n",
       "      <td>60.0</td>\n",
       "      <td>https://www.gallito.com.uy/economica-con-terre...</td>\n",
       "      <td>-34.85720</td>\n",
       "      <td>-56.24105</td>\n",
       "    </tr>\n",
       "    <tr>\n",
       "      <th>4</th>\n",
       "      <td>2 Dormitorios en Colon</td>\n",
       "      <td>U$S 45.000</td>\n",
       "      <td>50.0</td>\n",
       "      <td>https://www.gallito.com.uy/oficina-sosa-proxim...</td>\n",
       "      <td>-34.80505</td>\n",
       "      <td>-56.23007</td>\n",
       "    </tr>\n",
       "    <tr>\n",
       "      <th>5</th>\n",
       "      <td>4 Dormitorios en Cerrito</td>\n",
       "      <td>U$S 45.000</td>\n",
       "      <td>97.0</td>\n",
       "      <td>https://www.gallito.com.uy/oportunidad-casa-de...</td>\n",
       "      <td>-34.85944</td>\n",
       "      <td>-56.15642</td>\n",
       "    </tr>\n",
       "    <tr>\n",
       "      <th>6</th>\n",
       "      <td>1 Dormitorio en Villa Española</td>\n",
       "      <td>U$S 48.000</td>\n",
       "      <td>39.0</td>\n",
       "      <td>https://www.gallito.com.uy/oficina-sosa-apto-1...</td>\n",
       "      <td>-32.87555</td>\n",
       "      <td>-56.02015</td>\n",
       "    </tr>\n",
       "    <tr>\n",
       "      <th>7</th>\n",
       "      <td>2 Dormitorios en La Teja</td>\n",
       "      <td>U$S 48.000</td>\n",
       "      <td>50.0</td>\n",
       "      <td>https://www.gallito.com.uy/casa-a-1-cuadra-de-...</td>\n",
       "      <td>-34.86604</td>\n",
       "      <td>-56.23782</td>\n",
       "    </tr>\n",
       "  </tbody>\n",
       "</table>\n",
       "</div>"
      ],
      "text/plain": [
       "                              desc       valor  metraje  \\\n",
       "0     3 Dormitorios en Aires Puros  $U 190.000    110.0   \n",
       "1           3 Dormitorios en Prado  U$S 15.500    100.0   \n",
       "2  3 Dormitorios en Villa Española  U$S 38.000    150.0   \n",
       "3         2 Dormitorios en La Teja  U$S 39.900     60.0   \n",
       "4           2 Dormitorios en Colon  U$S 45.000     50.0   \n",
       "5         4 Dormitorios en Cerrito  U$S 45.000     97.0   \n",
       "6   1 Dormitorio en Villa Española  U$S 48.000     39.0   \n",
       "7         2 Dormitorios en La Teja  U$S 48.000     50.0   \n",
       "\n",
       "                                                 url       lat       lng  \n",
       "0  https://www.gallito.com.uy/excelente-garaje-2-...       NaN       NaN  \n",
       "1  https://www.gallito.com.uy/gran-oportunidad-in... -34.85913 -56.20633  \n",
       "2  https://www.gallito.com.uy/casa-3-dormitorios-... -34.86785 -56.14285  \n",
       "3  https://www.gallito.com.uy/economica-con-terre... -34.85720 -56.24105  \n",
       "4  https://www.gallito.com.uy/oficina-sosa-proxim... -34.80505 -56.23007  \n",
       "5  https://www.gallito.com.uy/oportunidad-casa-de... -34.85944 -56.15642  \n",
       "6  https://www.gallito.com.uy/oficina-sosa-apto-1... -32.87555 -56.02015  \n",
       "7  https://www.gallito.com.uy/casa-a-1-cuadra-de-... -34.86604 -56.23782  "
      ]
     },
     "execution_count": 27,
     "metadata": {},
     "output_type": "execute_result"
    }
   ],
   "source": [
    "data.head(8)"
   ]
  },
  {
   "cell_type": "code",
   "execution_count": 28,
   "metadata": {},
   "outputs": [],
   "source": [
    "# limpieza\n",
    "data['valor'].str.replace('U', '')\n",
    "\n",
    "for word, rep in {\"U\":\" \", \"S\":\"\", \"$\":\"\", \".\":\"\"}.items():\n",
    "    data['valor'] = data['valor'].str.replace(word, rep, regex=False)"
   ]
  },
  {
   "cell_type": "code",
   "execution_count": 29,
   "metadata": {},
   "outputs": [],
   "source": [
    "data['valor'] = data['valor'].astype(int)"
   ]
  },
  {
   "cell_type": "code",
   "execution_count": 30,
   "metadata": {},
   "outputs": [
    {
     "data": {
      "text/html": [
       "<div>\n",
       "<style scoped>\n",
       "    .dataframe tbody tr th:only-of-type {\n",
       "        vertical-align: middle;\n",
       "    }\n",
       "\n",
       "    .dataframe tbody tr th {\n",
       "        vertical-align: top;\n",
       "    }\n",
       "\n",
       "    .dataframe thead th {\n",
       "        text-align: right;\n",
       "    }\n",
       "</style>\n",
       "<table border=\"1\" class=\"dataframe\">\n",
       "  <thead>\n",
       "    <tr style=\"text-align: right;\">\n",
       "      <th></th>\n",
       "      <th>desc</th>\n",
       "      <th>valor</th>\n",
       "      <th>metraje</th>\n",
       "      <th>url</th>\n",
       "      <th>lat</th>\n",
       "      <th>lng</th>\n",
       "    </tr>\n",
       "  </thead>\n",
       "  <tbody>\n",
       "    <tr>\n",
       "      <th>0</th>\n",
       "      <td>3 Dormitorios en Aires Puros</td>\n",
       "      <td>190000</td>\n",
       "      <td>110.0</td>\n",
       "      <td>https://www.gallito.com.uy/excelente-garaje-2-...</td>\n",
       "      <td>NaN</td>\n",
       "      <td>NaN</td>\n",
       "    </tr>\n",
       "    <tr>\n",
       "      <th>4</th>\n",
       "      <td>2 Dormitorios en Colon</td>\n",
       "      <td>45000</td>\n",
       "      <td>50.0</td>\n",
       "      <td>https://www.gallito.com.uy/oficina-sosa-proxim...</td>\n",
       "      <td>-34.80505</td>\n",
       "      <td>-56.23007</td>\n",
       "    </tr>\n",
       "    <tr>\n",
       "      <th>5</th>\n",
       "      <td>4 Dormitorios en Cerrito</td>\n",
       "      <td>45000</td>\n",
       "      <td>97.0</td>\n",
       "      <td>https://www.gallito.com.uy/oportunidad-casa-de...</td>\n",
       "      <td>-34.85944</td>\n",
       "      <td>-56.15642</td>\n",
       "    </tr>\n",
       "    <tr>\n",
       "      <th>6</th>\n",
       "      <td>1 Dormitorio en Villa Española</td>\n",
       "      <td>48000</td>\n",
       "      <td>39.0</td>\n",
       "      <td>https://www.gallito.com.uy/oficina-sosa-apto-1...</td>\n",
       "      <td>-32.87555</td>\n",
       "      <td>-56.02015</td>\n",
       "    </tr>\n",
       "    <tr>\n",
       "      <th>7</th>\n",
       "      <td>2 Dormitorios en La Teja</td>\n",
       "      <td>48000</td>\n",
       "      <td>50.0</td>\n",
       "      <td>https://www.gallito.com.uy/casa-a-1-cuadra-de-...</td>\n",
       "      <td>-34.86604</td>\n",
       "      <td>-56.23782</td>\n",
       "    </tr>\n",
       "  </tbody>\n",
       "</table>\n",
       "</div>"
      ],
      "text/plain": [
       "                             desc   valor  metraje  \\\n",
       "0    3 Dormitorios en Aires Puros  190000    110.0   \n",
       "4          2 Dormitorios en Colon   45000     50.0   \n",
       "5        4 Dormitorios en Cerrito   45000     97.0   \n",
       "6  1 Dormitorio en Villa Española   48000     39.0   \n",
       "7        2 Dormitorios en La Teja   48000     50.0   \n",
       "\n",
       "                                                 url       lat       lng  \n",
       "0  https://www.gallito.com.uy/excelente-garaje-2-...       NaN       NaN  \n",
       "4  https://www.gallito.com.uy/oficina-sosa-proxim... -34.80505 -56.23007  \n",
       "5  https://www.gallito.com.uy/oportunidad-casa-de... -34.85944 -56.15642  \n",
       "6  https://www.gallito.com.uy/oficina-sosa-apto-1... -32.87555 -56.02015  \n",
       "7  https://www.gallito.com.uy/casa-a-1-cuadra-de-... -34.86604 -56.23782  "
      ]
     },
     "execution_count": 30,
     "metadata": {},
     "output_type": "execute_result"
    }
   ],
   "source": [
    "data = data.loc[~((data.valor == 111111111) | (data.valor < 45000))]\n",
    "data.head()"
   ]
  },
  {
   "cell_type": "code",
   "execution_count": 31,
   "metadata": {},
   "outputs": [
    {
     "name": "stderr",
     "output_type": "stream",
     "text": [
      "c:\\Users\\59898\\anaconda3\\envs\\scrap\\lib\\site-packages\\pandas\\core\\frame.py:3641: SettingWithCopyWarning: \n",
      "A value is trying to be set on a copy of a slice from a DataFrame.\n",
      "Try using .loc[row_indexer,col_indexer] = value instead\n",
      "\n",
      "See the caveats in the documentation: https://pandas.pydata.org/pandas-docs/stable/user_guide/indexing.html#returning-a-view-versus-a-copy\n",
      "  self[k1] = value[k2]\n"
     ]
    }
   ],
   "source": [
    "data[['dormitorios', 'barrio']] = data['desc'].str.split(' en ', n = 1, expand = True)"
   ]
  },
  {
   "cell_type": "code",
   "execution_count": 32,
   "metadata": {},
   "outputs": [
    {
     "name": "stderr",
     "output_type": "stream",
     "text": [
      "c:\\Users\\59898\\anaconda3\\envs\\scrap\\lib\\site-packages\\ipykernel_launcher.py:1: SettingWithCopyWarning: \n",
      "A value is trying to be set on a copy of a slice from a DataFrame.\n",
      "Try using .loc[row_indexer,col_indexer] = value instead\n",
      "\n",
      "See the caveats in the documentation: https://pandas.pydata.org/pandas-docs/stable/user_guide/indexing.html#returning-a-view-versus-a-copy\n",
      "  \"\"\"Entry point for launching an IPython kernel.\n"
     ]
    }
   ],
   "source": [
    "data['barrio_ine'] = data['barrio']"
   ]
  },
  {
   "cell_type": "code",
   "execution_count": 34,
   "metadata": {},
   "outputs": [
    {
     "name": "stderr",
     "output_type": "stream",
     "text": [
      "c:\\Users\\59898\\anaconda3\\envs\\scrap\\lib\\site-packages\\ipykernel_launcher.py:1: SettingWithCopyWarning: \n",
      "A value is trying to be set on a copy of a slice from a DataFrame.\n",
      "Try using .loc[row_indexer,col_indexer] = value instead\n",
      "\n",
      "See the caveats in the documentation: https://pandas.pydata.org/pandas-docs/stable/user_guide/indexing.html#returning-a-view-versus-a-copy\n",
      "  \"\"\"Entry point for launching an IPython kernel.\n"
     ]
    }
   ],
   "source": [
    "data['barrio_ine'] = format_barrio(data, 'barrio')"
   ]
  },
  {
   "cell_type": "code",
   "execution_count": 36,
   "metadata": {},
   "outputs": [
    {
     "name": "stderr",
     "output_type": "stream",
     "text": [
      "c:\\Users\\59898\\anaconda3\\envs\\scrap\\lib\\site-packages\\ipykernel_launcher.py:1: SettingWithCopyWarning: \n",
      "A value is trying to be set on a copy of a slice from a DataFrame.\n",
      "Try using .loc[row_indexer,col_indexer] = value instead\n",
      "\n",
      "See the caveats in the documentation: https://pandas.pydata.org/pandas-docs/stable/user_guide/indexing.html#returning-a-view-versus-a-copy\n",
      "  \"\"\"Entry point for launching an IPython kernel.\n"
     ]
    }
   ],
   "source": [
    "data['cod_barrio_ine'] = encode_barrio(data, 'barrio_ine')"
   ]
  },
  {
   "cell_type": "code",
   "execution_count": 37,
   "metadata": {},
   "outputs": [],
   "source": [
    "data.to_csv('data/ventas_mvdeo_2022-08-03_depurado.csv', index=False)"
   ]
  },
  {
   "cell_type": "code",
   "execution_count": 38,
   "metadata": {},
   "outputs": [],
   "source": [
    "data = data.loc[(data.metraje > 10) & (data.metraje < 4000) & (~data.metraje.isna())]\n",
    "\n",
    "data['metraje'] = data['metraje'].astype(int)\n",
    "\n",
    "data['valor_metro'] = data['valor'] / data['metraje']\n",
    "\n",
    "agru = data.groupby('cod_barrio_ine').median('valor_metro').reset_index()\n",
    "\n",
    "agru['cod_barrio_ine'] = agru['cod_barrio_ine'].astype(int)\n",
    "\n",
    "agru.to_csv('data/datos_agrupados_2022-08-03.csv', index=False)"
   ]
  }
 ],
 "metadata": {
  "kernelspec": {
   "display_name": "Python 3.7.11 ('scrap')",
   "language": "python",
   "name": "python3"
  },
  "language_info": {
   "codemirror_mode": {
    "name": "ipython",
    "version": 3
   },
   "file_extension": ".py",
   "mimetype": "text/x-python",
   "name": "python",
   "nbconvert_exporter": "python",
   "pygments_lexer": "ipython3",
   "version": "3.7.11"
  },
  "vscode": {
   "interpreter": {
    "hash": "b13211adf055f5e51f16ccb9f0c577891b7025db867e9d8ecf699b7251e4db0b"
   }
  }
 },
 "nbformat": 4,
 "nbformat_minor": 4
}

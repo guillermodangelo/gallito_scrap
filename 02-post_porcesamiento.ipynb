{
 "cells": [
  {
   "cell_type": "code",
   "execution_count": 1,
   "id": "54f972a6-32d0-49c6-9ff9-f2692742d240",
   "metadata": {},
   "outputs": [],
   "source": [
    "import pandas as pd\n",
    "import geopandas as gpd\n",
    "import numpy as np\n",
    "from geopandas.tools import sjoin\n",
    "import matplotlib.pyplot as plt"
   ]
  },
  {
   "cell_type": "code",
   "execution_count": 2,
   "id": "3e7f68d8-fb98-483e-ab69-038001c39bbe",
   "metadata": {},
   "outputs": [
    {
     "name": "stdout",
     "output_type": "stream",
     "text": [
      "(4304, 11)\n"
     ]
    },
    {
     "data": {
      "text/html": [
       "<div>\n",
       "<style scoped>\n",
       "    .dataframe tbody tr th:only-of-type {\n",
       "        vertical-align: middle;\n",
       "    }\n",
       "\n",
       "    .dataframe tbody tr th {\n",
       "        vertical-align: top;\n",
       "    }\n",
       "\n",
       "    .dataframe thead th {\n",
       "        text-align: right;\n",
       "    }\n",
       "</style>\n",
       "<table border=\"1\" class=\"dataframe\">\n",
       "  <thead>\n",
       "    <tr style=\"text-align: right;\">\n",
       "      <th></th>\n",
       "      <th>desc</th>\n",
       "      <th>valor</th>\n",
       "      <th>metraje</th>\n",
       "      <th>url</th>\n",
       "      <th>lat</th>\n",
       "      <th>lng</th>\n",
       "      <th>dormitorios</th>\n",
       "      <th>barrio</th>\n",
       "      <th>barrio_ine</th>\n",
       "      <th>cod_barrio_ine</th>\n",
       "      <th>valor_metro</th>\n",
       "    </tr>\n",
       "  </thead>\n",
       "  <tbody>\n",
       "    <tr>\n",
       "      <th>0</th>\n",
       "      <td>3 Dormitorios en Aires Puros</td>\n",
       "      <td>190000</td>\n",
       "      <td>110.0</td>\n",
       "      <td>https://www.gallito.com.uy/excelente-garaje-2-...</td>\n",
       "      <td>NaN</td>\n",
       "      <td>NaN</td>\n",
       "      <td>3 Dormitorios</td>\n",
       "      <td>Aires Puros</td>\n",
       "      <td>Aires Puros</td>\n",
       "      <td>29.0</td>\n",
       "      <td>1727.272727</td>\n",
       "    </tr>\n",
       "    <tr>\n",
       "      <th>1</th>\n",
       "      <td>3 Dormitorios en Villa Española</td>\n",
       "      <td>38000</td>\n",
       "      <td>150.0</td>\n",
       "      <td>https://www.gallito.com.uy/casa-3-dormitorios-...</td>\n",
       "      <td>-34.86785</td>\n",
       "      <td>-56.14285</td>\n",
       "      <td>3 Dormitorios</td>\n",
       "      <td>Villa Española</td>\n",
       "      <td>Villa Española</td>\n",
       "      <td>24.0</td>\n",
       "      <td>253.333333</td>\n",
       "    </tr>\n",
       "    <tr>\n",
       "      <th>2</th>\n",
       "      <td>2 Dormitorios en La Teja</td>\n",
       "      <td>39900</td>\n",
       "      <td>60.0</td>\n",
       "      <td>https://www.gallito.com.uy/economica-con-terre...</td>\n",
       "      <td>-34.85720</td>\n",
       "      <td>-56.24105</td>\n",
       "      <td>2 Dormitorios</td>\n",
       "      <td>La Teja</td>\n",
       "      <td>La Teja</td>\n",
       "      <td>38.0</td>\n",
       "      <td>665.000000</td>\n",
       "    </tr>\n",
       "    <tr>\n",
       "      <th>3</th>\n",
       "      <td>4 Dormitorios en Cerrito</td>\n",
       "      <td>45000</td>\n",
       "      <td>97.0</td>\n",
       "      <td>https://www.gallito.com.uy/oportunidad-casa-de...</td>\n",
       "      <td>-34.85944</td>\n",
       "      <td>-56.15642</td>\n",
       "      <td>4 Dormitorios</td>\n",
       "      <td>Cerrito</td>\n",
       "      <td>Cerrito</td>\n",
       "      <td>27.0</td>\n",
       "      <td>463.917526</td>\n",
       "    </tr>\n",
       "    <tr>\n",
       "      <th>4</th>\n",
       "      <td>2 Dormitorios en Colon</td>\n",
       "      <td>45000</td>\n",
       "      <td>50.0</td>\n",
       "      <td>https://www.gallito.com.uy/oficina-sosa-proxim...</td>\n",
       "      <td>-34.80505</td>\n",
       "      <td>-56.23007</td>\n",
       "      <td>2 Dormitorios</td>\n",
       "      <td>Colon</td>\n",
       "      <td>Colón Sureste, Abayubá</td>\n",
       "      <td>58.0</td>\n",
       "      <td>900.000000</td>\n",
       "    </tr>\n",
       "  </tbody>\n",
       "</table>\n",
       "</div>"
      ],
      "text/plain": [
       "                              desc   valor  metraje  \\\n",
       "0     3 Dormitorios en Aires Puros  190000    110.0   \n",
       "1  3 Dormitorios en Villa Española   38000    150.0   \n",
       "2         2 Dormitorios en La Teja   39900     60.0   \n",
       "3         4 Dormitorios en Cerrito   45000     97.0   \n",
       "4           2 Dormitorios en Colon   45000     50.0   \n",
       "\n",
       "                                                 url       lat       lng  \\\n",
       "0  https://www.gallito.com.uy/excelente-garaje-2-...       NaN       NaN   \n",
       "1  https://www.gallito.com.uy/casa-3-dormitorios-... -34.86785 -56.14285   \n",
       "2  https://www.gallito.com.uy/economica-con-terre... -34.85720 -56.24105   \n",
       "3  https://www.gallito.com.uy/oportunidad-casa-de... -34.85944 -56.15642   \n",
       "4  https://www.gallito.com.uy/oficina-sosa-proxim... -34.80505 -56.23007   \n",
       "\n",
       "     dormitorios          barrio              barrio_ine  cod_barrio_ine  \\\n",
       "0  3 Dormitorios     Aires Puros             Aires Puros            29.0   \n",
       "1  3 Dormitorios  Villa Española          Villa Española            24.0   \n",
       "2  2 Dormitorios         La Teja                 La Teja            38.0   \n",
       "3  4 Dormitorios         Cerrito                 Cerrito            27.0   \n",
       "4  2 Dormitorios           Colon  Colón Sureste, Abayubá            58.0   \n",
       "\n",
       "   valor_metro  \n",
       "0  1727.272727  \n",
       "1   253.333333  \n",
       "2   665.000000  \n",
       "3   463.917526  \n",
       "4   900.000000  "
      ]
     },
     "execution_count": 2,
     "metadata": {},
     "output_type": "execute_result"
    }
   ],
   "source": [
    "fecha = '2022-08-04'\n",
    "data = pd.read_csv(f'data/ventas_mvdeo_{fecha}_depurado.csv')\n",
    "print(data.shape)\n",
    "data.head()"
   ]
  },
  {
   "cell_type": "code",
   "execution_count": 3,
   "id": "f057770a-e749-425b-b946-b7413c04f88d",
   "metadata": {},
   "outputs": [
    {
     "name": "stdout",
     "output_type": "stream",
     "text": [
      "Sin coordenadas: 1150\n"
     ]
    }
   ],
   "source": [
    "print('Sin coordenadas:', sum(data.lat.isna()))"
   ]
  },
  {
   "cell_type": "code",
   "execution_count": 4,
   "id": "ea3de0fc-f4e6-4028-9b3a-c0a018161f34",
   "metadata": {},
   "outputs": [
    {
     "data": {
      "text/html": [
       "<div>\n",
       "<style scoped>\n",
       "    .dataframe tbody tr th:only-of-type {\n",
       "        vertical-align: middle;\n",
       "    }\n",
       "\n",
       "    .dataframe tbody tr th {\n",
       "        vertical-align: top;\n",
       "    }\n",
       "\n",
       "    .dataframe thead th {\n",
       "        text-align: right;\n",
       "    }\n",
       "</style>\n",
       "<table border=\"1\" class=\"dataframe\">\n",
       "  <thead>\n",
       "    <tr style=\"text-align: right;\">\n",
       "      <th></th>\n",
       "      <th>desc</th>\n",
       "      <th>valor</th>\n",
       "      <th>metraje</th>\n",
       "      <th>url</th>\n",
       "      <th>lat</th>\n",
       "      <th>lng</th>\n",
       "      <th>dormitorios</th>\n",
       "      <th>barrio</th>\n",
       "      <th>barrio_ine</th>\n",
       "      <th>cod_barrio_ine</th>\n",
       "      <th>valor_metro</th>\n",
       "      <th>geometry</th>\n",
       "    </tr>\n",
       "  </thead>\n",
       "  <tbody>\n",
       "    <tr>\n",
       "      <th>0</th>\n",
       "      <td>3 Dormitorios en Aires Puros</td>\n",
       "      <td>190000</td>\n",
       "      <td>110.0</td>\n",
       "      <td>https://www.gallito.com.uy/excelente-garaje-2-...</td>\n",
       "      <td>NaN</td>\n",
       "      <td>NaN</td>\n",
       "      <td>3 Dormitorios</td>\n",
       "      <td>Aires Puros</td>\n",
       "      <td>Aires Puros</td>\n",
       "      <td>29.0</td>\n",
       "      <td>1727.272727</td>\n",
       "      <td>POINT EMPTY</td>\n",
       "    </tr>\n",
       "    <tr>\n",
       "      <th>1</th>\n",
       "      <td>3 Dormitorios en Villa Española</td>\n",
       "      <td>38000</td>\n",
       "      <td>150.0</td>\n",
       "      <td>https://www.gallito.com.uy/casa-3-dormitorios-...</td>\n",
       "      <td>-34.86785</td>\n",
       "      <td>-56.14285</td>\n",
       "      <td>3 Dormitorios</td>\n",
       "      <td>Villa Española</td>\n",
       "      <td>Villa Española</td>\n",
       "      <td>24.0</td>\n",
       "      <td>253.333333</td>\n",
       "      <td>POINT (578342.918 6141276.681)</td>\n",
       "    </tr>\n",
       "  </tbody>\n",
       "</table>\n",
       "</div>"
      ],
      "text/plain": [
       "                              desc   valor  metraje  \\\n",
       "0     3 Dormitorios en Aires Puros  190000    110.0   \n",
       "1  3 Dormitorios en Villa Española   38000    150.0   \n",
       "\n",
       "                                                 url       lat       lng  \\\n",
       "0  https://www.gallito.com.uy/excelente-garaje-2-...       NaN       NaN   \n",
       "1  https://www.gallito.com.uy/casa-3-dormitorios-... -34.86785 -56.14285   \n",
       "\n",
       "     dormitorios          barrio      barrio_ine  cod_barrio_ine  valor_metro  \\\n",
       "0  3 Dormitorios     Aires Puros     Aires Puros            29.0  1727.272727   \n",
       "1  3 Dormitorios  Villa Española  Villa Española            24.0   253.333333   \n",
       "\n",
       "                         geometry  \n",
       "0                     POINT EMPTY  \n",
       "1  POINT (578342.918 6141276.681)  "
      ]
     },
     "execution_count": 4,
     "metadata": {},
     "output_type": "execute_result"
    }
   ],
   "source": [
    "geodata = gpd.GeoDataFrame(data, geometry=gpd.points_from_xy(data.lng, data.lat), crs=4326).to_crs(32721)\n",
    "\n",
    "geodata['valor_metro'] = geodata.valor / geodata.metraje\n",
    "\n",
    "geodata.head(2)"
   ]
  },
  {
   "cell_type": "code",
   "execution_count": 5,
   "id": "f7c31aee",
   "metadata": {},
   "outputs": [
    {
     "data": {
      "image/png": "[encoded data removed]",
      "text/plain": [
       "<Figure size 432x288 with 1 Axes>"
      ]
     },
     "metadata": {
      "needs_background": "light"
     },
     "output_type": "display_data"
    }
   ],
   "source": [
    "plt.hist(geodata['valor_metro'], bins='auto')\n",
    "\n",
    "plt.show()"
   ]
  },
  {
   "cell_type": "code",
   "execution_count": 6,
   "id": "7b55fae6",
   "metadata": {},
   "outputs": [
    {
     "data": {
      "text/plain": [
       "count    4.304000e+03\n",
       "mean     2.619226e+05\n",
       "std      1.827638e+05\n",
       "min      3.000000e+04\n",
       "5%       7.000000e+04\n",
       "50%      1.990000e+05\n",
       "95%      6.398500e+05\n",
       "max      1.500000e+06\n",
       "Name: valor, dtype: float64"
      ]
     },
     "execution_count": 6,
     "metadata": {},
     "output_type": "execute_result"
    }
   ],
   "source": [
    "geodata['valor'].describe(percentiles=[.05, .5, .95])"
   ]
  },
  {
   "cell_type": "code",
   "execution_count": 7,
   "id": "464b59ff",
   "metadata": {},
   "outputs": [
    {
     "data": {
      "text/plain": [
       "count    4304.000000\n",
       "mean      173.317612\n",
       "std       132.487442\n",
       "min        20.000000\n",
       "5%         55.000000\n",
       "50%       137.000000\n",
       "95%       411.700000\n",
       "max      1599.000000\n",
       "Name: metraje, dtype: float64"
      ]
     },
     "execution_count": 7,
     "metadata": {},
     "output_type": "execute_result"
    }
   ],
   "source": [
    "geodata['metraje'].describe(percentiles=[.05, .5, .95])"
   ]
  },
  {
   "cell_type": "code",
   "execution_count": 8,
   "id": "20c21c13",
   "metadata": {},
   "outputs": [
    {
     "data": {
      "text/plain": [
       "count    4304.000000\n",
       "mean      173.317612\n",
       "std       132.487442\n",
       "min        20.000000\n",
       "5%         55.000000\n",
       "50%       137.000000\n",
       "95%       411.700000\n",
       "max      1599.000000\n",
       "Name: metraje, dtype: float64"
      ]
     },
     "execution_count": 8,
     "metadata": {},
     "output_type": "execute_result"
    }
   ],
   "source": [
    "geodata['metraje'].describe(percentiles=[.05, .5, .95])"
   ]
  },
  {
   "cell_type": "code",
   "execution_count": 9,
   "id": "f9879521",
   "metadata": {},
   "outputs": [
    {
     "data": {
      "text/html": [
       "<div>\n",
       "<style scoped>\n",
       "    .dataframe tbody tr th:only-of-type {\n",
       "        vertical-align: middle;\n",
       "    }\n",
       "\n",
       "    .dataframe tbody tr th {\n",
       "        vertical-align: top;\n",
       "    }\n",
       "\n",
       "    .dataframe thead th {\n",
       "        text-align: right;\n",
       "    }\n",
       "</style>\n",
       "<table border=\"1\" class=\"dataframe\">\n",
       "  <thead>\n",
       "    <tr style=\"text-align: right;\">\n",
       "      <th></th>\n",
       "      <th>desc</th>\n",
       "      <th>valor</th>\n",
       "      <th>metraje</th>\n",
       "      <th>url</th>\n",
       "      <th>lat</th>\n",
       "      <th>lng</th>\n",
       "      <th>dormitorios</th>\n",
       "      <th>barrio</th>\n",
       "      <th>barrio_ine</th>\n",
       "      <th>cod_barrio_ine</th>\n",
       "      <th>valor_metro</th>\n",
       "      <th>geometry</th>\n",
       "    </tr>\n",
       "  </thead>\n",
       "  <tbody>\n",
       "  </tbody>\n",
       "</table>\n",
       "</div>"
      ],
      "text/plain": [
       "Empty GeoDataFrame\n",
       "Columns: [desc, valor, metraje, url, lat, lng, dormitorios, barrio, barrio_ine, cod_barrio_ine, valor_metro, geometry]\n",
       "Index: []"
      ]
     },
     "execution_count": 9,
     "metadata": {},
     "output_type": "execute_result"
    }
   ],
   "source": [
    "geodata[geodata['valor_metro'] == 6.000000e+06]"
   ]
  },
  {
   "cell_type": "code",
   "execution_count": 10,
   "id": "c5bcc620",
   "metadata": {},
   "outputs": [
    {
     "data": {
      "text/plain": [
       "1599.0"
      ]
     },
     "execution_count": 10,
     "metadata": {},
     "output_type": "execute_result"
    }
   ],
   "source": [
    "max(geodata.metraje)"
   ]
  },
  {
   "cell_type": "code",
   "execution_count": 11,
   "id": "53cc8a14",
   "metadata": {},
   "outputs": [
    {
     "data": {
      "text/html": [
       "<div>\n",
       "<style scoped>\n",
       "    .dataframe tbody tr th:only-of-type {\n",
       "        vertical-align: middle;\n",
       "    }\n",
       "\n",
       "    .dataframe tbody tr th {\n",
       "        vertical-align: top;\n",
       "    }\n",
       "\n",
       "    .dataframe thead th {\n",
       "        text-align: right;\n",
       "    }\n",
       "</style>\n",
       "<table border=\"1\" class=\"dataframe\">\n",
       "  <thead>\n",
       "    <tr style=\"text-align: right;\">\n",
       "      <th></th>\n",
       "      <th>desc</th>\n",
       "      <th>valor</th>\n",
       "      <th>metraje</th>\n",
       "      <th>url</th>\n",
       "      <th>lat</th>\n",
       "      <th>lng</th>\n",
       "      <th>dormitorios</th>\n",
       "      <th>barrio</th>\n",
       "      <th>barrio_ine</th>\n",
       "      <th>cod_barrio_ine</th>\n",
       "      <th>valor_metro</th>\n",
       "      <th>geometry</th>\n",
       "    </tr>\n",
       "  </thead>\n",
       "  <tbody>\n",
       "  </tbody>\n",
       "</table>\n",
       "</div>"
      ],
      "text/plain": [
       "Empty GeoDataFrame\n",
       "Columns: [desc, valor, metraje, url, lat, lng, dormitorios, barrio, barrio_ine, cod_barrio_ine, valor_metro, geometry]\n",
       "Index: []"
      ]
     },
     "execution_count": 11,
     "metadata": {},
     "output_type": "execute_result"
    }
   ],
   "source": [
    "geodata[geodata['metraje'] > 5000]"
   ]
  },
  {
   "cell_type": "code",
   "execution_count": 12,
   "id": "ef6f556f-c21c-4f0a-a6cb-74817a2343e6",
   "metadata": {},
   "outputs": [
    {
     "data": {
      "text/html": [
       "<div>\n",
       "<style scoped>\n",
       "    .dataframe tbody tr th:only-of-type {\n",
       "        vertical-align: middle;\n",
       "    }\n",
       "\n",
       "    .dataframe tbody tr th {\n",
       "        vertical-align: top;\n",
       "    }\n",
       "\n",
       "    .dataframe thead th {\n",
       "        text-align: right;\n",
       "    }\n",
       "</style>\n",
       "<table border=\"1\" class=\"dataframe\">\n",
       "  <thead>\n",
       "    <tr style=\"text-align: right;\">\n",
       "      <th></th>\n",
       "      <th>area_km</th>\n",
       "      <th>nombbarr</th>\n",
       "      <th>nrobarrio</th>\n",
       "      <th>geometry</th>\n",
       "    </tr>\n",
       "  </thead>\n",
       "  <tbody>\n",
       "    <tr>\n",
       "      <th>0</th>\n",
       "      <td>2.111</td>\n",
       "      <td>CIUDAD VIEJA</td>\n",
       "      <td>1</td>\n",
       "      <td>POLYGON ((573146.276 6137144.661, 573148.256 6...</td>\n",
       "    </tr>\n",
       "    <tr>\n",
       "      <th>1</th>\n",
       "      <td>31.795</td>\n",
       "      <td>COLON SURESTE - ABAYUBA</td>\n",
       "      <td>58</td>\n",
       "      <td>POLYGON ((571329.308 6147787.334, 571320.034 6...</td>\n",
       "    </tr>\n",
       "  </tbody>\n",
       "</table>\n",
       "</div>"
      ],
      "text/plain": [
       "   area_km                 nombbarr  nrobarrio  \\\n",
       "0    2.111             CIUDAD VIEJA          1   \n",
       "1   31.795  COLON SURESTE - ABAYUBA         58   \n",
       "\n",
       "                                            geometry  \n",
       "0  POLYGON ((573146.276 6137144.661, 573148.256 6...  \n",
       "1  POLYGON ((571329.308 6147787.334, 571320.034 6...  "
      ]
     },
     "execution_count": 12,
     "metadata": {},
     "output_type": "execute_result"
    }
   ],
   "source": [
    "barrios = gpd.read_file('capas/barrios_ine_uy.zip').set_crs(32721)\n",
    "barrios.head(2)"
   ]
  },
  {
   "cell_type": "code",
   "execution_count": 13,
   "id": "8c7b252a-6de0-4f9f-a5b7-d3ad5a663139",
   "metadata": {},
   "outputs": [
    {
     "data": {
      "text/html": [
       "<div>\n",
       "<style scoped>\n",
       "    .dataframe tbody tr th:only-of-type {\n",
       "        vertical-align: middle;\n",
       "    }\n",
       "\n",
       "    .dataframe tbody tr th {\n",
       "        vertical-align: top;\n",
       "    }\n",
       "\n",
       "    .dataframe thead th {\n",
       "        text-align: right;\n",
       "    }\n",
       "</style>\n",
       "<table border=\"1\" class=\"dataframe\">\n",
       "  <thead>\n",
       "    <tr style=\"text-align: right;\">\n",
       "      <th></th>\n",
       "      <th>desc</th>\n",
       "      <th>valor</th>\n",
       "      <th>metraje</th>\n",
       "      <th>url</th>\n",
       "      <th>lat</th>\n",
       "      <th>lng</th>\n",
       "      <th>dormitorios</th>\n",
       "      <th>barrio</th>\n",
       "      <th>barrio_ine</th>\n",
       "      <th>cod_barrio_ine</th>\n",
       "      <th>valor_metro</th>\n",
       "      <th>geometry</th>\n",
       "      <th>index_right</th>\n",
       "      <th>nrobarrio</th>\n",
       "    </tr>\n",
       "  </thead>\n",
       "  <tbody>\n",
       "    <tr>\n",
       "      <th>0</th>\n",
       "      <td>3 Dormitorios en Aires Puros</td>\n",
       "      <td>190000</td>\n",
       "      <td>110.0</td>\n",
       "      <td>https://www.gallito.com.uy/excelente-garaje-2-...</td>\n",
       "      <td>NaN</td>\n",
       "      <td>NaN</td>\n",
       "      <td>3 Dormitorios</td>\n",
       "      <td>Aires Puros</td>\n",
       "      <td>Aires Puros</td>\n",
       "      <td>29.0</td>\n",
       "      <td>1727.272727</td>\n",
       "      <td>POINT EMPTY</td>\n",
       "      <td>NaN</td>\n",
       "      <td>NaN</td>\n",
       "    </tr>\n",
       "    <tr>\n",
       "      <th>1</th>\n",
       "      <td>3 Dormitorios en Villa Española</td>\n",
       "      <td>38000</td>\n",
       "      <td>150.0</td>\n",
       "      <td>https://www.gallito.com.uy/casa-3-dormitorios-...</td>\n",
       "      <td>-34.86785</td>\n",
       "      <td>-56.14285</td>\n",
       "      <td>3 Dormitorios</td>\n",
       "      <td>Villa Española</td>\n",
       "      <td>Villa Española</td>\n",
       "      <td>24.0</td>\n",
       "      <td>253.333333</td>\n",
       "      <td>POINT (578342.918 6141276.681)</td>\n",
       "      <td>48.0</td>\n",
       "      <td>24.0</td>\n",
       "    </tr>\n",
       "  </tbody>\n",
       "</table>\n",
       "</div>"
      ],
      "text/plain": [
       "                              desc   valor  metraje  \\\n",
       "0     3 Dormitorios en Aires Puros  190000    110.0   \n",
       "1  3 Dormitorios en Villa Española   38000    150.0   \n",
       "\n",
       "                                                 url       lat       lng  \\\n",
       "0  https://www.gallito.com.uy/excelente-garaje-2-...       NaN       NaN   \n",
       "1  https://www.gallito.com.uy/casa-3-dormitorios-... -34.86785 -56.14285   \n",
       "\n",
       "     dormitorios          barrio      barrio_ine  cod_barrio_ine  valor_metro  \\\n",
       "0  3 Dormitorios     Aires Puros     Aires Puros            29.0  1727.272727   \n",
       "1  3 Dormitorios  Villa Española  Villa Española            24.0   253.333333   \n",
       "\n",
       "                         geometry  index_right  nrobarrio  \n",
       "0                     POINT EMPTY          NaN        NaN  \n",
       "1  POINT (578342.918 6141276.681)         48.0       24.0  "
      ]
     },
     "execution_count": 13,
     "metadata": {},
     "output_type": "execute_result"
    }
   ],
   "source": [
    "pegue = sjoin(geodata, barrios.loc[:,['nrobarrio', 'geometry']], how=\"left\")\n",
    "pegue.head(2)"
   ]
  },
  {
   "cell_type": "code",
   "execution_count": 14,
   "id": "b5658366-5401-4e05-9621-3a252af9a703",
   "metadata": {},
   "outputs": [],
   "source": [
    "pegue.loc[(pegue.barrio != pegue.barrio_ine) & (~pegue.nrobarrio.isna()), 'cod_barrio_ine'] = pegue.nrobarrio"
   ]
  },
  {
   "cell_type": "code",
   "execution_count": 15,
   "id": "3935ed3a-d572-4bba-a2da-e1572e0f0170",
   "metadata": {},
   "outputs": [
    {
     "data": {
      "text/html": [
       "<div>\n",
       "<style scoped>\n",
       "    .dataframe tbody tr th:only-of-type {\n",
       "        vertical-align: middle;\n",
       "    }\n",
       "\n",
       "    .dataframe tbody tr th {\n",
       "        vertical-align: top;\n",
       "    }\n",
       "\n",
       "    .dataframe thead th {\n",
       "        text-align: right;\n",
       "    }\n",
       "</style>\n",
       "<table border=\"1\" class=\"dataframe\">\n",
       "  <thead>\n",
       "    <tr style=\"text-align: right;\">\n",
       "      <th></th>\n",
       "      <th>desc</th>\n",
       "      <th>valor</th>\n",
       "      <th>metraje</th>\n",
       "      <th>url</th>\n",
       "      <th>lat</th>\n",
       "      <th>lng</th>\n",
       "      <th>dormitorios</th>\n",
       "      <th>barrio</th>\n",
       "      <th>barrio_ine</th>\n",
       "      <th>cod_barrio_ine</th>\n",
       "      <th>valor_metro</th>\n",
       "      <th>geometry</th>\n",
       "      <th>index_right</th>\n",
       "      <th>nrobarrio</th>\n",
       "    </tr>\n",
       "  </thead>\n",
       "  <tbody>\n",
       "    <tr>\n",
       "      <th>0</th>\n",
       "      <td>3 Dormitorios en Aires Puros</td>\n",
       "      <td>190000</td>\n",
       "      <td>110.0</td>\n",
       "      <td>https://www.gallito.com.uy/excelente-garaje-2-...</td>\n",
       "      <td>NaN</td>\n",
       "      <td>NaN</td>\n",
       "      <td>3 Dormitorios</td>\n",
       "      <td>Aires Puros</td>\n",
       "      <td>Aires Puros</td>\n",
       "      <td>29.0</td>\n",
       "      <td>1727.272727</td>\n",
       "      <td>POINT EMPTY</td>\n",
       "      <td>NaN</td>\n",
       "      <td>NaN</td>\n",
       "    </tr>\n",
       "    <tr>\n",
       "      <th>1</th>\n",
       "      <td>3 Dormitorios en Villa Española</td>\n",
       "      <td>38000</td>\n",
       "      <td>150.0</td>\n",
       "      <td>https://www.gallito.com.uy/casa-3-dormitorios-...</td>\n",
       "      <td>-34.86785</td>\n",
       "      <td>-56.14285</td>\n",
       "      <td>3 Dormitorios</td>\n",
       "      <td>Villa Española</td>\n",
       "      <td>Villa Española</td>\n",
       "      <td>24.0</td>\n",
       "      <td>253.333333</td>\n",
       "      <td>POINT (578342.918 6141276.681)</td>\n",
       "      <td>48.0</td>\n",
       "      <td>24.0</td>\n",
       "    </tr>\n",
       "  </tbody>\n",
       "</table>\n",
       "</div>"
      ],
      "text/plain": [
       "                              desc   valor  metraje  \\\n",
       "0     3 Dormitorios en Aires Puros  190000    110.0   \n",
       "1  3 Dormitorios en Villa Española   38000    150.0   \n",
       "\n",
       "                                                 url       lat       lng  \\\n",
       "0  https://www.gallito.com.uy/excelente-garaje-2-...       NaN       NaN   \n",
       "1  https://www.gallito.com.uy/casa-3-dormitorios-... -34.86785 -56.14285   \n",
       "\n",
       "     dormitorios          barrio      barrio_ine  cod_barrio_ine  valor_metro  \\\n",
       "0  3 Dormitorios     Aires Puros     Aires Puros            29.0  1727.272727   \n",
       "1  3 Dormitorios  Villa Española  Villa Española            24.0   253.333333   \n",
       "\n",
       "                         geometry  index_right  nrobarrio  \n",
       "0                     POINT EMPTY          NaN        NaN  \n",
       "1  POINT (578342.918 6141276.681)         48.0       24.0  "
      ]
     },
     "execution_count": 15,
     "metadata": {},
     "output_type": "execute_result"
    }
   ],
   "source": [
    "pegue.head(2)"
   ]
  },
  {
   "cell_type": "code",
   "execution_count": 16,
   "id": "d30eb200-b10d-4688-93ff-e35833e7877a",
   "metadata": {},
   "outputs": [
    {
     "data": {
      "text/plain": [
       "(614, 14)"
      ]
     },
     "execution_count": 16,
     "metadata": {},
     "output_type": "execute_result"
    }
   ],
   "source": [
    "raros = pegue.loc[(pegue.cod_barrio_ine != pegue.nrobarrio) & (~pegue.nrobarrio.isna())]\n",
    "raros.shape\n"
   ]
  },
  {
   "cell_type": "code",
   "execution_count": 17,
   "id": "7af15142-3bc5-4692-beda-8d37812124e5",
   "metadata": {},
   "outputs": [],
   "source": [
    "pegue.loc[(pegue.barrio != pegue.barrio_ine) & (~pegue.nrobarrio.isna()), 'cod_barrio_ine'] = pegue.nrobarrio"
   ]
  },
  {
   "cell_type": "code",
   "execution_count": 18,
   "id": "abdd9081-d3df-44a6-9c7d-1f5fbc9886ac",
   "metadata": {},
   "outputs": [
    {
     "data": {
      "text/html": [
       "<div>\n",
       "<style scoped>\n",
       "    .dataframe tbody tr th:only-of-type {\n",
       "        vertical-align: middle;\n",
       "    }\n",
       "\n",
       "    .dataframe tbody tr th {\n",
       "        vertical-align: top;\n",
       "    }\n",
       "\n",
       "    .dataframe thead th {\n",
       "        text-align: right;\n",
       "    }\n",
       "</style>\n",
       "<table border=\"1\" class=\"dataframe\">\n",
       "  <thead>\n",
       "    <tr style=\"text-align: right;\">\n",
       "      <th></th>\n",
       "      <th>cod_barrio_ine</th>\n",
       "      <th>valor</th>\n",
       "      <th>metraje</th>\n",
       "      <th>lat</th>\n",
       "      <th>lng</th>\n",
       "      <th>valor_metro</th>\n",
       "      <th>index_right</th>\n",
       "      <th>nrobarrio</th>\n",
       "    </tr>\n",
       "  </thead>\n",
       "  <tbody>\n",
       "    <tr>\n",
       "      <th>0</th>\n",
       "      <td>1</td>\n",
       "      <td>260000.0</td>\n",
       "      <td>297.5</td>\n",
       "      <td>-34.906680</td>\n",
       "      <td>-56.20565</td>\n",
       "      <td>852.941176</td>\n",
       "      <td>0.0</td>\n",
       "      <td>1.0</td>\n",
       "    </tr>\n",
       "    <tr>\n",
       "      <th>1</th>\n",
       "      <td>2</td>\n",
       "      <td>260000.0</td>\n",
       "      <td>230.0</td>\n",
       "      <td>-34.906040</td>\n",
       "      <td>-56.19027</td>\n",
       "      <td>1074.474566</td>\n",
       "      <td>9.0</td>\n",
       "      <td>2.0</td>\n",
       "    </tr>\n",
       "    <tr>\n",
       "      <th>2</th>\n",
       "      <td>3</td>\n",
       "      <td>170000.0</td>\n",
       "      <td>130.0</td>\n",
       "      <td>-34.910045</td>\n",
       "      <td>-56.18621</td>\n",
       "      <td>1390.000000</td>\n",
       "      <td>10.0</td>\n",
       "      <td>3.0</td>\n",
       "    </tr>\n",
       "    <tr>\n",
       "      <th>3</th>\n",
       "      <td>4</td>\n",
       "      <td>218000.0</td>\n",
       "      <td>150.0</td>\n",
       "      <td>-34.904140</td>\n",
       "      <td>-56.17499</td>\n",
       "      <td>1453.333333</td>\n",
       "      <td>11.0</td>\n",
       "      <td>4.0</td>\n",
       "    </tr>\n",
       "    <tr>\n",
       "      <th>4</th>\n",
       "      <td>5</td>\n",
       "      <td>220000.0</td>\n",
       "      <td>136.0</td>\n",
       "      <td>-34.910510</td>\n",
       "      <td>-56.18043</td>\n",
       "      <td>1478.260870</td>\n",
       "      <td>12.0</td>\n",
       "      <td>5.0</td>\n",
       "    </tr>\n",
       "  </tbody>\n",
       "</table>\n",
       "</div>"
      ],
      "text/plain": [
       "   cod_barrio_ine     valor  metraje        lat       lng  valor_metro  \\\n",
       "0               1  260000.0    297.5 -34.906680 -56.20565   852.941176   \n",
       "1               2  260000.0    230.0 -34.906040 -56.19027  1074.474566   \n",
       "2               3  170000.0    130.0 -34.910045 -56.18621  1390.000000   \n",
       "3               4  218000.0    150.0 -34.904140 -56.17499  1453.333333   \n",
       "4               5  220000.0    136.0 -34.910510 -56.18043  1478.260870   \n",
       "\n",
       "   index_right  nrobarrio  \n",
       "0          0.0        1.0  \n",
       "1          9.0        2.0  \n",
       "2         10.0        3.0  \n",
       "3         11.0        4.0  \n",
       "4         12.0        5.0  "
      ]
     },
     "execution_count": 18,
     "metadata": {},
     "output_type": "execute_result"
    }
   ],
   "source": [
    "agru = pegue.groupby('cod_barrio_ine').median('valor_metro').reset_index()\n",
    "\n",
    "agru['cod_barrio_ine'] = agru['cod_barrio_ine'].astype(int)\n",
    "\n",
    "agru.head()"
   ]
  },
  {
   "cell_type": "code",
   "execution_count": 19,
   "id": "ad51f3b8-3882-42e5-a824-3a2cb4cf3a89",
   "metadata": {},
   "outputs": [
    {
     "data": {
      "text/html": [
       "<div>\n",
       "<style scoped>\n",
       "    .dataframe tbody tr th:only-of-type {\n",
       "        vertical-align: middle;\n",
       "    }\n",
       "\n",
       "    .dataframe tbody tr th {\n",
       "        vertical-align: top;\n",
       "    }\n",
       "\n",
       "    .dataframe thead th {\n",
       "        text-align: right;\n",
       "    }\n",
       "</style>\n",
       "<table border=\"1\" class=\"dataframe\">\n",
       "  <thead>\n",
       "    <tr style=\"text-align: right;\">\n",
       "      <th></th>\n",
       "      <th>area_km</th>\n",
       "      <th>nombbarr</th>\n",
       "      <th>nrobarrio</th>\n",
       "      <th>geometry</th>\n",
       "      <th>cod_barrio_ine</th>\n",
       "      <th>valor_metro</th>\n",
       "    </tr>\n",
       "  </thead>\n",
       "  <tbody>\n",
       "    <tr>\n",
       "      <th>0</th>\n",
       "      <td>2.111</td>\n",
       "      <td>CIUDAD VIEJA</td>\n",
       "      <td>1</td>\n",
       "      <td>POLYGON ((573146.276 6137144.661, 573148.256 6...</td>\n",
       "      <td>1.0</td>\n",
       "      <td>852.941176</td>\n",
       "    </tr>\n",
       "    <tr>\n",
       "      <th>1</th>\n",
       "      <td>31.795</td>\n",
       "      <td>COLON SURESTE - ABAYUBA</td>\n",
       "      <td>58</td>\n",
       "      <td>POLYGON ((571329.308 6147787.334, 571320.034 6...</td>\n",
       "      <td>58.0</td>\n",
       "      <td>1250.000000</td>\n",
       "    </tr>\n",
       "    <tr>\n",
       "      <th>2</th>\n",
       "      <td>2.783</td>\n",
       "      <td>TRES OMBUES - VICTORIA</td>\n",
       "      <td>56</td>\n",
       "      <td>POLYGON ((569357.162 6141087.122, 569333.377 6...</td>\n",
       "      <td>56.0</td>\n",
       "      <td>1025.000000</td>\n",
       "    </tr>\n",
       "    <tr>\n",
       "      <th>3</th>\n",
       "      <td>0.784</td>\n",
       "      <td>LA BLANQUEADA</td>\n",
       "      <td>47</td>\n",
       "      <td>POLYGON ((578073.764 6139184.407, 578112.591 6...</td>\n",
       "      <td>47.0</td>\n",
       "      <td>1764.705882</td>\n",
       "    </tr>\n",
       "    <tr>\n",
       "      <th>4</th>\n",
       "      <td>1.873</td>\n",
       "      <td>BRAZO ORIENTAL</td>\n",
       "      <td>51</td>\n",
       "      <td>POLYGON ((574735.970 6140971.174, 574735.915 6...</td>\n",
       "      <td>51.0</td>\n",
       "      <td>1507.936508</td>\n",
       "    </tr>\n",
       "  </tbody>\n",
       "</table>\n",
       "</div>"
      ],
      "text/plain": [
       "   area_km                 nombbarr  nrobarrio  \\\n",
       "0    2.111             CIUDAD VIEJA          1   \n",
       "1   31.795  COLON SURESTE - ABAYUBA         58   \n",
       "2    2.783   TRES OMBUES - VICTORIA         56   \n",
       "3    0.784            LA BLANQUEADA         47   \n",
       "4    1.873           BRAZO ORIENTAL         51   \n",
       "\n",
       "                                            geometry  cod_barrio_ine  \\\n",
       "0  POLYGON ((573146.276 6137144.661, 573148.256 6...             1.0   \n",
       "1  POLYGON ((571329.308 6147787.334, 571320.034 6...            58.0   \n",
       "2  POLYGON ((569357.162 6141087.122, 569333.377 6...            56.0   \n",
       "3  POLYGON ((578073.764 6139184.407, 578112.591 6...            47.0   \n",
       "4  POLYGON ((574735.970 6140971.174, 574735.915 6...            51.0   \n",
       "\n",
       "   valor_metro  \n",
       "0   852.941176  \n",
       "1  1250.000000  \n",
       "2  1025.000000  \n",
       "3  1764.705882  \n",
       "4  1507.936508  "
      ]
     },
     "execution_count": 19,
     "metadata": {},
     "output_type": "execute_result"
    }
   ],
   "source": [
    "cols = ['cod_barrio_ine', 'valor_metro']\n",
    "\n",
    "geo = pd.merge(barrios, agru[cols], how='left', left_on='nrobarrio', right_on='cod_barrio_ine')\n",
    "geo.head()"
   ]
  },
  {
   "cell_type": "code",
   "execution_count": 20,
   "id": "35c7707e",
   "metadata": {},
   "outputs": [],
   "source": [
    "geo.to_file(f'capas/median_{fecha}.gpkg', driver=\"GPKG\")"
   ]
  },
  {
   "cell_type": "code",
   "execution_count": 21,
   "id": "24757ecc-07d8-4882-895f-311f213e448e",
   "metadata": {},
   "outputs": [
    {
     "data": {
      "text/plain": [
       "1212.670495333812"
      ]
     },
     "execution_count": 21,
     "metadata": {},
     "output_type": "execute_result"
    }
   ],
   "source": [
    "geo.valor_metro.median()"
   ]
  },
  {
   "cell_type": "markdown",
   "id": "de55c391-81ac-442c-9a42-28d5ae5a9e06",
   "metadata": {},
   "source": [
    "### Hexágonos"
   ]
  },
  {
   "cell_type": "code",
   "execution_count": 22,
   "id": "096ac295-7ae4-4c0a-b9e4-0f024cb5c862",
   "metadata": {},
   "outputs": [
    {
     "data": {
      "text/html": [
       "<div>\n",
       "<style scoped>\n",
       "    .dataframe tbody tr th:only-of-type {\n",
       "        vertical-align: middle;\n",
       "    }\n",
       "\n",
       "    .dataframe tbody tr th {\n",
       "        vertical-align: top;\n",
       "    }\n",
       "\n",
       "    .dataframe thead th {\n",
       "        text-align: right;\n",
       "    }\n",
       "</style>\n",
       "<table border=\"1\" class=\"dataframe\">\n",
       "  <thead>\n",
       "    <tr style=\"text-align: right;\">\n",
       "      <th></th>\n",
       "      <th>id</th>\n",
       "      <th>geometry</th>\n",
       "    </tr>\n",
       "  </thead>\n",
       "  <tbody>\n",
       "    <tr>\n",
       "      <th>0</th>\n",
       "      <td>555</td>\n",
       "      <td>POLYGON ((556312.789 6147560.250, 556457.127 6...</td>\n",
       "    </tr>\n",
       "    <tr>\n",
       "      <th>1</th>\n",
       "      <td>554</td>\n",
       "      <td>POLYGON ((556312.789 6148060.250, 556457.127 6...</td>\n",
       "    </tr>\n",
       "  </tbody>\n",
       "</table>\n",
       "</div>"
      ],
      "text/plain": [
       "    id                                           geometry\n",
       "0  555  POLYGON ((556312.789 6147560.250, 556457.127 6...\n",
       "1  554  POLYGON ((556312.789 6148060.250, 556457.127 6..."
      ]
     },
     "execution_count": 22,
     "metadata": {},
     "output_type": "execute_result"
    }
   ],
   "source": [
    "grid = gpd.read_file('capas/grilla_hex.gpkg').set_crs(32721)\n",
    "grid.head(2)"
   ]
  },
  {
   "cell_type": "code",
   "execution_count": 23,
   "id": "a0037c63-2ee5-4312-8395-970208cb26f8",
   "metadata": {},
   "outputs": [
    {
     "data": {
      "text/html": [
       "<div>\n",
       "<style scoped>\n",
       "    .dataframe tbody tr th:only-of-type {\n",
       "        vertical-align: middle;\n",
       "    }\n",
       "\n",
       "    .dataframe tbody tr th {\n",
       "        vertical-align: top;\n",
       "    }\n",
       "\n",
       "    .dataframe thead th {\n",
       "        text-align: right;\n",
       "    }\n",
       "</style>\n",
       "<table border=\"1\" class=\"dataframe\">\n",
       "  <thead>\n",
       "    <tr style=\"text-align: right;\">\n",
       "      <th></th>\n",
       "      <th>id</th>\n",
       "      <th>geometry</th>\n",
       "      <th>index_right</th>\n",
       "      <th>desc</th>\n",
       "      <th>valor</th>\n",
       "      <th>metraje</th>\n",
       "      <th>url</th>\n",
       "      <th>lat</th>\n",
       "      <th>lng</th>\n",
       "      <th>dormitorios</th>\n",
       "      <th>barrio</th>\n",
       "      <th>barrio_ine</th>\n",
       "      <th>cod_barrio_ine</th>\n",
       "      <th>valor_metro</th>\n",
       "    </tr>\n",
       "  </thead>\n",
       "  <tbody>\n",
       "    <tr>\n",
       "      <th>0</th>\n",
       "      <td>555</td>\n",
       "      <td>POLYGON ((556312.789 6147560.250, 556457.127 6...</td>\n",
       "      <td>NaN</td>\n",
       "      <td>NaN</td>\n",
       "      <td>NaN</td>\n",
       "      <td>NaN</td>\n",
       "      <td>NaN</td>\n",
       "      <td>NaN</td>\n",
       "      <td>NaN</td>\n",
       "      <td>NaN</td>\n",
       "      <td>NaN</td>\n",
       "      <td>NaN</td>\n",
       "      <td>NaN</td>\n",
       "      <td>NaN</td>\n",
       "    </tr>\n",
       "    <tr>\n",
       "      <th>1</th>\n",
       "      <td>554</td>\n",
       "      <td>POLYGON ((556312.789 6148060.250, 556457.127 6...</td>\n",
       "      <td>NaN</td>\n",
       "      <td>NaN</td>\n",
       "      <td>NaN</td>\n",
       "      <td>NaN</td>\n",
       "      <td>NaN</td>\n",
       "      <td>NaN</td>\n",
       "      <td>NaN</td>\n",
       "      <td>NaN</td>\n",
       "      <td>NaN</td>\n",
       "      <td>NaN</td>\n",
       "      <td>NaN</td>\n",
       "      <td>NaN</td>\n",
       "    </tr>\n",
       "    <tr>\n",
       "      <th>2</th>\n",
       "      <td>553</td>\n",
       "      <td>POLYGON ((556312.789 6148560.250, 556457.127 6...</td>\n",
       "      <td>NaN</td>\n",
       "      <td>NaN</td>\n",
       "      <td>NaN</td>\n",
       "      <td>NaN</td>\n",
       "      <td>NaN</td>\n",
       "      <td>NaN</td>\n",
       "      <td>NaN</td>\n",
       "      <td>NaN</td>\n",
       "      <td>NaN</td>\n",
       "      <td>NaN</td>\n",
       "      <td>NaN</td>\n",
       "      <td>NaN</td>\n",
       "    </tr>\n",
       "    <tr>\n",
       "      <th>3</th>\n",
       "      <td>552</td>\n",
       "      <td>POLYGON ((556312.789 6149060.250, 556457.127 6...</td>\n",
       "      <td>NaN</td>\n",
       "      <td>NaN</td>\n",
       "      <td>NaN</td>\n",
       "      <td>NaN</td>\n",
       "      <td>NaN</td>\n",
       "      <td>NaN</td>\n",
       "      <td>NaN</td>\n",
       "      <td>NaN</td>\n",
       "      <td>NaN</td>\n",
       "      <td>NaN</td>\n",
       "      <td>NaN</td>\n",
       "      <td>NaN</td>\n",
       "    </tr>\n",
       "    <tr>\n",
       "      <th>4</th>\n",
       "      <td>559</td>\n",
       "      <td>POLYGON ((556312.789 6145560.250, 556457.127 6...</td>\n",
       "      <td>NaN</td>\n",
       "      <td>NaN</td>\n",
       "      <td>NaN</td>\n",
       "      <td>NaN</td>\n",
       "      <td>NaN</td>\n",
       "      <td>NaN</td>\n",
       "      <td>NaN</td>\n",
       "      <td>NaN</td>\n",
       "      <td>NaN</td>\n",
       "      <td>NaN</td>\n",
       "      <td>NaN</td>\n",
       "      <td>NaN</td>\n",
       "    </tr>\n",
       "  </tbody>\n",
       "</table>\n",
       "</div>"
      ],
      "text/plain": [
       "    id                                           geometry  index_right desc  \\\n",
       "0  555  POLYGON ((556312.789 6147560.250, 556457.127 6...          NaN  NaN   \n",
       "1  554  POLYGON ((556312.789 6148060.250, 556457.127 6...          NaN  NaN   \n",
       "2  553  POLYGON ((556312.789 6148560.250, 556457.127 6...          NaN  NaN   \n",
       "3  552  POLYGON ((556312.789 6149060.250, 556457.127 6...          NaN  NaN   \n",
       "4  559  POLYGON ((556312.789 6145560.250, 556457.127 6...          NaN  NaN   \n",
       "\n",
       "   valor  metraje  url  lat  lng dormitorios barrio barrio_ine  \\\n",
       "0    NaN      NaN  NaN  NaN  NaN         NaN    NaN        NaN   \n",
       "1    NaN      NaN  NaN  NaN  NaN         NaN    NaN        NaN   \n",
       "2    NaN      NaN  NaN  NaN  NaN         NaN    NaN        NaN   \n",
       "3    NaN      NaN  NaN  NaN  NaN         NaN    NaN        NaN   \n",
       "4    NaN      NaN  NaN  NaN  NaN         NaN    NaN        NaN   \n",
       "\n",
       "   cod_barrio_ine  valor_metro  \n",
       "0             NaN          NaN  \n",
       "1             NaN          NaN  \n",
       "2             NaN          NaN  \n",
       "3             NaN          NaN  \n",
       "4             NaN          NaN  "
      ]
     },
     "execution_count": 23,
     "metadata": {},
     "output_type": "execute_result"
    }
   ],
   "source": [
    "pegue = sjoin(grid, geodata, how=\"left\")\n",
    "pegue.head()"
   ]
  },
  {
   "cell_type": "code",
   "execution_count": 24,
   "id": "53b66907-b189-470f-a685-acbec7f4bef3",
   "metadata": {},
   "outputs": [
    {
     "data": {
      "text/plain": [
       "6666.666666666667"
      ]
     },
     "execution_count": 24,
     "metadata": {},
     "output_type": "execute_result"
    }
   ],
   "source": [
    "pegue.valor_metro.max()"
   ]
  },
  {
   "cell_type": "code",
   "execution_count": 25,
   "id": "30f30d33-c8d9-44db-b1d3-d389e8284b2d",
   "metadata": {},
   "outputs": [
    {
     "data": {
      "text/html": [
       "<div>\n",
       "<style scoped>\n",
       "    .dataframe tbody tr th:only-of-type {\n",
       "        vertical-align: middle;\n",
       "    }\n",
       "\n",
       "    .dataframe tbody tr th {\n",
       "        vertical-align: top;\n",
       "    }\n",
       "\n",
       "    .dataframe thead th {\n",
       "        text-align: right;\n",
       "    }\n",
       "</style>\n",
       "<table border=\"1\" class=\"dataframe\">\n",
       "  <thead>\n",
       "    <tr style=\"text-align: right;\">\n",
       "      <th></th>\n",
       "      <th>id</th>\n",
       "      <th>index_right</th>\n",
       "      <th>valor</th>\n",
       "      <th>metraje</th>\n",
       "      <th>lat</th>\n",
       "      <th>lng</th>\n",
       "      <th>cod_barrio_ine</th>\n",
       "      <th>valor_metro</th>\n",
       "    </tr>\n",
       "  </thead>\n",
       "  <tbody>\n",
       "    <tr>\n",
       "      <th>0</th>\n",
       "      <td>28</td>\n",
       "      <td>NaN</td>\n",
       "      <td>NaN</td>\n",
       "      <td>NaN</td>\n",
       "      <td>NaN</td>\n",
       "      <td>NaN</td>\n",
       "      <td>NaN</td>\n",
       "      <td>NaN</td>\n",
       "    </tr>\n",
       "    <tr>\n",
       "      <th>1</th>\n",
       "      <td>29</td>\n",
       "      <td>NaN</td>\n",
       "      <td>NaN</td>\n",
       "      <td>NaN</td>\n",
       "      <td>NaN</td>\n",
       "      <td>NaN</td>\n",
       "      <td>NaN</td>\n",
       "      <td>NaN</td>\n",
       "    </tr>\n",
       "    <tr>\n",
       "      <th>2</th>\n",
       "      <td>30</td>\n",
       "      <td>NaN</td>\n",
       "      <td>NaN</td>\n",
       "      <td>NaN</td>\n",
       "      <td>NaN</td>\n",
       "      <td>NaN</td>\n",
       "      <td>NaN</td>\n",
       "      <td>NaN</td>\n",
       "    </tr>\n",
       "    <tr>\n",
       "      <th>3</th>\n",
       "      <td>80</td>\n",
       "      <td>NaN</td>\n",
       "      <td>NaN</td>\n",
       "      <td>NaN</td>\n",
       "      <td>NaN</td>\n",
       "      <td>NaN</td>\n",
       "      <td>NaN</td>\n",
       "      <td>NaN</td>\n",
       "    </tr>\n",
       "    <tr>\n",
       "      <th>4</th>\n",
       "      <td>81</td>\n",
       "      <td>NaN</td>\n",
       "      <td>NaN</td>\n",
       "      <td>NaN</td>\n",
       "      <td>NaN</td>\n",
       "      <td>NaN</td>\n",
       "      <td>NaN</td>\n",
       "      <td>NaN</td>\n",
       "    </tr>\n",
       "  </tbody>\n",
       "</table>\n",
       "</div>"
      ],
      "text/plain": [
       "   id  index_right  valor  metraje  lat  lng  cod_barrio_ine  valor_metro\n",
       "0  28          NaN    NaN      NaN  NaN  NaN             NaN          NaN\n",
       "1  29          NaN    NaN      NaN  NaN  NaN             NaN          NaN\n",
       "2  30          NaN    NaN      NaN  NaN  NaN             NaN          NaN\n",
       "3  80          NaN    NaN      NaN  NaN  NaN             NaN          NaN\n",
       "4  81          NaN    NaN      NaN  NaN  NaN             NaN          NaN"
      ]
     },
     "execution_count": 25,
     "metadata": {},
     "output_type": "execute_result"
    }
   ],
   "source": [
    "agru = pegue.groupby('id').median('valor_metro').reset_index()\n",
    "\n",
    "agru.head()"
   ]
  },
  {
   "cell_type": "code",
   "execution_count": 26,
   "id": "24b4a30c-62d5-4607-8feb-bdd6a4ef110d",
   "metadata": {},
   "outputs": [],
   "source": [
    "data_grid = grid.merge(agru, on='id', how='left')[['id', 'valor_metro', 'geometry']]"
   ]
  },
  {
   "cell_type": "code",
   "execution_count": 27,
   "id": "da121534-759b-47d0-b73a-36026bb3549a",
   "metadata": {},
   "outputs": [],
   "source": [
    "data_grid.to_file(f'capas/grid_median_{fecha}.gpkg', driver=\"GPKG\")"
   ]
  }
 ],
 "metadata": {
  "kernelspec": {
   "display_name": "Python 3.9.9 ('vector')",
   "language": "python",
   "name": "python3"
  },
  "language_info": {
   "codemirror_mode": {
    "name": "ipython",
    "version": 3
   },
   "file_extension": ".py",
   "mimetype": "text/x-python",
   "name": "python",
   "nbconvert_exporter": "python",
   "pygments_lexer": "ipython3",
   "version": "3.9.9"
  },
  "vscode": {
   "interpreter": {
    "hash": "92ccc4e6cafc0c9d66fecef53cdccd2f7555f5f6921d03f3fc65cf7d49eea3ae"
   }
  }
 },
 "nbformat": 4,
 "nbformat_minor": 5
}

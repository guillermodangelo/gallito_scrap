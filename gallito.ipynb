{
 "metadata": {
  "language_info": {
   "codemirror_mode": {
    "name": "ipython",
    "version": 3
   },
   "file_extension": ".py",
   "mimetype": "text/x-python",
   "name": "python",
   "nbconvert_exporter": "python",
   "pygments_lexer": "ipython3",
   "version": "3.9.6"
  },
  "orig_nbformat": 4,
  "kernelspec": {
   "name": "python3",
   "display_name": "Python 3.9.6 64-bit ('scrap': conda)"
  },
  "interpreter": {
   "hash": "24c9600e5b7339f449bd335ad8180591b83c0fdfdd17b90ba098a9687ce7e6ad"
  }
 },
 "nbformat": 4,
 "nbformat_minor": 2,
 "cells": [
  {
   "cell_type": "code",
   "execution_count": 1,
   "metadata": {},
   "outputs": [],
   "source": [
    "from selenium import webdriver\n",
    "from selenium.webdriver.common.by import By\n",
    "from selenium.webdriver.support.ui import WebDriverWait\n",
    "from selenium.webdriver.support import expected_conditions as EC\n",
    "\n",
    "import pandas as pd\n",
    "import time\n",
    "\n",
    "from bs4 import BeautifulSoup"
   ]
  },
  {
   "cell_type": "code",
   "execution_count": 2,
   "metadata": {},
   "outputs": [],
   "source": [
    "def flatten(t):\n",
    "    return [item for sublist in t for item in sublist]"
   ]
  },
  {
   "cell_type": "code",
   "execution_count": 3,
   "metadata": {},
   "outputs": [],
   "source": [
    "driver = webdriver.Chrome('C:/Users/user/Documents/chromedriver.exe')"
   ]
  },
  {
   "cell_type": "code",
   "execution_count": 4,
   "metadata": {},
   "outputs": [],
   "source": [
    "driver.get('https://www.gallito.com.uy/inmuebles/casas/venta/montevideo/ord_asc?pag=1')"
   ]
  },
  {
   "cell_type": "code",
   "execution_count": 38,
   "metadata": {},
   "outputs": [],
   "source": [
    "html = [e.get_attribute(\"innerHTML\") for e in driver.find_elements_by_css_selector('.contenedor-info .mas-info')]"
   ]
  },
  {
   "cell_type": "code",
   "execution_count": 94,
   "metadata": {},
   "outputs": [],
   "source": [
    "urls= ['https://www.gallito.com.uy/inmuebles/casas/venta/montevideo/ord_asc?pag={}'.format(i) for i in range(1, 3)]"
   ]
  },
  {
   "cell_type": "code",
   "execution_count": 95,
   "metadata": {},
   "outputs": [
    {
     "output_type": "execute_result",
     "data": {
      "text/plain": [
       "['https://www.gallito.com.uy/inmuebles/casas/venta/montevideo/ord_asc?pag=1',\n",
       " 'https://www.gallito.com.uy/inmuebles/casas/venta/montevideo/ord_asc?pag=2']"
      ]
     },
     "metadata": {},
     "execution_count": 95
    }
   ],
   "source": [
    "urls"
   ]
  },
  {
   "cell_type": "code",
   "execution_count": 123,
   "metadata": {},
   "outputs": [],
   "source": [
    "    data = []\n",
    "    metraje = []\n",
    "    for url in urls:\n",
    "        try:\n",
    "            driver.get(url)\n",
    "        except:\n",
    "            print('Get method failed, check URL.')\n",
    "        pagina = [e.text.splitlines() for e in driver.find_elements_by_css_selector('.contenedor-info')]\n",
    "        data.append(pagina)\n",
    "        html = [e.get_attribute(\"innerHTML\") for e in driver.find_elements_by_css_selector('.contenedor-info .mas-info')]\n",
    "        for i in html:\n",
    "            soup = BeautifulSoup(i, \"html.parser\")\n",
    "            metraje.append(soup.span.text)\n",
    "    flat_list = flatten(data)\n",
    "    result = pd.DataFrame(flat_list, columns=['desc', 'valor'])\n",
    "    result['metraje'] = metraje\n",
    "    result['metraje'] = result['metraje'].replace({' m2': ''}, regex=True)"
   ]
  },
  {
   "cell_type": "code",
   "execution_count": 5,
   "metadata": {},
   "outputs": [],
   "source": [
    "urls= ['https://www.gallito.com.uy/inmuebles/casas/venta/montevideo/ord_asc?pag={}'.format(i) for i in range(1, 155)]"
   ]
  },
  {
   "cell_type": "code",
   "execution_count": 7,
   "metadata": {},
   "outputs": [],
   "source": [
    "def scrapper(urls):\n",
    "    data = []\n",
    "    metraje = []\n",
    "    for url in urls:\n",
    "        try:\n",
    "            driver.get(url)\n",
    "        except:\n",
    "            print('Get method failed, check URL.')\n",
    "        pagina = [e.text.splitlines() for e in driver.find_elements_by_css_selector('.contenedor-info')]\n",
    "        data.append(pagina)\n",
    "        html = [e.get_attribute(\"innerHTML\") for e in driver.find_elements_by_css_selector('.contenedor-info .mas-info')]\n",
    "\n",
    "        for i in html:\n",
    "            soup = BeautifulSoup(i, \"html.parser\")\n",
    "            metraje.append(soup.span.text)\n",
    "\n",
    "        time.sleep(1)\n",
    "\n",
    "    flat_list = flatten(data)\n",
    "    result = pd.DataFrame(flat_list, columns=['desc', 'valor'])\n",
    "    result['metraje'] = metraje\n",
    "    result['metraje'] = result['metraje'].replace({' m2': ''}, regex=True)\n",
    "    \n",
    "    return result"
   ]
  },
  {
   "cell_type": "code",
   "execution_count": 8,
   "metadata": {},
   "outputs": [],
   "source": [
    "data = scrapper(urls)"
   ]
  },
  {
   "cell_type": "code",
   "execution_count": 12,
   "metadata": {},
   "outputs": [
    {
     "output_type": "execute_result",
     "data": {
      "text/plain": [
       "                              desc       valor metraje\n",
       "0    2 Dormitorios en Ciudad Vieja       U$S 1     160\n",
       "1  Más de 4 dormitorios en Pocitos       U$S 1     300\n",
       "2     Más de 4 dormitorios en Otro     U$S 100     500\n",
       "3   3 Dormitorios en Maroñas Curva     U$S 115      82\n",
       "4            3 Dormitorios en Goes     U$S 120      67\n",
       "5           2 Dormitorios en Prado     U$S 199        \n",
       "6         2 Dormitorios en Maroñas   $U 16.500      59\n",
       "7   3 Dormitorios en Pocitos Nuevo   $U 38.000     150\n",
       "8            1 Dormitorio en Colon   $U 65.000      50\n",
       "9     3 Dormitorios en Arroyo Seco  $U 128.000     115"
      ],
      "text/html": "<div>\n<style scoped>\n    .dataframe tbody tr th:only-of-type {\n        vertical-align: middle;\n    }\n\n    .dataframe tbody tr th {\n        vertical-align: top;\n    }\n\n    .dataframe thead th {\n        text-align: right;\n    }\n</style>\n<table border=\"1\" class=\"dataframe\">\n  <thead>\n    <tr style=\"text-align: right;\">\n      <th></th>\n      <th>desc</th>\n      <th>valor</th>\n      <th>metraje</th>\n    </tr>\n  </thead>\n  <tbody>\n    <tr>\n      <th>0</th>\n      <td>2 Dormitorios en Ciudad Vieja</td>\n      <td>U$S 1</td>\n      <td>160</td>\n    </tr>\n    <tr>\n      <th>1</th>\n      <td>Más de 4 dormitorios en Pocitos</td>\n      <td>U$S 1</td>\n      <td>300</td>\n    </tr>\n    <tr>\n      <th>2</th>\n      <td>Más de 4 dormitorios en Otro</td>\n      <td>U$S 100</td>\n      <td>500</td>\n    </tr>\n    <tr>\n      <th>3</th>\n      <td>3 Dormitorios en Maroñas Curva</td>\n      <td>U$S 115</td>\n      <td>82</td>\n    </tr>\n    <tr>\n      <th>4</th>\n      <td>3 Dormitorios en Goes</td>\n      <td>U$S 120</td>\n      <td>67</td>\n    </tr>\n    <tr>\n      <th>5</th>\n      <td>2 Dormitorios en Prado</td>\n      <td>U$S 199</td>\n      <td></td>\n    </tr>\n    <tr>\n      <th>6</th>\n      <td>2 Dormitorios en Maroñas</td>\n      <td>$U 16.500</td>\n      <td>59</td>\n    </tr>\n    <tr>\n      <th>7</th>\n      <td>3 Dormitorios en Pocitos Nuevo</td>\n      <td>$U 38.000</td>\n      <td>150</td>\n    </tr>\n    <tr>\n      <th>8</th>\n      <td>1 Dormitorio en Colon</td>\n      <td>$U 65.000</td>\n      <td>50</td>\n    </tr>\n    <tr>\n      <th>9</th>\n      <td>3 Dormitorios en Arroyo Seco</td>\n      <td>$U 128.000</td>\n      <td>115</td>\n    </tr>\n  </tbody>\n</table>\n</div>"
     },
     "metadata": {},
     "execution_count": 12
    }
   ],
   "source": [
    "data.head(10)"
   ]
  },
  {
   "cell_type": "code",
   "execution_count": 9,
   "metadata": {},
   "outputs": [
    {
     "output_type": "execute_result",
     "data": {
      "text/plain": [
       "(6129, 3)"
      ]
     },
     "metadata": {},
     "execution_count": 9
    }
   ],
   "source": [
    "data.shape"
   ]
  },
  {
   "cell_type": "code",
   "execution_count": 11,
   "metadata": {},
   "outputs": [],
   "source": [
    "data.to_csv('ventas_mvdeo_20210706.csv', index=False)"
   ]
  },
  {
   "cell_type": "code",
   "execution_count": 98,
   "metadata": {},
   "outputs": [],
   "source": [
    "# limpieza\n",
    "data = pd.read_csv('ventas_mvdeo_20210706.csv')\n",
    "\n",
    "data['valor'].str.replace('U', '')\n",
    "\n",
    "for word, rep in {\"U\":\" \", \"S\":\"\", \"$\":\"\", \".\":\"\"}.items():\n",
    "    data['valor'] = data['valor'].str.replace(word, rep, regex=False)"
   ]
  },
  {
   "cell_type": "code",
   "execution_count": 99,
   "metadata": {},
   "outputs": [],
   "source": [
    "data['valor'] = data['valor'].astype(int)"
   ]
  },
  {
   "cell_type": "code",
   "execution_count": 100,
   "metadata": {},
   "outputs": [
    {
     "output_type": "execute_result",
     "data": {
      "text/plain": [
       "6129"
      ]
     },
     "metadata": {},
     "execution_count": 100
    }
   ],
   "source": [
    "len(data)"
   ]
  },
  {
   "cell_type": "code",
   "execution_count": 101,
   "metadata": {},
   "outputs": [
    {
     "output_type": "execute_result",
     "data": {
      "text/plain": [
       "                               desc   valor  metraje\n",
       "8             1 Dormitorio en Colon   65000     50.0\n",
       "9      3 Dormitorios en Arroyo Seco  128000    115.0\n",
       "11     3 Dormitorios en Prado Norte  155000    146.0\n",
       "12  4 Dormitorios en Punta Carretas  198000     81.0\n",
       "13          3 Dormitorios en Malvin  230000     95.0"
      ],
      "text/html": "<div>\n<style scoped>\n    .dataframe tbody tr th:only-of-type {\n        vertical-align: middle;\n    }\n\n    .dataframe tbody tr th {\n        vertical-align: top;\n    }\n\n    .dataframe thead th {\n        text-align: right;\n    }\n</style>\n<table border=\"1\" class=\"dataframe\">\n  <thead>\n    <tr style=\"text-align: right;\">\n      <th></th>\n      <th>desc</th>\n      <th>valor</th>\n      <th>metraje</th>\n    </tr>\n  </thead>\n  <tbody>\n    <tr>\n      <th>8</th>\n      <td>1 Dormitorio en Colon</td>\n      <td>65000</td>\n      <td>50.0</td>\n    </tr>\n    <tr>\n      <th>9</th>\n      <td>3 Dormitorios en Arroyo Seco</td>\n      <td>128000</td>\n      <td>115.0</td>\n    </tr>\n    <tr>\n      <th>11</th>\n      <td>3 Dormitorios en Prado Norte</td>\n      <td>155000</td>\n      <td>146.0</td>\n    </tr>\n    <tr>\n      <th>12</th>\n      <td>4 Dormitorios en Punta Carretas</td>\n      <td>198000</td>\n      <td>81.0</td>\n    </tr>\n    <tr>\n      <th>13</th>\n      <td>3 Dormitorios en Malvin</td>\n      <td>230000</td>\n      <td>95.0</td>\n    </tr>\n  </tbody>\n</table>\n</div>"
     },
     "metadata": {},
     "execution_count": 101
    }
   ],
   "source": [
    "data = data.loc[~((data.valor == 111111111) | (data.valor < 45000))]\n",
    "data.head()"
   ]
  },
  {
   "cell_type": "code",
   "execution_count": 102,
   "metadata": {},
   "outputs": [],
   "source": [
    "data[['dormitorios', 'barrio']] = data['desc'].str.split(' en ', n = 1, expand = True)"
   ]
  },
  {
   "cell_type": "code",
   "execution_count": 103,
   "metadata": {},
   "outputs": [
    {
     "output_type": "execute_result",
     "data": {
      "text/plain": [
       "                                      desc    valor  metraje  \\\n",
       "8                    1 Dormitorio en Colon    65000     50.0   \n",
       "9             3 Dormitorios en Arroyo Seco   128000    115.0   \n",
       "11            3 Dormitorios en Prado Norte   155000    146.0   \n",
       "12         4 Dormitorios en Punta Carretas   198000     81.0   \n",
       "13                 3 Dormitorios en Malvin   230000     95.0   \n",
       "...                                    ...      ...      ...   \n",
       "6123  Más de 4 dormitorios en Puerto Buceo  3000000   1288.0   \n",
       "6124      Más de 4 dormitorios en Carrasco  3000000    480.0   \n",
       "6125                  1 Ambiente en Cordon  3600000   3600.0   \n",
       "6126       Más de 4 dormitorios en Pocitos  4500000   1200.0   \n",
       "6127       Más de 4 dormitorios en Pocitos  4500000   1000.0   \n",
       "\n",
       "               dormitorios          barrio  \n",
       "8             1 Dormitorio           Colon  \n",
       "9            3 Dormitorios     Arroyo Seco  \n",
       "11           3 Dormitorios     Prado Norte  \n",
       "12           4 Dormitorios  Punta Carretas  \n",
       "13           3 Dormitorios          Malvin  \n",
       "...                    ...             ...  \n",
       "6123  Más de 4 dormitorios    Puerto Buceo  \n",
       "6124  Más de 4 dormitorios        Carrasco  \n",
       "6125            1 Ambiente          Cordon  \n",
       "6126  Más de 4 dormitorios         Pocitos  \n",
       "6127  Más de 4 dormitorios         Pocitos  \n",
       "\n",
       "[6089 rows x 5 columns]"
      ],
      "text/html": "<div>\n<style scoped>\n    .dataframe tbody tr th:only-of-type {\n        vertical-align: middle;\n    }\n\n    .dataframe tbody tr th {\n        vertical-align: top;\n    }\n\n    .dataframe thead th {\n        text-align: right;\n    }\n</style>\n<table border=\"1\" class=\"dataframe\">\n  <thead>\n    <tr style=\"text-align: right;\">\n      <th></th>\n      <th>desc</th>\n      <th>valor</th>\n      <th>metraje</th>\n      <th>dormitorios</th>\n      <th>barrio</th>\n    </tr>\n  </thead>\n  <tbody>\n    <tr>\n      <th>8</th>\n      <td>1 Dormitorio en Colon</td>\n      <td>65000</td>\n      <td>50.0</td>\n      <td>1 Dormitorio</td>\n      <td>Colon</td>\n    </tr>\n    <tr>\n      <th>9</th>\n      <td>3 Dormitorios en Arroyo Seco</td>\n      <td>128000</td>\n      <td>115.0</td>\n      <td>3 Dormitorios</td>\n      <td>Arroyo Seco</td>\n    </tr>\n    <tr>\n      <th>11</th>\n      <td>3 Dormitorios en Prado Norte</td>\n      <td>155000</td>\n      <td>146.0</td>\n      <td>3 Dormitorios</td>\n      <td>Prado Norte</td>\n    </tr>\n    <tr>\n      <th>12</th>\n      <td>4 Dormitorios en Punta Carretas</td>\n      <td>198000</td>\n      <td>81.0</td>\n      <td>4 Dormitorios</td>\n      <td>Punta Carretas</td>\n    </tr>\n    <tr>\n      <th>13</th>\n      <td>3 Dormitorios en Malvin</td>\n      <td>230000</td>\n      <td>95.0</td>\n      <td>3 Dormitorios</td>\n      <td>Malvin</td>\n    </tr>\n    <tr>\n      <th>...</th>\n      <td>...</td>\n      <td>...</td>\n      <td>...</td>\n      <td>...</td>\n      <td>...</td>\n    </tr>\n    <tr>\n      <th>6123</th>\n      <td>Más de 4 dormitorios en Puerto Buceo</td>\n      <td>3000000</td>\n      <td>1288.0</td>\n      <td>Más de 4 dormitorios</td>\n      <td>Puerto Buceo</td>\n    </tr>\n    <tr>\n      <th>6124</th>\n      <td>Más de 4 dormitorios en Carrasco</td>\n      <td>3000000</td>\n      <td>480.0</td>\n      <td>Más de 4 dormitorios</td>\n      <td>Carrasco</td>\n    </tr>\n    <tr>\n      <th>6125</th>\n      <td>1 Ambiente en Cordon</td>\n      <td>3600000</td>\n      <td>3600.0</td>\n      <td>1 Ambiente</td>\n      <td>Cordon</td>\n    </tr>\n    <tr>\n      <th>6126</th>\n      <td>Más de 4 dormitorios en Pocitos</td>\n      <td>4500000</td>\n      <td>1200.0</td>\n      <td>Más de 4 dormitorios</td>\n      <td>Pocitos</td>\n    </tr>\n    <tr>\n      <th>6127</th>\n      <td>Más de 4 dormitorios en Pocitos</td>\n      <td>4500000</td>\n      <td>1000.0</td>\n      <td>Más de 4 dormitorios</td>\n      <td>Pocitos</td>\n    </tr>\n  </tbody>\n</table>\n<p>6089 rows × 5 columns</p>\n</div>"
     },
     "metadata": {},
     "execution_count": 103
    }
   ],
   "source": [
    "data"
   ]
  },
  {
   "cell_type": "code",
   "execution_count": 104,
   "metadata": {},
   "outputs": [],
   "source": [
    "data.to_csv('ventas_mvdeo_20210706_depu.csv', index=False)"
   ]
  },
  {
   "cell_type": "code",
   "execution_count": 108,
   "metadata": {},
   "outputs": [],
   "source": [
    "pd.Series(data.barrio.unique()).to_csv('cod.csv')"
   ]
  },
  {
   "cell_type": "code",
   "execution_count": 110,
   "metadata": {},
   "outputs": [],
   "source": [
    "def format_barrio(df, column):\n",
    "    \"Formatea strings de Barrio Gallito a Barrio INE\"\n",
    "    barrios_dict = {\n",
    "                'Cno. Maldonado' : 'Colón Centro y Noroeste',\n",
    "                'Colon' : 'Colón Sureste, Abayubá',\n",
    "                'Cordon' : 'Cordón',\n",
    "                'Golf' : 'Flor de Maroñas',\n",
    "                'Ituzaingo' : 'Ituzaingó',\n",
    "                'J. Hipodromo' : 'Jardines del Hipódromo',\n",
    "                'Jacinto Vera' : 'Jacinto Vera',\n",
    "                'La Blanqueada' : 'La Blanqueada',\n",
    "                'La Comercial' : 'La Comercial',\n",
    "                'La Figurita' : 'La Figurita',\n",
    "                'La Teja' : 'La Teja',\n",
    "                'Larrañaga' : 'Larrañaga',\n",
    "                'Las Acacias' : 'Las Acacias',\n",
    "                'Lezica' : 'Lezica, Melilla',\n",
    "                'Malvin' : 'Malvín',\n",
    "                'Malvin Norte' : 'Malvín Norte',\n",
    "                'Manga' : 'Manga',\n",
    "                'Maroñas' : 'Maroñas, Parque Guaraní',\n",
    "                'Maroñas Curva' : 'Maroñas, Parque Guaraní',\n",
    "                'Melilla' : 'Lezica, Melilla',\n",
    "                'Nuevo Paris' : 'Mercado Modelo, Bolívar',\n",
    "                'Pajas Blancas' : 'Nuevo París',\n",
    "                'Palermo' : 'Palermo',\n",
    "                'Parque Batlle' : 'Parque Batlle, Villa Dolores',\n",
    "                'Parque Rodo' : 'Parque Rodó',\n",
    "                'Paso De La Arena' : 'Paso de la Arena',\n",
    "                'Peñarol' : 'Peñarol, Lavalleja',\n",
    "                'Perez Castellanos' : 'Castro, P. Castellanos',\n",
    "                'Piedras Blancas' : 'Piedras Blancas',\n",
    "                'Pocitos' : 'Pocitos',\n",
    "                'Pocitos Nuevo' : 'Pocitos',\n",
    "                'Prado' : 'Prado, Nueva Savona',\n",
    "                'Prado Norte' : 'Prado, Nueva Savona',\n",
    "                'Puerto Buceo' : 'Buceo',\n",
    "                'Punta Carretas' : 'Punta Carretas',\n",
    "                'Punta Gorda' : 'Punta Gorda',\n",
    "                'Punta Rieles' : 'Punta Rieles, Bella Italia',\n",
    "                'Reducto' : 'Reducto',\n",
    "                'Sayago' : 'Sayago',\n",
    "                'Tres Cruces' : 'Tres Cruces',\n",
    "                'Union' : 'Unión',\n",
    "                'Villa Dolores' : 'Parque Batlle, Villa Dolores',\n",
    "                'Villa Española' : 'Villa Española',\n",
    "                'Villa Muñoz' : 'Villa Muñoz, Retiro'\n",
    "        }\n",
    "\n",
    "    return df[column].map(barrios_dict)"
   ]
  },
  {
   "cell_type": "code",
   "execution_count": 114,
   "metadata": {},
   "outputs": [],
   "source": [
    "data['barrio_ine'] = format_barrio(data, 'barrio')"
   ]
  },
  {
   "cell_type": "code",
   "execution_count": 118,
   "metadata": {},
   "outputs": [],
   "source": [
    "def encode_barrio(df, column):\n",
    "    \"Codifica barrio INE\"\n",
    "    barrios_dict = {\n",
    "    'Ciudad Vieja':1,\n",
    "    'Centro':2,\n",
    "    'Barrio Sur':3,\n",
    "    'Cordón':4,\n",
    "    'Palermo':5,\n",
    "    'Parque Rodó':6,\n",
    "    'Punta Carretas':7,\n",
    "    'Pocitos':8,\n",
    "    'Buceo':9,\n",
    "    'Parque Batlle, Villa Dolores':10,\n",
    "    'Malvín':11,\n",
    "    'Malvín Norte':12,\n",
    "    'Punta Gorda':13,\n",
    "    'Carrasco':14,\n",
    "    'Carrasco Norte':15,\n",
    "    'Bañados de Carrasco':16,\n",
    "    'Maroñas, Parque Guaraní':17,\n",
    "    'Flor de Maroñas':18,\n",
    "    'Las Canteras':19,\n",
    "    'Punta Rieles, Bella Italia':20,\n",
    "    'Jardines del Hipódromo':21,\n",
    "    'Ituzaingó':22,\n",
    "    'Unión':23,\n",
    "    'Villa Española':24,\n",
    "    'Mercado Modelo, Bolívar':25,\n",
    "    'Castro, P. Castellanos':26,\n",
    "    'Cerrito':27,\n",
    "    'Las Acacias':28,\n",
    "    'Aires Puros':29,\n",
    "    'Casavalle':30,\n",
    "    'Piedras Blancas':31,\n",
    "    'Manga, Toledo Chico':32,\n",
    "    'Paso de las Duranas':33,\n",
    "    'Peñarol, Lavalleja':34,\n",
    "    'Cerro':35,\n",
    "    'Casabó, Pajas Blancas':36,\n",
    "    'La Paloma, Tomkinson':37,\n",
    "    'La Teja':38,\n",
    "    'Prado, Nueva Savona':39,\n",
    "    'Capurro, Bella Vista':40,\n",
    "    'Aguada':41,\n",
    "    'Reducto':42,\n",
    "    'Atahualpa':43,\n",
    "    'Jacinto Vera':44,\n",
    "    'La Figurita':45,\n",
    "    'Larrañaga':46,\n",
    "    'La Blanqueada':47,\n",
    "    'Villa Muñoz, Retiro':48,\n",
    "    'La Comercial':49,\n",
    "    'Tres Cruces':50,\n",
    "    'Brazo Oriental':51,\n",
    "    'Sayago':52,\n",
    "    'Conciliación':53,\n",
    "    'Belvedere':54,\n",
    "    'Nuevo París':55,\n",
    "    'Tres Ombúes, Victoria':56,\n",
    "    'Paso de la Arena':57,\n",
    "    'Colón Sureste, Abayubá':58,\n",
    "    'Colón Centro y Noroeste':59,\n",
    "    'Lezica, Melilla':60,\n",
    "    'Villa García, Manga Rural':61,\n",
    "    'Manga':62\n",
    "        }\n",
    "    return df[column].map(barrios_dict)"
   ]
  },
  {
   "cell_type": "code",
   "execution_count": 120,
   "metadata": {},
   "outputs": [
    {
     "output_type": "execute_result",
     "data": {
      "text/plain": [
       "                               desc   valor  metraje    dormitorios  \\\n",
       "8             1 Dormitorio en Colon   65000     50.0   1 Dormitorio   \n",
       "9      3 Dormitorios en Arroyo Seco  128000    115.0  3 Dormitorios   \n",
       "11     3 Dormitorios en Prado Norte  155000    146.0  3 Dormitorios   \n",
       "12  4 Dormitorios en Punta Carretas  198000     81.0  4 Dormitorios   \n",
       "13          3 Dormitorios en Malvin  230000     95.0  3 Dormitorios   \n",
       "\n",
       "            barrio              barrio_ine  cod_barrio_ine  \n",
       "8            Colon  Colón Sureste, Abayubá            58.0  \n",
       "9      Arroyo Seco                     NaN             NaN  \n",
       "11     Prado Norte     Prado, Nueva Savona            39.0  \n",
       "12  Punta Carretas          Punta Carretas             7.0  \n",
       "13          Malvin                  Malvín            11.0  "
      ],
      "text/html": "<div>\n<style scoped>\n    .dataframe tbody tr th:only-of-type {\n        vertical-align: middle;\n    }\n\n    .dataframe tbody tr th {\n        vertical-align: top;\n    }\n\n    .dataframe thead th {\n        text-align: right;\n    }\n</style>\n<table border=\"1\" class=\"dataframe\">\n  <thead>\n    <tr style=\"text-align: right;\">\n      <th></th>\n      <th>desc</th>\n      <th>valor</th>\n      <th>metraje</th>\n      <th>dormitorios</th>\n      <th>barrio</th>\n      <th>barrio_ine</th>\n      <th>cod_barrio_ine</th>\n    </tr>\n  </thead>\n  <tbody>\n    <tr>\n      <th>8</th>\n      <td>1 Dormitorio en Colon</td>\n      <td>65000</td>\n      <td>50.0</td>\n      <td>1 Dormitorio</td>\n      <td>Colon</td>\n      <td>Colón Sureste, Abayubá</td>\n      <td>58.0</td>\n    </tr>\n    <tr>\n      <th>9</th>\n      <td>3 Dormitorios en Arroyo Seco</td>\n      <td>128000</td>\n      <td>115.0</td>\n      <td>3 Dormitorios</td>\n      <td>Arroyo Seco</td>\n      <td>NaN</td>\n      <td>NaN</td>\n    </tr>\n    <tr>\n      <th>11</th>\n      <td>3 Dormitorios en Prado Norte</td>\n      <td>155000</td>\n      <td>146.0</td>\n      <td>3 Dormitorios</td>\n      <td>Prado Norte</td>\n      <td>Prado, Nueva Savona</td>\n      <td>39.0</td>\n    </tr>\n    <tr>\n      <th>12</th>\n      <td>4 Dormitorios en Punta Carretas</td>\n      <td>198000</td>\n      <td>81.0</td>\n      <td>4 Dormitorios</td>\n      <td>Punta Carretas</td>\n      <td>Punta Carretas</td>\n      <td>7.0</td>\n    </tr>\n    <tr>\n      <th>13</th>\n      <td>3 Dormitorios en Malvin</td>\n      <td>230000</td>\n      <td>95.0</td>\n      <td>3 Dormitorios</td>\n      <td>Malvin</td>\n      <td>Malvín</td>\n      <td>11.0</td>\n    </tr>\n  </tbody>\n</table>\n</div>"
     },
     "metadata": {},
     "execution_count": 120
    }
   ],
   "source": [
    "data['cod_barrio_ine'] = encode_barrio(data, 'barrio_ine')\n",
    "data.head()"
   ]
  },
  {
   "cell_type": "code",
   "execution_count": null,
   "metadata": {},
   "outputs": [],
   "source": []
  }
 ]
}